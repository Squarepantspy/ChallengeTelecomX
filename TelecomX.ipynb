{
 "cells": [
  {
   "cell_type": "markdown",
   "id": "2ac9f3e5",
   "metadata": {},
   "source": [
    "# Challenge Telecom part 1\n",
    "Nombre : Pablo Gonzalez"
   ]
  },
  {
   "cell_type": "markdown",
   "id": "9d04f403",
   "metadata": {},
   "source": [
    "#### Extraccion"
   ]
  },
  {
   "cell_type": "code",
   "execution_count": 6,
   "id": "bfb3382a",
   "metadata": {},
   "outputs": [
    {
     "data": {
      "application/vnd.microsoft.datawrangler.viewer.v0+json": {
       "columns": [
        {
         "name": "index",
         "rawType": "int64",
         "type": "integer"
        },
        {
         "name": "customerID",
         "rawType": "object",
         "type": "string"
        },
        {
         "name": "Churn",
         "rawType": "object",
         "type": "string"
        },
        {
         "name": "customer.gender",
         "rawType": "object",
         "type": "string"
        },
        {
         "name": "customer.SeniorCitizen",
         "rawType": "int64",
         "type": "integer"
        },
        {
         "name": "customer.Partner",
         "rawType": "object",
         "type": "string"
        },
        {
         "name": "customer.Dependents",
         "rawType": "object",
         "type": "string"
        },
        {
         "name": "customer.tenure",
         "rawType": "int64",
         "type": "integer"
        },
        {
         "name": "phone.PhoneService",
         "rawType": "object",
         "type": "string"
        },
        {
         "name": "phone.MultipleLines",
         "rawType": "object",
         "type": "string"
        },
        {
         "name": "internet.InternetService",
         "rawType": "object",
         "type": "string"
        },
        {
         "name": "internet.OnlineSecurity",
         "rawType": "object",
         "type": "string"
        },
        {
         "name": "internet.OnlineBackup",
         "rawType": "object",
         "type": "string"
        },
        {
         "name": "internet.DeviceProtection",
         "rawType": "object",
         "type": "string"
        },
        {
         "name": "internet.TechSupport",
         "rawType": "object",
         "type": "string"
        },
        {
         "name": "internet.StreamingTV",
         "rawType": "object",
         "type": "string"
        },
        {
         "name": "internet.StreamingMovies",
         "rawType": "object",
         "type": "string"
        },
        {
         "name": "account.Contract",
         "rawType": "object",
         "type": "string"
        },
        {
         "name": "account.PaperlessBilling",
         "rawType": "object",
         "type": "string"
        },
        {
         "name": "account.PaymentMethod",
         "rawType": "object",
         "type": "string"
        },
        {
         "name": "account.Charges.Monthly",
         "rawType": "float64",
         "type": "float"
        },
        {
         "name": "account.Charges.Total",
         "rawType": "object",
         "type": "string"
        }
       ],
       "ref": "3af5ac8e-c3a4-452d-8666-5de537f14237",
       "rows": [
        [
         "0",
         "0002-ORFBO",
         "No",
         "Female",
         "0",
         "Yes",
         "Yes",
         "9",
         "Yes",
         "No",
         "DSL",
         "No",
         "Yes",
         "No",
         "Yes",
         "Yes",
         "No",
         "One year",
         "Yes",
         "Mailed check",
         "65.6",
         "593.3"
        ],
        [
         "1",
         "0003-MKNFE",
         "No",
         "Male",
         "0",
         "No",
         "No",
         "9",
         "Yes",
         "Yes",
         "DSL",
         "No",
         "No",
         "No",
         "No",
         "No",
         "Yes",
         "Month-to-month",
         "No",
         "Mailed check",
         "59.9",
         "542.4"
        ],
        [
         "2",
         "0004-TLHLJ",
         "Yes",
         "Male",
         "0",
         "No",
         "No",
         "4",
         "Yes",
         "No",
         "Fiber optic",
         "No",
         "No",
         "Yes",
         "No",
         "No",
         "No",
         "Month-to-month",
         "Yes",
         "Electronic check",
         "73.9",
         "280.85"
        ],
        [
         "3",
         "0011-IGKFF",
         "Yes",
         "Male",
         "1",
         "Yes",
         "No",
         "13",
         "Yes",
         "No",
         "Fiber optic",
         "No",
         "Yes",
         "Yes",
         "No",
         "Yes",
         "Yes",
         "Month-to-month",
         "Yes",
         "Electronic check",
         "98.0",
         "1237.85"
        ],
        [
         "4",
         "0013-EXCHZ",
         "Yes",
         "Female",
         "1",
         "Yes",
         "No",
         "3",
         "Yes",
         "No",
         "Fiber optic",
         "No",
         "No",
         "No",
         "Yes",
         "Yes",
         "No",
         "Month-to-month",
         "Yes",
         "Mailed check",
         "83.9",
         "267.4"
        ]
       ],
       "shape": {
        "columns": 21,
        "rows": 5
       }
      },
      "text/html": [
       "<div>\n",
       "<style scoped>\n",
       "    .dataframe tbody tr th:only-of-type {\n",
       "        vertical-align: middle;\n",
       "    }\n",
       "\n",
       "    .dataframe tbody tr th {\n",
       "        vertical-align: top;\n",
       "    }\n",
       "\n",
       "    .dataframe thead th {\n",
       "        text-align: right;\n",
       "    }\n",
       "</style>\n",
       "<table border=\"1\" class=\"dataframe\">\n",
       "  <thead>\n",
       "    <tr style=\"text-align: right;\">\n",
       "      <th></th>\n",
       "      <th>customerID</th>\n",
       "      <th>Churn</th>\n",
       "      <th>customer.gender</th>\n",
       "      <th>customer.SeniorCitizen</th>\n",
       "      <th>customer.Partner</th>\n",
       "      <th>customer.Dependents</th>\n",
       "      <th>customer.tenure</th>\n",
       "      <th>phone.PhoneService</th>\n",
       "      <th>phone.MultipleLines</th>\n",
       "      <th>internet.InternetService</th>\n",
       "      <th>...</th>\n",
       "      <th>internet.OnlineBackup</th>\n",
       "      <th>internet.DeviceProtection</th>\n",
       "      <th>internet.TechSupport</th>\n",
       "      <th>internet.StreamingTV</th>\n",
       "      <th>internet.StreamingMovies</th>\n",
       "      <th>account.Contract</th>\n",
       "      <th>account.PaperlessBilling</th>\n",
       "      <th>account.PaymentMethod</th>\n",
       "      <th>account.Charges.Monthly</th>\n",
       "      <th>account.Charges.Total</th>\n",
       "    </tr>\n",
       "  </thead>\n",
       "  <tbody>\n",
       "    <tr>\n",
       "      <th>0</th>\n",
       "      <td>0002-ORFBO</td>\n",
       "      <td>No</td>\n",
       "      <td>Female</td>\n",
       "      <td>0</td>\n",
       "      <td>Yes</td>\n",
       "      <td>Yes</td>\n",
       "      <td>9</td>\n",
       "      <td>Yes</td>\n",
       "      <td>No</td>\n",
       "      <td>DSL</td>\n",
       "      <td>...</td>\n",
       "      <td>Yes</td>\n",
       "      <td>No</td>\n",
       "      <td>Yes</td>\n",
       "      <td>Yes</td>\n",
       "      <td>No</td>\n",
       "      <td>One year</td>\n",
       "      <td>Yes</td>\n",
       "      <td>Mailed check</td>\n",
       "      <td>65.6</td>\n",
       "      <td>593.3</td>\n",
       "    </tr>\n",
       "    <tr>\n",
       "      <th>1</th>\n",
       "      <td>0003-MKNFE</td>\n",
       "      <td>No</td>\n",
       "      <td>Male</td>\n",
       "      <td>0</td>\n",
       "      <td>No</td>\n",
       "      <td>No</td>\n",
       "      <td>9</td>\n",
       "      <td>Yes</td>\n",
       "      <td>Yes</td>\n",
       "      <td>DSL</td>\n",
       "      <td>...</td>\n",
       "      <td>No</td>\n",
       "      <td>No</td>\n",
       "      <td>No</td>\n",
       "      <td>No</td>\n",
       "      <td>Yes</td>\n",
       "      <td>Month-to-month</td>\n",
       "      <td>No</td>\n",
       "      <td>Mailed check</td>\n",
       "      <td>59.9</td>\n",
       "      <td>542.4</td>\n",
       "    </tr>\n",
       "    <tr>\n",
       "      <th>2</th>\n",
       "      <td>0004-TLHLJ</td>\n",
       "      <td>Yes</td>\n",
       "      <td>Male</td>\n",
       "      <td>0</td>\n",
       "      <td>No</td>\n",
       "      <td>No</td>\n",
       "      <td>4</td>\n",
       "      <td>Yes</td>\n",
       "      <td>No</td>\n",
       "      <td>Fiber optic</td>\n",
       "      <td>...</td>\n",
       "      <td>No</td>\n",
       "      <td>Yes</td>\n",
       "      <td>No</td>\n",
       "      <td>No</td>\n",
       "      <td>No</td>\n",
       "      <td>Month-to-month</td>\n",
       "      <td>Yes</td>\n",
       "      <td>Electronic check</td>\n",
       "      <td>73.9</td>\n",
       "      <td>280.85</td>\n",
       "    </tr>\n",
       "    <tr>\n",
       "      <th>3</th>\n",
       "      <td>0011-IGKFF</td>\n",
       "      <td>Yes</td>\n",
       "      <td>Male</td>\n",
       "      <td>1</td>\n",
       "      <td>Yes</td>\n",
       "      <td>No</td>\n",
       "      <td>13</td>\n",
       "      <td>Yes</td>\n",
       "      <td>No</td>\n",
       "      <td>Fiber optic</td>\n",
       "      <td>...</td>\n",
       "      <td>Yes</td>\n",
       "      <td>Yes</td>\n",
       "      <td>No</td>\n",
       "      <td>Yes</td>\n",
       "      <td>Yes</td>\n",
       "      <td>Month-to-month</td>\n",
       "      <td>Yes</td>\n",
       "      <td>Electronic check</td>\n",
       "      <td>98.0</td>\n",
       "      <td>1237.85</td>\n",
       "    </tr>\n",
       "    <tr>\n",
       "      <th>4</th>\n",
       "      <td>0013-EXCHZ</td>\n",
       "      <td>Yes</td>\n",
       "      <td>Female</td>\n",
       "      <td>1</td>\n",
       "      <td>Yes</td>\n",
       "      <td>No</td>\n",
       "      <td>3</td>\n",
       "      <td>Yes</td>\n",
       "      <td>No</td>\n",
       "      <td>Fiber optic</td>\n",
       "      <td>...</td>\n",
       "      <td>No</td>\n",
       "      <td>No</td>\n",
       "      <td>Yes</td>\n",
       "      <td>Yes</td>\n",
       "      <td>No</td>\n",
       "      <td>Month-to-month</td>\n",
       "      <td>Yes</td>\n",
       "      <td>Mailed check</td>\n",
       "      <td>83.9</td>\n",
       "      <td>267.4</td>\n",
       "    </tr>\n",
       "  </tbody>\n",
       "</table>\n",
       "<p>5 rows × 21 columns</p>\n",
       "</div>"
      ],
      "text/plain": [
       "   customerID Churn customer.gender  customer.SeniorCitizen customer.Partner  \\\n",
       "0  0002-ORFBO    No          Female                       0              Yes   \n",
       "1  0003-MKNFE    No            Male                       0               No   \n",
       "2  0004-TLHLJ   Yes            Male                       0               No   \n",
       "3  0011-IGKFF   Yes            Male                       1              Yes   \n",
       "4  0013-EXCHZ   Yes          Female                       1              Yes   \n",
       "\n",
       "  customer.Dependents  customer.tenure phone.PhoneService phone.MultipleLines  \\\n",
       "0                 Yes                9                Yes                  No   \n",
       "1                  No                9                Yes                 Yes   \n",
       "2                  No                4                Yes                  No   \n",
       "3                  No               13                Yes                  No   \n",
       "4                  No                3                Yes                  No   \n",
       "\n",
       "  internet.InternetService  ... internet.OnlineBackup  \\\n",
       "0                      DSL  ...                   Yes   \n",
       "1                      DSL  ...                    No   \n",
       "2              Fiber optic  ...                    No   \n",
       "3              Fiber optic  ...                   Yes   \n",
       "4              Fiber optic  ...                    No   \n",
       "\n",
       "  internet.DeviceProtection internet.TechSupport internet.StreamingTV  \\\n",
       "0                        No                  Yes                  Yes   \n",
       "1                        No                   No                   No   \n",
       "2                       Yes                   No                   No   \n",
       "3                       Yes                   No                  Yes   \n",
       "4                        No                  Yes                  Yes   \n",
       "\n",
       "  internet.StreamingMovies account.Contract account.PaperlessBilling  \\\n",
       "0                       No         One year                      Yes   \n",
       "1                      Yes   Month-to-month                       No   \n",
       "2                       No   Month-to-month                      Yes   \n",
       "3                      Yes   Month-to-month                      Yes   \n",
       "4                       No   Month-to-month                      Yes   \n",
       "\n",
       "  account.PaymentMethod account.Charges.Monthly  account.Charges.Total  \n",
       "0          Mailed check                    65.6                  593.3  \n",
       "1          Mailed check                    59.9                  542.4  \n",
       "2      Electronic check                    73.9                 280.85  \n",
       "3      Electronic check                    98.0                1237.85  \n",
       "4          Mailed check                    83.9                  267.4  \n",
       "\n",
       "[5 rows x 21 columns]"
      ]
     },
     "execution_count": 6,
     "metadata": {},
     "output_type": "execute_result"
    }
   ],
   "source": [
    "#Realizamos los pasos de Extraccion, Transformacion y Carga (ETL) de los datos\n",
    "import pandas as pd\n",
    "import json\n",
    "import os\n",
    "\n",
    "\n",
    "# Abrir el archivo como texto y cargarlo como objeto JSON\n",
    "with open('TelecomX_Data.json', 'r', encoding='utf-8') as f:\n",
    "    data = json.load(f)\n",
    "\n",
    "# Normalizar el JSON anidado\n",
    "df = pd.json_normalize(data)\n",
    "df.head()"
   ]
  },
  {
   "cell_type": "code",
   "execution_count": 63,
   "id": "0aeb4cf5",
   "metadata": {},
   "outputs": [
    {
     "data": {
      "text/plain": [
       "np.int64(0)"
      ]
     },
     "execution_count": 63,
     "metadata": {},
     "output_type": "execute_result"
    }
   ],
   "source": [
    "df['customerID'].duplicated().sum()  # Verificar si hay IDs duplicados"
   ]
  },
  {
   "cell_type": "code",
   "execution_count": 9,
   "id": "655cb5aa",
   "metadata": {},
   "outputs": [
    {
     "name": "stdout",
     "output_type": "stream",
     "text": [
      "<class 'pandas.core.frame.DataFrame'>\n",
      "RangeIndex: 7267 entries, 0 to 7266\n",
      "Data columns (total 21 columns):\n",
      " #   Column                     Non-Null Count  Dtype  \n",
      "---  ------                     --------------  -----  \n",
      " 0   customerID                 7267 non-null   object \n",
      " 1   Churn                      7267 non-null   object \n",
      " 2   customer.gender            7267 non-null   object \n",
      " 3   customer.SeniorCitizen     7267 non-null   int64  \n",
      " 4   customer.Partner           7267 non-null   object \n",
      " 5   customer.Dependents        7267 non-null   object \n",
      " 6   customer.tenure            7267 non-null   int64  \n",
      " 7   phone.PhoneService         7267 non-null   object \n",
      " 8   phone.MultipleLines        7267 non-null   object \n",
      " 9   internet.InternetService   7267 non-null   object \n",
      " 10  internet.OnlineSecurity    7267 non-null   object \n",
      " 11  internet.OnlineBackup      7267 non-null   object \n",
      " 12  internet.DeviceProtection  7267 non-null   object \n",
      " 13  internet.TechSupport       7267 non-null   object \n",
      " 14  internet.StreamingTV       7267 non-null   object \n",
      " 15  internet.StreamingMovies   7267 non-null   object \n",
      " 16  account.Contract           7267 non-null   object \n",
      " 17  account.PaperlessBilling   7267 non-null   object \n",
      " 18  account.PaymentMethod      7267 non-null   object \n",
      " 19  account.Charges.Monthly    7267 non-null   float64\n",
      " 20  account.Charges.Total      7267 non-null   object \n",
      "dtypes: float64(1), int64(2), object(18)\n",
      "memory usage: 1.2+ MB\n"
     ]
    }
   ],
   "source": [
    "#vemos los tipos de datos de cada columna o df.dtypes\n",
    "df.info()"
   ]
  },
  {
   "cell_type": "markdown",
   "id": "5b08e727",
   "metadata": {},
   "source": [
    "#mantenemos las columnas que nos interesan  \n",
    "\n",
    "✔️ Muy importantes: Churn, tenure, Contract, Charges.Monthly, InternetService.\n",
    "\n",
    "✔️ Relevantes: SeniorCitizen, Partner, Dependents, OnlineSecurity, OnlineBackup, DeviceProtection, TechSupport, PaymentMethod, Charges.Total"
   ]
  },
  {
   "cell_type": "code",
   "execution_count": 129,
   "id": "8fef509f",
   "metadata": {},
   "outputs": [],
   "source": [
    "dataframe = df[['Churn', 'customer.tenure', 'account.Contract', 'account.Charges.Monthly', 'internet.InternetService',\n",
    "               'customer.SeniorCitizen', 'customer.Partner', 'customer.Dependents', 'internet.OnlineSecurity',\n",
    "                'internet.OnlineBackup', 'internet.DeviceProtection', 'internet.TechSupport',\n",
    "                'account.PaymentMethod', 'account.Charges.Total']].copy()"
   ]
  },
  {
   "cell_type": "code",
   "execution_count": 130,
   "id": "1cd4b3a8",
   "metadata": {},
   "outputs": [
    {
     "data": {
      "application/vnd.microsoft.datawrangler.viewer.v0+json": {
       "columns": [
        {
         "name": "index",
         "rawType": "int64",
         "type": "integer"
        },
        {
         "name": "Churn",
         "rawType": "object",
         "type": "string"
        },
        {
         "name": "customer.tenure",
         "rawType": "int64",
         "type": "integer"
        },
        {
         "name": "account.Contract",
         "rawType": "object",
         "type": "string"
        },
        {
         "name": "account.Charges.Monthly",
         "rawType": "float64",
         "type": "float"
        },
        {
         "name": "internet.InternetService",
         "rawType": "object",
         "type": "string"
        },
        {
         "name": "customer.SeniorCitizen",
         "rawType": "int64",
         "type": "integer"
        },
        {
         "name": "customer.Partner",
         "rawType": "object",
         "type": "string"
        },
        {
         "name": "customer.Dependents",
         "rawType": "object",
         "type": "string"
        },
        {
         "name": "internet.OnlineSecurity",
         "rawType": "object",
         "type": "string"
        },
        {
         "name": "internet.OnlineBackup",
         "rawType": "object",
         "type": "string"
        },
        {
         "name": "internet.DeviceProtection",
         "rawType": "object",
         "type": "string"
        },
        {
         "name": "internet.TechSupport",
         "rawType": "object",
         "type": "string"
        },
        {
         "name": "account.PaymentMethod",
         "rawType": "object",
         "type": "string"
        },
        {
         "name": "account.Charges.Total",
         "rawType": "object",
         "type": "string"
        }
       ],
       "ref": "a1e1e1d6-900f-4244-a018-83b3f6c4d065",
       "rows": [
        [
         "0",
         "No",
         "9",
         "One year",
         "65.6",
         "DSL",
         "0",
         "Yes",
         "Yes",
         "No",
         "Yes",
         "No",
         "Yes",
         "Mailed check",
         "593.3"
        ],
        [
         "1",
         "No",
         "9",
         "Month-to-month",
         "59.9",
         "DSL",
         "0",
         "No",
         "No",
         "No",
         "No",
         "No",
         "No",
         "Mailed check",
         "542.4"
        ],
        [
         "2",
         "Yes",
         "4",
         "Month-to-month",
         "73.9",
         "Fiber optic",
         "0",
         "No",
         "No",
         "No",
         "No",
         "Yes",
         "No",
         "Electronic check",
         "280.85"
        ],
        [
         "3",
         "Yes",
         "13",
         "Month-to-month",
         "98.0",
         "Fiber optic",
         "1",
         "Yes",
         "No",
         "No",
         "Yes",
         "Yes",
         "No",
         "Electronic check",
         "1237.85"
        ],
        [
         "4",
         "Yes",
         "3",
         "Month-to-month",
         "83.9",
         "Fiber optic",
         "1",
         "Yes",
         "No",
         "No",
         "No",
         "No",
         "Yes",
         "Mailed check",
         "267.4"
        ],
        [
         "5",
         "No",
         "9",
         "Month-to-month",
         "69.4",
         "DSL",
         "0",
         "No",
         "Yes",
         "No",
         "No",
         "No",
         "Yes",
         "Credit card (automatic)",
         "571.45"
        ],
        [
         "6",
         "No",
         "71",
         "Two year",
         "109.7",
         "Fiber optic",
         "1",
         "Yes",
         "No",
         "Yes",
         "Yes",
         "Yes",
         "Yes",
         "Bank transfer (automatic)",
         "7904.25"
        ],
        [
         "7",
         "No",
         "63",
         "Two year",
         "84.65",
         "Fiber optic",
         "0",
         "Yes",
         "No",
         "Yes",
         "No",
         "No",
         "Yes",
         "Credit card (automatic)",
         "5377.8"
        ],
        [
         "8",
         "No",
         "7",
         "Month-to-month",
         "48.2",
         "DSL",
         "1",
         "No",
         "No",
         "Yes",
         "No",
         "No",
         "No",
         "Electronic check",
         "340.35"
        ],
        [
         "9",
         "No",
         "65",
         "Two year",
         "90.45",
         "DSL",
         "0",
         "Yes",
         "Yes",
         "Yes",
         "Yes",
         "Yes",
         "Yes",
         "Mailed check",
         "5957.9"
        ],
        [
         "10",
         "No",
         "54",
         "Two year",
         "45.2",
         "DSL",
         "0",
         "No",
         "No",
         "Yes",
         "No",
         "No",
         "Yes",
         "Credit card (automatic)",
         "2460.55"
        ],
        [
         "11",
         "No",
         "72",
         "Two year",
         "116.8",
         "Fiber optic",
         "0",
         "Yes",
         "Yes",
         "Yes",
         "Yes",
         "Yes",
         "Yes",
         "Credit card (automatic)",
         "8456.75"
        ],
        [
         "12",
         "No",
         "5",
         "Month-to-month",
         "68.95",
         "Fiber optic",
         "0",
         "Yes",
         "No",
         "No",
         "No",
         "No",
         "No",
         "Electronic check",
         "351.5"
        ],
        [
         "13",
         "No",
         "72",
         "Two year",
         "101.3",
         "Fiber optic",
         "0",
         "No",
         "No",
         "Yes",
         "Yes",
         "Yes",
         "No",
         "Bank transfer (automatic)",
         "7261.25"
        ],
        [
         "14",
         "No",
         "56",
         "Two year",
         "45.05",
         "DSL",
         "0",
         "No",
         "No",
         "Yes",
         "Yes",
         "Yes",
         "Yes",
         "Bank transfer (automatic)",
         "2560.1"
        ],
        [
         "15",
         "No",
         "71",
         "Two year",
         "95.75",
         "Fiber optic",
         "0",
         "Yes",
         "Yes",
         "No",
         "Yes",
         "Yes",
         "No",
         "Credit card (automatic)",
         "6849.4"
        ],
        [
         "16",
         "No",
         "34",
         "One year",
         "61.25",
         "DSL",
         "0",
         "Yes",
         "Yes",
         "Yes",
         "No",
         "Yes",
         "Yes",
         "Mailed check",
         "1993.2"
        ],
        [
         "17",
         "No",
         "1",
         "Month-to-month",
         "72.1",
         "Fiber optic",
         "1",
         "No",
         "No",
         "No",
         "No",
         "No",
         "No",
         "Electronic check",
         "72.1"
        ],
        [
         "18",
         "Yes",
         "45",
         "One year",
         "62.7",
         "DSL",
         "1",
         "No",
         "No",
         "Yes",
         "No",
         "Yes",
         "No",
         "Credit card (automatic)",
         "2791.5"
        ],
        [
         "19",
         "Yes",
         "1",
         "Month-to-month",
         "25.1",
         "DSL",
         "1",
         "No",
         "No",
         "No",
         "No",
         "No",
         "No",
         "Electronic check",
         "25.1"
        ],
        [
         "20",
         "No",
         "50",
         "One year",
         "25.2",
         "No",
         "1",
         "Yes",
         "No",
         "No internet service",
         "No internet service",
         "No internet service",
         "No internet service",
         "Electronic check",
         "1306.3"
        ],
        [
         "21",
         "Yes",
         "13",
         "Month-to-month",
         "94.1",
         "Fiber optic",
         "0",
         "Yes",
         "No",
         "No",
         "Yes",
         "Yes",
         "No",
         "Electronic check",
         "1215.6"
        ],
        [
         "22",
         "No",
         "23",
         "Month-to-month",
         "83.75",
         "Fiber optic",
         "0",
         "Yes",
         "Yes",
         "No",
         "No",
         "No",
         "No",
         "Electronic check",
         "1849.95"
        ],
        [
         "23",
         "No",
         "3",
         "Month-to-month",
         "19.85",
         "No",
         "0",
         "No",
         "No",
         "No internet service",
         "No internet service",
         "No internet service",
         "No internet service",
         "Mailed check",
         "57.2"
        ],
        [
         "24",
         "Yes",
         "4",
         "Month-to-month",
         "20.35",
         "No",
         "0",
         "Yes",
         "Yes",
         "No internet service",
         "No internet service",
         "No internet service",
         "No internet service",
         "Mailed check",
         "76.35"
        ],
        [
         "25",
         "Yes",
         "1",
         "Month-to-month",
         "30.5",
         "DSL",
         "0",
         "Yes",
         "Yes",
         "Yes",
         "No",
         "No",
         "No",
         "Bank transfer (automatic)",
         "30.5"
        ],
        [
         "26",
         "No",
         "55",
         "One year",
         "103.7",
         "Fiber optic",
         "0",
         "Yes",
         "Yes",
         "No",
         "Yes",
         "Yes",
         "Yes",
         "Bank transfer (automatic)",
         "5656.75"
        ],
        [
         "27",
         "No",
         "54",
         "Two year",
         "20.4",
         "No",
         "0",
         "Yes",
         "Yes",
         "No internet service",
         "No internet service",
         "No internet service",
         "No internet service",
         "Credit card (automatic)",
         "1090.6"
        ],
        [
         "28",
         "No",
         "26",
         "One year",
         "19.6",
         "No",
         "0",
         "No",
         "No",
         "No internet service",
         "No internet service",
         "No internet service",
         "No internet service",
         "Bank transfer (automatic)",
         "471.85"
        ],
        [
         "29",
         "No",
         "69",
         "Two year",
         "19.7",
         "No",
         "0",
         "Yes",
         "Yes",
         "No internet service",
         "No internet service",
         "No internet service",
         "No internet service",
         "Bank transfer (automatic)",
         "1396.9"
        ],
        [
         "30",
         "",
         "11",
         "Month-to-month",
         "79.0",
         "Fiber optic",
         "0",
         "No",
         "No",
         "Yes",
         "No",
         "No",
         "No",
         "Bank transfer (automatic)",
         "929.3"
        ],
        [
         "31",
         "No",
         "37",
         "One year",
         "91.2",
         "Fiber optic",
         "0",
         "Yes",
         "Yes",
         "No",
         "No",
         "No",
         "No",
         "Credit card (automatic)",
         "3247.55"
        ],
        [
         "32",
         "No",
         "49",
         "One year",
         "20.45",
         "No",
         "0",
         "Yes",
         "No",
         "No internet service",
         "No internet service",
         "No internet service",
         "No internet service",
         "Bank transfer (automatic)",
         "900.9"
        ],
        [
         "33",
         "No",
         "66",
         "One year",
         "115.8",
         "Fiber optic",
         "0",
         "Yes",
         "No",
         "Yes",
         "Yes",
         "Yes",
         "Yes",
         "Bank transfer (automatic)",
         "7942.15"
        ],
        [
         "34",
         "No",
         "67",
         "One year",
         "20.55",
         "No",
         "0",
         "No",
         "No",
         "No internet service",
         "No internet service",
         "No internet service",
         "No internet service",
         "Electronic check",
         "1343.4"
        ],
        [
         "35",
         "No",
         "20",
         "Two year",
         "39.4",
         "DSL",
         "0",
         "Yes",
         "Yes",
         "Yes",
         "No",
         "Yes",
         "Yes",
         "Credit card (automatic)",
         "825.4"
        ],
        [
         "36",
         "No",
         "43",
         "Two year",
         "25.1",
         "No",
         "0",
         "No",
         "Yes",
         "No internet service",
         "No internet service",
         "No internet service",
         "No internet service",
         "Electronic check",
         "1070.15"
        ],
        [
         "37",
         "No",
         "55",
         "Month-to-month",
         "89.8",
         "Fiber optic",
         "0",
         "Yes",
         "No",
         "Yes",
         "No",
         "No",
         "No",
         "Bank transfer (automatic)",
         "4959.6"
        ],
        [
         "38",
         "No",
         "59",
         "Month-to-month",
         "94.75",
         "Fiber optic",
         "0",
         "Yes",
         "No",
         "Yes",
         "Yes",
         "No",
         "No",
         "Electronic check",
         "5597.65"
        ],
        [
         "39",
         "No",
         "12",
         "Two year",
         "20.3",
         "No",
         "0",
         "Yes",
         "Yes",
         "No internet service",
         "No internet service",
         "No internet service",
         "No internet service",
         "Bank transfer (automatic)",
         "224.5"
        ],
        [
         "40",
         "No",
         "27",
         "Month-to-month",
         "75.75",
         "Fiber optic",
         "0",
         "Yes",
         "Yes",
         "No",
         "No",
         "No",
         "No",
         "Bank transfer (automatic)",
         "1929"
        ],
        [
         "41",
         "Yes",
         "2",
         "Month-to-month",
         "49.25",
         "DSL",
         "1",
         "No",
         "No",
         "Yes",
         "No",
         "No",
         "No",
         "Electronic check",
         "91.1"
        ],
        [
         "42",
         "No",
         "27",
         "One year",
         "78.2",
         "DSL",
         "0",
         "No",
         "No",
         "No",
         "Yes",
         "Yes",
         "Yes",
         "Mailed check",
         "2078.95"
        ],
        [
         "43",
         "No",
         "25",
         "Two year",
         "25.5",
         "No",
         "0",
         "Yes",
         "Yes",
         "No internet service",
         "No internet service",
         "No internet service",
         "No internet service",
         "Credit card (automatic)",
         "630.6"
        ],
        [
         "44",
         "No",
         "25",
         "One year",
         "61.6",
         "DSL",
         "0",
         "Yes",
         "Yes",
         "Yes",
         "Yes",
         "Yes",
         "No",
         "Bank transfer (automatic)",
         "1611"
        ],
        [
         "45",
         "No",
         "29",
         "Month-to-month",
         "45.0",
         "DSL",
         "0",
         "No",
         "Yes",
         "Yes",
         "Yes",
         "Yes",
         "Yes",
         "Mailed check",
         "1242.45"
        ],
        [
         "46",
         "No",
         "72",
         "Two year",
         "85.15",
         "DSL",
         "0",
         "Yes",
         "No",
         "No",
         "Yes",
         "Yes",
         "Yes",
         "Bank transfer (automatic)",
         "6316.2"
        ],
        [
         "47",
         "No",
         "14",
         "One year",
         "51.45",
         "DSL",
         "0",
         "No",
         "No",
         "No",
         "Yes",
         "No",
         "No",
         "Credit card (automatic)",
         "727.85"
        ],
        [
         "48",
         "No",
         "35",
         "One year",
         "99.25",
         "Fiber optic",
         "0",
         "No",
         "No",
         "No",
         "No",
         "Yes",
         "Yes",
         "Electronic check",
         "3532"
        ],
        [
         "49",
         "No",
         "1",
         "Month-to-month",
         "44.3",
         "DSL",
         "0",
         "No",
         "No",
         "No",
         "No",
         "No",
         "No",
         "Mailed check",
         "44.3"
        ]
       ],
       "shape": {
        "columns": 14,
        "rows": 7267
       }
      },
      "text/html": [
       "<div>\n",
       "<style scoped>\n",
       "    .dataframe tbody tr th:only-of-type {\n",
       "        vertical-align: middle;\n",
       "    }\n",
       "\n",
       "    .dataframe tbody tr th {\n",
       "        vertical-align: top;\n",
       "    }\n",
       "\n",
       "    .dataframe thead th {\n",
       "        text-align: right;\n",
       "    }\n",
       "</style>\n",
       "<table border=\"1\" class=\"dataframe\">\n",
       "  <thead>\n",
       "    <tr style=\"text-align: right;\">\n",
       "      <th></th>\n",
       "      <th>Churn</th>\n",
       "      <th>customer.tenure</th>\n",
       "      <th>account.Contract</th>\n",
       "      <th>account.Charges.Monthly</th>\n",
       "      <th>internet.InternetService</th>\n",
       "      <th>customer.SeniorCitizen</th>\n",
       "      <th>customer.Partner</th>\n",
       "      <th>customer.Dependents</th>\n",
       "      <th>internet.OnlineSecurity</th>\n",
       "      <th>internet.OnlineBackup</th>\n",
       "      <th>internet.DeviceProtection</th>\n",
       "      <th>internet.TechSupport</th>\n",
       "      <th>account.PaymentMethod</th>\n",
       "      <th>account.Charges.Total</th>\n",
       "    </tr>\n",
       "  </thead>\n",
       "  <tbody>\n",
       "    <tr>\n",
       "      <th>0</th>\n",
       "      <td>No</td>\n",
       "      <td>9</td>\n",
       "      <td>One year</td>\n",
       "      <td>65.60</td>\n",
       "      <td>DSL</td>\n",
       "      <td>0</td>\n",
       "      <td>Yes</td>\n",
       "      <td>Yes</td>\n",
       "      <td>No</td>\n",
       "      <td>Yes</td>\n",
       "      <td>No</td>\n",
       "      <td>Yes</td>\n",
       "      <td>Mailed check</td>\n",
       "      <td>593.3</td>\n",
       "    </tr>\n",
       "    <tr>\n",
       "      <th>1</th>\n",
       "      <td>No</td>\n",
       "      <td>9</td>\n",
       "      <td>Month-to-month</td>\n",
       "      <td>59.90</td>\n",
       "      <td>DSL</td>\n",
       "      <td>0</td>\n",
       "      <td>No</td>\n",
       "      <td>No</td>\n",
       "      <td>No</td>\n",
       "      <td>No</td>\n",
       "      <td>No</td>\n",
       "      <td>No</td>\n",
       "      <td>Mailed check</td>\n",
       "      <td>542.4</td>\n",
       "    </tr>\n",
       "    <tr>\n",
       "      <th>2</th>\n",
       "      <td>Yes</td>\n",
       "      <td>4</td>\n",
       "      <td>Month-to-month</td>\n",
       "      <td>73.90</td>\n",
       "      <td>Fiber optic</td>\n",
       "      <td>0</td>\n",
       "      <td>No</td>\n",
       "      <td>No</td>\n",
       "      <td>No</td>\n",
       "      <td>No</td>\n",
       "      <td>Yes</td>\n",
       "      <td>No</td>\n",
       "      <td>Electronic check</td>\n",
       "      <td>280.85</td>\n",
       "    </tr>\n",
       "    <tr>\n",
       "      <th>3</th>\n",
       "      <td>Yes</td>\n",
       "      <td>13</td>\n",
       "      <td>Month-to-month</td>\n",
       "      <td>98.00</td>\n",
       "      <td>Fiber optic</td>\n",
       "      <td>1</td>\n",
       "      <td>Yes</td>\n",
       "      <td>No</td>\n",
       "      <td>No</td>\n",
       "      <td>Yes</td>\n",
       "      <td>Yes</td>\n",
       "      <td>No</td>\n",
       "      <td>Electronic check</td>\n",
       "      <td>1237.85</td>\n",
       "    </tr>\n",
       "    <tr>\n",
       "      <th>4</th>\n",
       "      <td>Yes</td>\n",
       "      <td>3</td>\n",
       "      <td>Month-to-month</td>\n",
       "      <td>83.90</td>\n",
       "      <td>Fiber optic</td>\n",
       "      <td>1</td>\n",
       "      <td>Yes</td>\n",
       "      <td>No</td>\n",
       "      <td>No</td>\n",
       "      <td>No</td>\n",
       "      <td>No</td>\n",
       "      <td>Yes</td>\n",
       "      <td>Mailed check</td>\n",
       "      <td>267.4</td>\n",
       "    </tr>\n",
       "    <tr>\n",
       "      <th>...</th>\n",
       "      <td>...</td>\n",
       "      <td>...</td>\n",
       "      <td>...</td>\n",
       "      <td>...</td>\n",
       "      <td>...</td>\n",
       "      <td>...</td>\n",
       "      <td>...</td>\n",
       "      <td>...</td>\n",
       "      <td>...</td>\n",
       "      <td>...</td>\n",
       "      <td>...</td>\n",
       "      <td>...</td>\n",
       "      <td>...</td>\n",
       "      <td>...</td>\n",
       "    </tr>\n",
       "    <tr>\n",
       "      <th>7262</th>\n",
       "      <td>No</td>\n",
       "      <td>13</td>\n",
       "      <td>One year</td>\n",
       "      <td>55.15</td>\n",
       "      <td>DSL</td>\n",
       "      <td>0</td>\n",
       "      <td>No</td>\n",
       "      <td>No</td>\n",
       "      <td>Yes</td>\n",
       "      <td>No</td>\n",
       "      <td>No</td>\n",
       "      <td>Yes</td>\n",
       "      <td>Mailed check</td>\n",
       "      <td>742.9</td>\n",
       "    </tr>\n",
       "    <tr>\n",
       "      <th>7263</th>\n",
       "      <td>Yes</td>\n",
       "      <td>22</td>\n",
       "      <td>Month-to-month</td>\n",
       "      <td>85.10</td>\n",
       "      <td>Fiber optic</td>\n",
       "      <td>0</td>\n",
       "      <td>Yes</td>\n",
       "      <td>No</td>\n",
       "      <td>No</td>\n",
       "      <td>No</td>\n",
       "      <td>No</td>\n",
       "      <td>No</td>\n",
       "      <td>Electronic check</td>\n",
       "      <td>1873.7</td>\n",
       "    </tr>\n",
       "    <tr>\n",
       "      <th>7264</th>\n",
       "      <td>No</td>\n",
       "      <td>2</td>\n",
       "      <td>Month-to-month</td>\n",
       "      <td>50.30</td>\n",
       "      <td>DSL</td>\n",
       "      <td>0</td>\n",
       "      <td>No</td>\n",
       "      <td>No</td>\n",
       "      <td>No</td>\n",
       "      <td>Yes</td>\n",
       "      <td>No</td>\n",
       "      <td>No</td>\n",
       "      <td>Mailed check</td>\n",
       "      <td>92.75</td>\n",
       "    </tr>\n",
       "    <tr>\n",
       "      <th>7265</th>\n",
       "      <td>No</td>\n",
       "      <td>67</td>\n",
       "      <td>Two year</td>\n",
       "      <td>67.85</td>\n",
       "      <td>DSL</td>\n",
       "      <td>0</td>\n",
       "      <td>Yes</td>\n",
       "      <td>Yes</td>\n",
       "      <td>Yes</td>\n",
       "      <td>No</td>\n",
       "      <td>Yes</td>\n",
       "      <td>Yes</td>\n",
       "      <td>Mailed check</td>\n",
       "      <td>4627.65</td>\n",
       "    </tr>\n",
       "    <tr>\n",
       "      <th>7266</th>\n",
       "      <td>No</td>\n",
       "      <td>63</td>\n",
       "      <td>Two year</td>\n",
       "      <td>59.00</td>\n",
       "      <td>DSL</td>\n",
       "      <td>0</td>\n",
       "      <td>Yes</td>\n",
       "      <td>Yes</td>\n",
       "      <td>Yes</td>\n",
       "      <td>Yes</td>\n",
       "      <td>Yes</td>\n",
       "      <td>No</td>\n",
       "      <td>Electronic check</td>\n",
       "      <td>3707.6</td>\n",
       "    </tr>\n",
       "  </tbody>\n",
       "</table>\n",
       "<p>7267 rows × 14 columns</p>\n",
       "</div>"
      ],
      "text/plain": [
       "     Churn  customer.tenure account.Contract  account.Charges.Monthly  \\\n",
       "0       No                9         One year                    65.60   \n",
       "1       No                9   Month-to-month                    59.90   \n",
       "2      Yes                4   Month-to-month                    73.90   \n",
       "3      Yes               13   Month-to-month                    98.00   \n",
       "4      Yes                3   Month-to-month                    83.90   \n",
       "...    ...              ...              ...                      ...   \n",
       "7262    No               13         One year                    55.15   \n",
       "7263   Yes               22   Month-to-month                    85.10   \n",
       "7264    No                2   Month-to-month                    50.30   \n",
       "7265    No               67         Two year                    67.85   \n",
       "7266    No               63         Two year                    59.00   \n",
       "\n",
       "     internet.InternetService  customer.SeniorCitizen customer.Partner  \\\n",
       "0                         DSL                       0              Yes   \n",
       "1                         DSL                       0               No   \n",
       "2                 Fiber optic                       0               No   \n",
       "3                 Fiber optic                       1              Yes   \n",
       "4                 Fiber optic                       1              Yes   \n",
       "...                       ...                     ...              ...   \n",
       "7262                      DSL                       0               No   \n",
       "7263              Fiber optic                       0              Yes   \n",
       "7264                      DSL                       0               No   \n",
       "7265                      DSL                       0              Yes   \n",
       "7266                      DSL                       0              Yes   \n",
       "\n",
       "     customer.Dependents internet.OnlineSecurity internet.OnlineBackup  \\\n",
       "0                    Yes                      No                   Yes   \n",
       "1                     No                      No                    No   \n",
       "2                     No                      No                    No   \n",
       "3                     No                      No                   Yes   \n",
       "4                     No                      No                    No   \n",
       "...                  ...                     ...                   ...   \n",
       "7262                  No                     Yes                    No   \n",
       "7263                  No                      No                    No   \n",
       "7264                  No                      No                   Yes   \n",
       "7265                 Yes                     Yes                    No   \n",
       "7266                 Yes                     Yes                   Yes   \n",
       "\n",
       "     internet.DeviceProtection internet.TechSupport account.PaymentMethod  \\\n",
       "0                           No                  Yes          Mailed check   \n",
       "1                           No                   No          Mailed check   \n",
       "2                          Yes                   No      Electronic check   \n",
       "3                          Yes                   No      Electronic check   \n",
       "4                           No                  Yes          Mailed check   \n",
       "...                        ...                  ...                   ...   \n",
       "7262                        No                  Yes          Mailed check   \n",
       "7263                        No                   No      Electronic check   \n",
       "7264                        No                   No          Mailed check   \n",
       "7265                       Yes                  Yes          Mailed check   \n",
       "7266                       Yes                   No      Electronic check   \n",
       "\n",
       "     account.Charges.Total  \n",
       "0                    593.3  \n",
       "1                    542.4  \n",
       "2                   280.85  \n",
       "3                  1237.85  \n",
       "4                    267.4  \n",
       "...                    ...  \n",
       "7262                 742.9  \n",
       "7263                1873.7  \n",
       "7264                 92.75  \n",
       "7265               4627.65  \n",
       "7266                3707.6  \n",
       "\n",
       "[7267 rows x 14 columns]"
      ]
     },
     "execution_count": 130,
     "metadata": {},
     "output_type": "execute_result"
    }
   ],
   "source": [
    "dataframe"
   ]
  },
  {
   "cell_type": "code",
   "execution_count": 131,
   "id": "50aa27e9",
   "metadata": {},
   "outputs": [
    {
     "data": {
      "application/vnd.microsoft.datawrangler.viewer.v0+json": {
       "columns": [
        {
         "name": "index",
         "rawType": "object",
         "type": "string"
        },
        {
         "name": "0",
         "rawType": "int64",
         "type": "integer"
        }
       ],
       "ref": "e405cc07-4fb5-4365-9103-ae92bc562195",
       "rows": [
        [
         "Churn",
         "0"
        ],
        [
         "customer.tenure",
         "0"
        ],
        [
         "account.Contract",
         "0"
        ],
        [
         "account.Charges.Monthly",
         "0"
        ],
        [
         "internet.InternetService",
         "0"
        ],
        [
         "customer.SeniorCitizen",
         "0"
        ],
        [
         "customer.Partner",
         "0"
        ],
        [
         "customer.Dependents",
         "0"
        ],
        [
         "internet.OnlineSecurity",
         "0"
        ],
        [
         "internet.OnlineBackup",
         "0"
        ],
        [
         "internet.DeviceProtection",
         "0"
        ],
        [
         "internet.TechSupport",
         "0"
        ],
        [
         "account.PaymentMethod",
         "0"
        ],
        [
         "account.Charges.Total",
         "0"
        ]
       ],
       "shape": {
        "columns": 1,
        "rows": 14
       }
      },
      "text/plain": [
       "Churn                        0\n",
       "customer.tenure              0\n",
       "account.Contract             0\n",
       "account.Charges.Monthly      0\n",
       "internet.InternetService     0\n",
       "customer.SeniorCitizen       0\n",
       "customer.Partner             0\n",
       "customer.Dependents          0\n",
       "internet.OnlineSecurity      0\n",
       "internet.OnlineBackup        0\n",
       "internet.DeviceProtection    0\n",
       "internet.TechSupport         0\n",
       "account.PaymentMethod        0\n",
       "account.Charges.Total        0\n",
       "dtype: int64"
      ]
     },
     "execution_count": 131,
     "metadata": {},
     "output_type": "execute_result"
    }
   ],
   "source": [
    "#vemos si existen valores nulos\n",
    "dataframe.isnull().sum()"
   ]
  },
  {
   "cell_type": "code",
   "execution_count": 132,
   "id": "cd3b262a",
   "metadata": {},
   "outputs": [],
   "source": [
    "#creamos una funcion para renombrar las columnas quitando todo lo que esta antes del punto\n",
    "def rename_columns(df):\n",
    "    df.columns = [col.split('.')[-1] for col in df.columns]\n",
    "    return df"
   ]
  },
  {
   "cell_type": "code",
   "execution_count": 133,
   "id": "d91381eb",
   "metadata": {},
   "outputs": [
    {
     "data": {
      "application/vnd.microsoft.datawrangler.viewer.v0+json": {
       "columns": [
        {
         "name": "index",
         "rawType": "int64",
         "type": "integer"
        },
        {
         "name": "Churn",
         "rawType": "object",
         "type": "string"
        },
        {
         "name": "tenure",
         "rawType": "int64",
         "type": "integer"
        },
        {
         "name": "Contract",
         "rawType": "object",
         "type": "string"
        },
        {
         "name": "Monthly",
         "rawType": "float64",
         "type": "float"
        },
        {
         "name": "InternetService",
         "rawType": "object",
         "type": "string"
        },
        {
         "name": "SeniorCitizen",
         "rawType": "int64",
         "type": "integer"
        },
        {
         "name": "Partner",
         "rawType": "object",
         "type": "string"
        },
        {
         "name": "Dependents",
         "rawType": "object",
         "type": "string"
        },
        {
         "name": "OnlineSecurity",
         "rawType": "object",
         "type": "string"
        },
        {
         "name": "OnlineBackup",
         "rawType": "object",
         "type": "string"
        },
        {
         "name": "DeviceProtection",
         "rawType": "object",
         "type": "string"
        },
        {
         "name": "TechSupport",
         "rawType": "object",
         "type": "string"
        },
        {
         "name": "PaymentMethod",
         "rawType": "object",
         "type": "string"
        },
        {
         "name": "Total",
         "rawType": "object",
         "type": "string"
        }
       ],
       "ref": "5d39486b-4112-4b46-874d-da36f258aa93",
       "rows": [
        [
         "0",
         "No",
         "9",
         "One year",
         "65.6",
         "DSL",
         "0",
         "Yes",
         "Yes",
         "No",
         "Yes",
         "No",
         "Yes",
         "Mailed check",
         "593.3"
        ],
        [
         "1",
         "No",
         "9",
         "Month-to-month",
         "59.9",
         "DSL",
         "0",
         "No",
         "No",
         "No",
         "No",
         "No",
         "No",
         "Mailed check",
         "542.4"
        ],
        [
         "2",
         "Yes",
         "4",
         "Month-to-month",
         "73.9",
         "Fiber optic",
         "0",
         "No",
         "No",
         "No",
         "No",
         "Yes",
         "No",
         "Electronic check",
         "280.85"
        ],
        [
         "3",
         "Yes",
         "13",
         "Month-to-month",
         "98.0",
         "Fiber optic",
         "1",
         "Yes",
         "No",
         "No",
         "Yes",
         "Yes",
         "No",
         "Electronic check",
         "1237.85"
        ],
        [
         "4",
         "Yes",
         "3",
         "Month-to-month",
         "83.9",
         "Fiber optic",
         "1",
         "Yes",
         "No",
         "No",
         "No",
         "No",
         "Yes",
         "Mailed check",
         "267.4"
        ],
        [
         "5",
         "No",
         "9",
         "Month-to-month",
         "69.4",
         "DSL",
         "0",
         "No",
         "Yes",
         "No",
         "No",
         "No",
         "Yes",
         "Credit card (automatic)",
         "571.45"
        ],
        [
         "6",
         "No",
         "71",
         "Two year",
         "109.7",
         "Fiber optic",
         "1",
         "Yes",
         "No",
         "Yes",
         "Yes",
         "Yes",
         "Yes",
         "Bank transfer (automatic)",
         "7904.25"
        ],
        [
         "7",
         "No",
         "63",
         "Two year",
         "84.65",
         "Fiber optic",
         "0",
         "Yes",
         "No",
         "Yes",
         "No",
         "No",
         "Yes",
         "Credit card (automatic)",
         "5377.8"
        ],
        [
         "8",
         "No",
         "7",
         "Month-to-month",
         "48.2",
         "DSL",
         "1",
         "No",
         "No",
         "Yes",
         "No",
         "No",
         "No",
         "Electronic check",
         "340.35"
        ],
        [
         "9",
         "No",
         "65",
         "Two year",
         "90.45",
         "DSL",
         "0",
         "Yes",
         "Yes",
         "Yes",
         "Yes",
         "Yes",
         "Yes",
         "Mailed check",
         "5957.9"
        ],
        [
         "10",
         "No",
         "54",
         "Two year",
         "45.2",
         "DSL",
         "0",
         "No",
         "No",
         "Yes",
         "No",
         "No",
         "Yes",
         "Credit card (automatic)",
         "2460.55"
        ],
        [
         "11",
         "No",
         "72",
         "Two year",
         "116.8",
         "Fiber optic",
         "0",
         "Yes",
         "Yes",
         "Yes",
         "Yes",
         "Yes",
         "Yes",
         "Credit card (automatic)",
         "8456.75"
        ],
        [
         "12",
         "No",
         "5",
         "Month-to-month",
         "68.95",
         "Fiber optic",
         "0",
         "Yes",
         "No",
         "No",
         "No",
         "No",
         "No",
         "Electronic check",
         "351.5"
        ],
        [
         "13",
         "No",
         "72",
         "Two year",
         "101.3",
         "Fiber optic",
         "0",
         "No",
         "No",
         "Yes",
         "Yes",
         "Yes",
         "No",
         "Bank transfer (automatic)",
         "7261.25"
        ],
        [
         "14",
         "No",
         "56",
         "Two year",
         "45.05",
         "DSL",
         "0",
         "No",
         "No",
         "Yes",
         "Yes",
         "Yes",
         "Yes",
         "Bank transfer (automatic)",
         "2560.1"
        ],
        [
         "15",
         "No",
         "71",
         "Two year",
         "95.75",
         "Fiber optic",
         "0",
         "Yes",
         "Yes",
         "No",
         "Yes",
         "Yes",
         "No",
         "Credit card (automatic)",
         "6849.4"
        ],
        [
         "16",
         "No",
         "34",
         "One year",
         "61.25",
         "DSL",
         "0",
         "Yes",
         "Yes",
         "Yes",
         "No",
         "Yes",
         "Yes",
         "Mailed check",
         "1993.2"
        ],
        [
         "17",
         "No",
         "1",
         "Month-to-month",
         "72.1",
         "Fiber optic",
         "1",
         "No",
         "No",
         "No",
         "No",
         "No",
         "No",
         "Electronic check",
         "72.1"
        ],
        [
         "18",
         "Yes",
         "45",
         "One year",
         "62.7",
         "DSL",
         "1",
         "No",
         "No",
         "Yes",
         "No",
         "Yes",
         "No",
         "Credit card (automatic)",
         "2791.5"
        ],
        [
         "19",
         "Yes",
         "1",
         "Month-to-month",
         "25.1",
         "DSL",
         "1",
         "No",
         "No",
         "No",
         "No",
         "No",
         "No",
         "Electronic check",
         "25.1"
        ],
        [
         "20",
         "No",
         "50",
         "One year",
         "25.2",
         "No",
         "1",
         "Yes",
         "No",
         "No internet service",
         "No internet service",
         "No internet service",
         "No internet service",
         "Electronic check",
         "1306.3"
        ],
        [
         "21",
         "Yes",
         "13",
         "Month-to-month",
         "94.1",
         "Fiber optic",
         "0",
         "Yes",
         "No",
         "No",
         "Yes",
         "Yes",
         "No",
         "Electronic check",
         "1215.6"
        ],
        [
         "22",
         "No",
         "23",
         "Month-to-month",
         "83.75",
         "Fiber optic",
         "0",
         "Yes",
         "Yes",
         "No",
         "No",
         "No",
         "No",
         "Electronic check",
         "1849.95"
        ],
        [
         "23",
         "No",
         "3",
         "Month-to-month",
         "19.85",
         "No",
         "0",
         "No",
         "No",
         "No internet service",
         "No internet service",
         "No internet service",
         "No internet service",
         "Mailed check",
         "57.2"
        ],
        [
         "24",
         "Yes",
         "4",
         "Month-to-month",
         "20.35",
         "No",
         "0",
         "Yes",
         "Yes",
         "No internet service",
         "No internet service",
         "No internet service",
         "No internet service",
         "Mailed check",
         "76.35"
        ],
        [
         "25",
         "Yes",
         "1",
         "Month-to-month",
         "30.5",
         "DSL",
         "0",
         "Yes",
         "Yes",
         "Yes",
         "No",
         "No",
         "No",
         "Bank transfer (automatic)",
         "30.5"
        ],
        [
         "26",
         "No",
         "55",
         "One year",
         "103.7",
         "Fiber optic",
         "0",
         "Yes",
         "Yes",
         "No",
         "Yes",
         "Yes",
         "Yes",
         "Bank transfer (automatic)",
         "5656.75"
        ],
        [
         "27",
         "No",
         "54",
         "Two year",
         "20.4",
         "No",
         "0",
         "Yes",
         "Yes",
         "No internet service",
         "No internet service",
         "No internet service",
         "No internet service",
         "Credit card (automatic)",
         "1090.6"
        ],
        [
         "28",
         "No",
         "26",
         "One year",
         "19.6",
         "No",
         "0",
         "No",
         "No",
         "No internet service",
         "No internet service",
         "No internet service",
         "No internet service",
         "Bank transfer (automatic)",
         "471.85"
        ],
        [
         "29",
         "No",
         "69",
         "Two year",
         "19.7",
         "No",
         "0",
         "Yes",
         "Yes",
         "No internet service",
         "No internet service",
         "No internet service",
         "No internet service",
         "Bank transfer (automatic)",
         "1396.9"
        ],
        [
         "30",
         "",
         "11",
         "Month-to-month",
         "79.0",
         "Fiber optic",
         "0",
         "No",
         "No",
         "Yes",
         "No",
         "No",
         "No",
         "Bank transfer (automatic)",
         "929.3"
        ],
        [
         "31",
         "No",
         "37",
         "One year",
         "91.2",
         "Fiber optic",
         "0",
         "Yes",
         "Yes",
         "No",
         "No",
         "No",
         "No",
         "Credit card (automatic)",
         "3247.55"
        ],
        [
         "32",
         "No",
         "49",
         "One year",
         "20.45",
         "No",
         "0",
         "Yes",
         "No",
         "No internet service",
         "No internet service",
         "No internet service",
         "No internet service",
         "Bank transfer (automatic)",
         "900.9"
        ],
        [
         "33",
         "No",
         "66",
         "One year",
         "115.8",
         "Fiber optic",
         "0",
         "Yes",
         "No",
         "Yes",
         "Yes",
         "Yes",
         "Yes",
         "Bank transfer (automatic)",
         "7942.15"
        ],
        [
         "34",
         "No",
         "67",
         "One year",
         "20.55",
         "No",
         "0",
         "No",
         "No",
         "No internet service",
         "No internet service",
         "No internet service",
         "No internet service",
         "Electronic check",
         "1343.4"
        ],
        [
         "35",
         "No",
         "20",
         "Two year",
         "39.4",
         "DSL",
         "0",
         "Yes",
         "Yes",
         "Yes",
         "No",
         "Yes",
         "Yes",
         "Credit card (automatic)",
         "825.4"
        ],
        [
         "36",
         "No",
         "43",
         "Two year",
         "25.1",
         "No",
         "0",
         "No",
         "Yes",
         "No internet service",
         "No internet service",
         "No internet service",
         "No internet service",
         "Electronic check",
         "1070.15"
        ],
        [
         "37",
         "No",
         "55",
         "Month-to-month",
         "89.8",
         "Fiber optic",
         "0",
         "Yes",
         "No",
         "Yes",
         "No",
         "No",
         "No",
         "Bank transfer (automatic)",
         "4959.6"
        ],
        [
         "38",
         "No",
         "59",
         "Month-to-month",
         "94.75",
         "Fiber optic",
         "0",
         "Yes",
         "No",
         "Yes",
         "Yes",
         "No",
         "No",
         "Electronic check",
         "5597.65"
        ],
        [
         "39",
         "No",
         "12",
         "Two year",
         "20.3",
         "No",
         "0",
         "Yes",
         "Yes",
         "No internet service",
         "No internet service",
         "No internet service",
         "No internet service",
         "Bank transfer (automatic)",
         "224.5"
        ],
        [
         "40",
         "No",
         "27",
         "Month-to-month",
         "75.75",
         "Fiber optic",
         "0",
         "Yes",
         "Yes",
         "No",
         "No",
         "No",
         "No",
         "Bank transfer (automatic)",
         "1929"
        ],
        [
         "41",
         "Yes",
         "2",
         "Month-to-month",
         "49.25",
         "DSL",
         "1",
         "No",
         "No",
         "Yes",
         "No",
         "No",
         "No",
         "Electronic check",
         "91.1"
        ],
        [
         "42",
         "No",
         "27",
         "One year",
         "78.2",
         "DSL",
         "0",
         "No",
         "No",
         "No",
         "Yes",
         "Yes",
         "Yes",
         "Mailed check",
         "2078.95"
        ],
        [
         "43",
         "No",
         "25",
         "Two year",
         "25.5",
         "No",
         "0",
         "Yes",
         "Yes",
         "No internet service",
         "No internet service",
         "No internet service",
         "No internet service",
         "Credit card (automatic)",
         "630.6"
        ],
        [
         "44",
         "No",
         "25",
         "One year",
         "61.6",
         "DSL",
         "0",
         "Yes",
         "Yes",
         "Yes",
         "Yes",
         "Yes",
         "No",
         "Bank transfer (automatic)",
         "1611"
        ],
        [
         "45",
         "No",
         "29",
         "Month-to-month",
         "45.0",
         "DSL",
         "0",
         "No",
         "Yes",
         "Yes",
         "Yes",
         "Yes",
         "Yes",
         "Mailed check",
         "1242.45"
        ],
        [
         "46",
         "No",
         "72",
         "Two year",
         "85.15",
         "DSL",
         "0",
         "Yes",
         "No",
         "No",
         "Yes",
         "Yes",
         "Yes",
         "Bank transfer (automatic)",
         "6316.2"
        ],
        [
         "47",
         "No",
         "14",
         "One year",
         "51.45",
         "DSL",
         "0",
         "No",
         "No",
         "No",
         "Yes",
         "No",
         "No",
         "Credit card (automatic)",
         "727.85"
        ],
        [
         "48",
         "No",
         "35",
         "One year",
         "99.25",
         "Fiber optic",
         "0",
         "No",
         "No",
         "No",
         "No",
         "Yes",
         "Yes",
         "Electronic check",
         "3532"
        ],
        [
         "49",
         "No",
         "1",
         "Month-to-month",
         "44.3",
         "DSL",
         "0",
         "No",
         "No",
         "No",
         "No",
         "No",
         "No",
         "Mailed check",
         "44.3"
        ]
       ],
       "shape": {
        "columns": 14,
        "rows": 7267
       }
      },
      "text/html": [
       "<div>\n",
       "<style scoped>\n",
       "    .dataframe tbody tr th:only-of-type {\n",
       "        vertical-align: middle;\n",
       "    }\n",
       "\n",
       "    .dataframe tbody tr th {\n",
       "        vertical-align: top;\n",
       "    }\n",
       "\n",
       "    .dataframe thead th {\n",
       "        text-align: right;\n",
       "    }\n",
       "</style>\n",
       "<table border=\"1\" class=\"dataframe\">\n",
       "  <thead>\n",
       "    <tr style=\"text-align: right;\">\n",
       "      <th></th>\n",
       "      <th>Churn</th>\n",
       "      <th>tenure</th>\n",
       "      <th>Contract</th>\n",
       "      <th>Monthly</th>\n",
       "      <th>InternetService</th>\n",
       "      <th>SeniorCitizen</th>\n",
       "      <th>Partner</th>\n",
       "      <th>Dependents</th>\n",
       "      <th>OnlineSecurity</th>\n",
       "      <th>OnlineBackup</th>\n",
       "      <th>DeviceProtection</th>\n",
       "      <th>TechSupport</th>\n",
       "      <th>PaymentMethod</th>\n",
       "      <th>Total</th>\n",
       "    </tr>\n",
       "  </thead>\n",
       "  <tbody>\n",
       "    <tr>\n",
       "      <th>0</th>\n",
       "      <td>No</td>\n",
       "      <td>9</td>\n",
       "      <td>One year</td>\n",
       "      <td>65.60</td>\n",
       "      <td>DSL</td>\n",
       "      <td>0</td>\n",
       "      <td>Yes</td>\n",
       "      <td>Yes</td>\n",
       "      <td>No</td>\n",
       "      <td>Yes</td>\n",
       "      <td>No</td>\n",
       "      <td>Yes</td>\n",
       "      <td>Mailed check</td>\n",
       "      <td>593.3</td>\n",
       "    </tr>\n",
       "    <tr>\n",
       "      <th>1</th>\n",
       "      <td>No</td>\n",
       "      <td>9</td>\n",
       "      <td>Month-to-month</td>\n",
       "      <td>59.90</td>\n",
       "      <td>DSL</td>\n",
       "      <td>0</td>\n",
       "      <td>No</td>\n",
       "      <td>No</td>\n",
       "      <td>No</td>\n",
       "      <td>No</td>\n",
       "      <td>No</td>\n",
       "      <td>No</td>\n",
       "      <td>Mailed check</td>\n",
       "      <td>542.4</td>\n",
       "    </tr>\n",
       "    <tr>\n",
       "      <th>2</th>\n",
       "      <td>Yes</td>\n",
       "      <td>4</td>\n",
       "      <td>Month-to-month</td>\n",
       "      <td>73.90</td>\n",
       "      <td>Fiber optic</td>\n",
       "      <td>0</td>\n",
       "      <td>No</td>\n",
       "      <td>No</td>\n",
       "      <td>No</td>\n",
       "      <td>No</td>\n",
       "      <td>Yes</td>\n",
       "      <td>No</td>\n",
       "      <td>Electronic check</td>\n",
       "      <td>280.85</td>\n",
       "    </tr>\n",
       "    <tr>\n",
       "      <th>3</th>\n",
       "      <td>Yes</td>\n",
       "      <td>13</td>\n",
       "      <td>Month-to-month</td>\n",
       "      <td>98.00</td>\n",
       "      <td>Fiber optic</td>\n",
       "      <td>1</td>\n",
       "      <td>Yes</td>\n",
       "      <td>No</td>\n",
       "      <td>No</td>\n",
       "      <td>Yes</td>\n",
       "      <td>Yes</td>\n",
       "      <td>No</td>\n",
       "      <td>Electronic check</td>\n",
       "      <td>1237.85</td>\n",
       "    </tr>\n",
       "    <tr>\n",
       "      <th>4</th>\n",
       "      <td>Yes</td>\n",
       "      <td>3</td>\n",
       "      <td>Month-to-month</td>\n",
       "      <td>83.90</td>\n",
       "      <td>Fiber optic</td>\n",
       "      <td>1</td>\n",
       "      <td>Yes</td>\n",
       "      <td>No</td>\n",
       "      <td>No</td>\n",
       "      <td>No</td>\n",
       "      <td>No</td>\n",
       "      <td>Yes</td>\n",
       "      <td>Mailed check</td>\n",
       "      <td>267.4</td>\n",
       "    </tr>\n",
       "    <tr>\n",
       "      <th>...</th>\n",
       "      <td>...</td>\n",
       "      <td>...</td>\n",
       "      <td>...</td>\n",
       "      <td>...</td>\n",
       "      <td>...</td>\n",
       "      <td>...</td>\n",
       "      <td>...</td>\n",
       "      <td>...</td>\n",
       "      <td>...</td>\n",
       "      <td>...</td>\n",
       "      <td>...</td>\n",
       "      <td>...</td>\n",
       "      <td>...</td>\n",
       "      <td>...</td>\n",
       "    </tr>\n",
       "    <tr>\n",
       "      <th>7262</th>\n",
       "      <td>No</td>\n",
       "      <td>13</td>\n",
       "      <td>One year</td>\n",
       "      <td>55.15</td>\n",
       "      <td>DSL</td>\n",
       "      <td>0</td>\n",
       "      <td>No</td>\n",
       "      <td>No</td>\n",
       "      <td>Yes</td>\n",
       "      <td>No</td>\n",
       "      <td>No</td>\n",
       "      <td>Yes</td>\n",
       "      <td>Mailed check</td>\n",
       "      <td>742.9</td>\n",
       "    </tr>\n",
       "    <tr>\n",
       "      <th>7263</th>\n",
       "      <td>Yes</td>\n",
       "      <td>22</td>\n",
       "      <td>Month-to-month</td>\n",
       "      <td>85.10</td>\n",
       "      <td>Fiber optic</td>\n",
       "      <td>0</td>\n",
       "      <td>Yes</td>\n",
       "      <td>No</td>\n",
       "      <td>No</td>\n",
       "      <td>No</td>\n",
       "      <td>No</td>\n",
       "      <td>No</td>\n",
       "      <td>Electronic check</td>\n",
       "      <td>1873.7</td>\n",
       "    </tr>\n",
       "    <tr>\n",
       "      <th>7264</th>\n",
       "      <td>No</td>\n",
       "      <td>2</td>\n",
       "      <td>Month-to-month</td>\n",
       "      <td>50.30</td>\n",
       "      <td>DSL</td>\n",
       "      <td>0</td>\n",
       "      <td>No</td>\n",
       "      <td>No</td>\n",
       "      <td>No</td>\n",
       "      <td>Yes</td>\n",
       "      <td>No</td>\n",
       "      <td>No</td>\n",
       "      <td>Mailed check</td>\n",
       "      <td>92.75</td>\n",
       "    </tr>\n",
       "    <tr>\n",
       "      <th>7265</th>\n",
       "      <td>No</td>\n",
       "      <td>67</td>\n",
       "      <td>Two year</td>\n",
       "      <td>67.85</td>\n",
       "      <td>DSL</td>\n",
       "      <td>0</td>\n",
       "      <td>Yes</td>\n",
       "      <td>Yes</td>\n",
       "      <td>Yes</td>\n",
       "      <td>No</td>\n",
       "      <td>Yes</td>\n",
       "      <td>Yes</td>\n",
       "      <td>Mailed check</td>\n",
       "      <td>4627.65</td>\n",
       "    </tr>\n",
       "    <tr>\n",
       "      <th>7266</th>\n",
       "      <td>No</td>\n",
       "      <td>63</td>\n",
       "      <td>Two year</td>\n",
       "      <td>59.00</td>\n",
       "      <td>DSL</td>\n",
       "      <td>0</td>\n",
       "      <td>Yes</td>\n",
       "      <td>Yes</td>\n",
       "      <td>Yes</td>\n",
       "      <td>Yes</td>\n",
       "      <td>Yes</td>\n",
       "      <td>No</td>\n",
       "      <td>Electronic check</td>\n",
       "      <td>3707.6</td>\n",
       "    </tr>\n",
       "  </tbody>\n",
       "</table>\n",
       "<p>7267 rows × 14 columns</p>\n",
       "</div>"
      ],
      "text/plain": [
       "     Churn  tenure        Contract  Monthly InternetService  SeniorCitizen  \\\n",
       "0       No       9        One year    65.60             DSL              0   \n",
       "1       No       9  Month-to-month    59.90             DSL              0   \n",
       "2      Yes       4  Month-to-month    73.90     Fiber optic              0   \n",
       "3      Yes      13  Month-to-month    98.00     Fiber optic              1   \n",
       "4      Yes       3  Month-to-month    83.90     Fiber optic              1   \n",
       "...    ...     ...             ...      ...             ...            ...   \n",
       "7262    No      13        One year    55.15             DSL              0   \n",
       "7263   Yes      22  Month-to-month    85.10     Fiber optic              0   \n",
       "7264    No       2  Month-to-month    50.30             DSL              0   \n",
       "7265    No      67        Two year    67.85             DSL              0   \n",
       "7266    No      63        Two year    59.00             DSL              0   \n",
       "\n",
       "     Partner Dependents OnlineSecurity OnlineBackup DeviceProtection  \\\n",
       "0        Yes        Yes             No          Yes               No   \n",
       "1         No         No             No           No               No   \n",
       "2         No         No             No           No              Yes   \n",
       "3        Yes         No             No          Yes              Yes   \n",
       "4        Yes         No             No           No               No   \n",
       "...      ...        ...            ...          ...              ...   \n",
       "7262      No         No            Yes           No               No   \n",
       "7263     Yes         No             No           No               No   \n",
       "7264      No         No             No          Yes               No   \n",
       "7265     Yes        Yes            Yes           No              Yes   \n",
       "7266     Yes        Yes            Yes          Yes              Yes   \n",
       "\n",
       "     TechSupport     PaymentMethod    Total  \n",
       "0            Yes      Mailed check    593.3  \n",
       "1             No      Mailed check    542.4  \n",
       "2             No  Electronic check   280.85  \n",
       "3             No  Electronic check  1237.85  \n",
       "4            Yes      Mailed check    267.4  \n",
       "...          ...               ...      ...  \n",
       "7262         Yes      Mailed check    742.9  \n",
       "7263          No  Electronic check   1873.7  \n",
       "7264          No      Mailed check    92.75  \n",
       "7265         Yes      Mailed check  4627.65  \n",
       "7266          No  Electronic check   3707.6  \n",
       "\n",
       "[7267 rows x 14 columns]"
      ]
     },
     "execution_count": 133,
     "metadata": {},
     "output_type": "execute_result"
    }
   ],
   "source": [
    "rename_columns(dataframe)"
   ]
  },
  {
   "cell_type": "markdown",
   "id": "cd0b82cf",
   "metadata": {},
   "source": [
    "##### Inconsistencias"
   ]
  },
  {
   "cell_type": "code",
   "execution_count": 134,
   "id": "22ed6647",
   "metadata": {},
   "outputs": [
    {
     "data": {
      "application/vnd.microsoft.datawrangler.viewer.v0+json": {
       "columns": [
        {
         "name": "index",
         "rawType": "object",
         "type": "string"
        },
        {
         "name": "0",
         "rawType": "int64",
         "type": "integer"
        }
       ],
       "ref": "befede44-25fe-4547-a6df-27e2dda98be2",
       "rows": [
        [
         "Churn",
         "3"
        ],
        [
         "tenure",
         "73"
        ],
        [
         "Contract",
         "3"
        ],
        [
         "Monthly",
         "1585"
        ],
        [
         "InternetService",
         "3"
        ],
        [
         "SeniorCitizen",
         "2"
        ],
        [
         "Partner",
         "2"
        ],
        [
         "Dependents",
         "2"
        ],
        [
         "OnlineSecurity",
         "3"
        ],
        [
         "OnlineBackup",
         "3"
        ],
        [
         "DeviceProtection",
         "3"
        ],
        [
         "TechSupport",
         "3"
        ],
        [
         "PaymentMethod",
         "4"
        ],
        [
         "Total",
         "6531"
        ]
       ],
       "shape": {
        "columns": 1,
        "rows": 14
       }
      },
      "text/plain": [
       "Churn                  3\n",
       "tenure                73\n",
       "Contract               3\n",
       "Monthly             1585\n",
       "InternetService        3\n",
       "SeniorCitizen          2\n",
       "Partner                2\n",
       "Dependents             2\n",
       "OnlineSecurity         3\n",
       "OnlineBackup           3\n",
       "DeviceProtection       3\n",
       "TechSupport            3\n",
       "PaymentMethod          4\n",
       "Total               6531\n",
       "dtype: int64"
      ]
     },
     "execution_count": 134,
     "metadata": {},
     "output_type": "execute_result"
    }
   ],
   "source": [
    "#vemos los valores unicos para cada columna\n",
    "dataframe.nunique()"
   ]
  },
  {
   "cell_type": "markdown",
   "id": "a83a404c",
   "metadata": {},
   "source": [
    "No existen valores nulos, pero si puede haber espacios entonces verificamos con unique los valores de cada columna"
   ]
  },
  {
   "cell_type": "code",
   "execution_count": 135,
   "id": "e4015d37",
   "metadata": {},
   "outputs": [
    {
     "name": "stdout",
     "output_type": "stream",
     "text": [
      "Churn: ['', 'No', 'Yes']\n",
      "tenure: [np.int64(0), np.int64(1), np.int64(2), np.int64(3), np.int64(4), np.int64(5), np.int64(6), np.int64(7), np.int64(8), np.int64(9), np.int64(10), np.int64(11), np.int64(12), np.int64(13), np.int64(14), np.int64(15), np.int64(16), np.int64(17), np.int64(18), np.int64(19), np.int64(20), np.int64(21), np.int64(22), np.int64(23), np.int64(24), np.int64(25), np.int64(26), np.int64(27), np.int64(28), np.int64(29), np.int64(30), np.int64(31), np.int64(32), np.int64(33), np.int64(34), np.int64(35), np.int64(36), np.int64(37), np.int64(38), np.int64(39), np.int64(40), np.int64(41), np.int64(42), np.int64(43), np.int64(44), np.int64(45), np.int64(46), np.int64(47), np.int64(48), np.int64(49), np.int64(50), np.int64(51), np.int64(52), np.int64(53), np.int64(54), np.int64(55), np.int64(56), np.int64(57), np.int64(58), np.int64(59), np.int64(60), np.int64(61), np.int64(62), np.int64(63), np.int64(64), np.int64(65), np.int64(66), np.int64(67), np.int64(68), np.int64(69), np.int64(70), np.int64(71), np.int64(72)]\n",
      "Contract: ['Month-to-month', 'One year', 'Two year']\n",
      "Monthly: [np.float64(18.25), np.float64(18.4), np.float64(18.55), np.float64(18.7), np.float64(18.75), np.float64(18.8), np.float64(18.85), np.float64(18.9), np.float64(18.95), np.float64(19.0), np.float64(19.05), np.float64(19.1), np.float64(19.15), np.float64(19.2), np.float64(19.25), np.float64(19.3), np.float64(19.35), np.float64(19.4), np.float64(19.45), np.float64(19.5), np.float64(19.55), np.float64(19.6), np.float64(19.65), np.float64(19.7), np.float64(19.75), np.float64(19.8), np.float64(19.85), np.float64(19.9), np.float64(19.95), np.float64(20.0), np.float64(20.05), np.float64(20.1), np.float64(20.15), np.float64(20.2), np.float64(20.25), np.float64(20.3), np.float64(20.35), np.float64(20.4), np.float64(20.45), np.float64(20.5), np.float64(20.55), np.float64(20.6), np.float64(20.65), np.float64(20.7), np.float64(20.75), np.float64(20.8), np.float64(20.85), np.float64(20.9), np.float64(20.95), np.float64(21.0), np.float64(21.05), np.float64(21.1), np.float64(21.15), np.float64(21.2), np.float64(21.25), np.float64(21.3), np.float64(21.45), np.float64(22.95), np.float64(23.05), np.float64(23.15), np.float64(23.3), np.float64(23.4), np.float64(23.45), np.float64(23.5), np.float64(23.55), np.float64(23.6), np.float64(23.65), np.float64(23.75), np.float64(23.8), np.float64(23.85), np.float64(23.9), np.float64(23.95), np.float64(24.0), np.float64(24.05), np.float64(24.1), np.float64(24.15), np.float64(24.2), np.float64(24.25), np.float64(24.3), np.float64(24.35), np.float64(24.4), np.float64(24.45), np.float64(24.5), np.float64(24.55), np.float64(24.6), np.float64(24.65), np.float64(24.7), np.float64(24.75), np.float64(24.8), np.float64(24.85), np.float64(24.9), np.float64(24.95), np.float64(25.0), np.float64(25.05), np.float64(25.1), np.float64(25.15), np.float64(25.2), np.float64(25.25), np.float64(25.3), np.float64(25.35), np.float64(25.4), np.float64(25.45), np.float64(25.5), np.float64(25.55), np.float64(25.6), np.float64(25.65), np.float64(25.7), np.float64(25.75), np.float64(25.8), np.float64(25.85), np.float64(25.9), np.float64(25.95), np.float64(26.0), np.float64(26.05), np.float64(26.1), np.float64(26.2), np.float64(26.25), np.float64(26.3), np.float64(26.35), np.float64(26.4), np.float64(26.45), np.float64(26.5), np.float64(26.8), np.float64(26.9), np.float64(28.45), np.float64(28.5), np.float64(28.6), np.float64(29.05), np.float64(29.1), np.float64(29.15), np.float64(29.2), np.float64(29.25), np.float64(29.3), np.float64(29.35), np.float64(29.4), np.float64(29.45), np.float64(29.5), np.float64(29.6), np.float64(29.65), np.float64(29.7), np.float64(29.75), np.float64(29.8), np.float64(29.85), np.float64(29.9), np.float64(29.95), np.float64(30.05), np.float64(30.1), np.float64(30.15), np.float64(30.2), np.float64(30.25), np.float64(30.3), np.float64(30.35), np.float64(30.4), np.float64(30.45), np.float64(30.5), np.float64(30.55), np.float64(30.6), np.float64(30.75), np.float64(30.85), np.float64(30.9), np.float64(31.0), np.float64(31.05), np.float64(31.1), np.float64(31.2), np.float64(31.35), np.float64(31.65), np.float64(33.15), np.float64(33.45), np.float64(33.5), np.float64(33.55), np.float64(33.6), np.float64(33.65), np.float64(33.7), np.float64(33.75), np.float64(33.9), np.float64(34.0), np.float64(34.05), np.float64(34.2), np.float64(34.25), np.float64(34.3), np.float64(34.4), np.float64(34.5), np.float64(34.55), np.float64(34.6), np.float64(34.65), np.float64(34.7), np.float64(34.8), np.float64(34.85), np.float64(34.95), np.float64(35.0), np.float64(35.05), np.float64(35.1), np.float64(35.15), np.float64(35.2), np.float64(35.25), np.float64(35.3), np.float64(35.35), np.float64(35.4), np.float64(35.45), np.float64(35.5), np.float64(35.55), np.float64(35.6), np.float64(35.65), np.float64(35.7), np.float64(35.75), np.float64(35.8), np.float64(35.9), np.float64(36.0), np.float64(36.05), np.float64(36.1), np.float64(36.15), np.float64(36.25), np.float64(36.45), np.float64(36.5), np.float64(36.65), np.float64(36.85), np.float64(37.7), np.float64(38.1), np.float64(38.25), np.float64(38.5), np.float64(38.55), np.float64(38.6), np.float64(38.8), np.float64(38.85), np.float64(38.9), np.float64(39.0), np.float64(39.05), np.float64(39.1), np.float64(39.15), np.float64(39.2), np.float64(39.3), np.float64(39.35), np.float64(39.4), np.float64(39.45), np.float64(39.5), np.float64(39.55), np.float64(39.6), np.float64(39.65), np.float64(39.7), np.float64(39.85), np.float64(39.9), np.float64(39.95), np.float64(40.0), np.float64(40.05), np.float64(40.1), np.float64(40.15), np.float64(40.2), np.float64(40.25), np.float64(40.3), np.float64(40.35), np.float64(40.4), np.float64(40.45), np.float64(40.55), np.float64(40.6), np.float64(40.65), np.float64(40.7), np.float64(40.75), np.float64(40.9), np.float64(41.05), np.float64(41.1), np.float64(41.15), np.float64(41.35), np.float64(41.6), np.float64(41.9), np.float64(41.95), np.float64(42.1), np.float64(42.3), np.float64(42.35), np.float64(42.4), np.float64(42.6), np.float64(42.9), np.float64(43.05), np.float64(43.25), np.float64(43.3), np.float64(43.35), np.float64(43.45), np.float64(43.55), np.float64(43.6), np.float64(43.65), np.float64(43.7), np.float64(43.75), np.float64(43.8), np.float64(43.85), np.float64(43.9), np.float64(43.95), np.float64(44.0), np.float64(44.05), np.float64(44.1), np.float64(44.15), np.float64(44.2), np.float64(44.25), np.float64(44.3), np.float64(44.35), np.float64(44.4), np.float64(44.45), np.float64(44.5), np.float64(44.55), np.float64(44.6), np.float64(44.65), np.float64(44.7), np.float64(44.75), np.float64(44.8), np.float64(44.85), np.float64(44.9), np.float64(44.95), np.float64(45.0), np.float64(45.05), np.float64(45.1), np.float64(45.15), np.float64(45.2), np.float64(45.25), np.float64(45.3), np.float64(45.35), np.float64(45.4), np.float64(45.45), np.float64(45.5), np.float64(45.55), np.float64(45.6), np.float64(45.65), np.float64(45.7), np.float64(45.75), np.float64(45.8), np.float64(45.85), np.float64(45.9), np.float64(45.95), np.float64(46.0), np.float64(46.05), np.float64(46.1), np.float64(46.2), np.float64(46.25), np.float64(46.3), np.float64(46.35), np.float64(46.4), np.float64(46.6), np.float64(47.05), np.float64(47.15), np.float64(47.4), np.float64(47.6), np.float64(47.8), np.float64(47.85), np.float64(47.95), np.float64(48.15), np.float64(48.2), np.float64(48.25), np.float64(48.35), np.float64(48.4), np.float64(48.45), np.float64(48.55), np.float64(48.6), np.float64(48.65), np.float64(48.7), np.float64(48.75), np.float64(48.8), np.float64(48.85), np.float64(48.9), np.float64(48.95), np.float64(49.0), np.float64(49.05), np.float64(49.1), np.float64(49.15), np.float64(49.2), np.float64(49.25), np.float64(49.3), np.float64(49.35), np.float64(49.4), np.float64(49.45), np.float64(49.5), np.float64(49.55), np.float64(49.6), np.float64(49.65), np.float64(49.7), np.float64(49.75), np.float64(49.8), np.float64(49.85), np.float64(49.9), np.float64(49.95), np.float64(50.0), np.float64(50.05), np.float64(50.1), np.float64(50.15), np.float64(50.2), np.float64(50.25), np.float64(50.3), np.float64(50.35), np.float64(50.4), np.float64(50.45), np.float64(50.5), np.float64(50.55), np.float64(50.6), np.float64(50.65), np.float64(50.7), np.float64(50.75), np.float64(50.8), np.float64(50.85), np.float64(50.9), np.float64(50.95), np.float64(51.0), np.float64(51.05), np.float64(51.1), np.float64(51.15), np.float64(51.2), np.float64(51.25), np.float64(51.3), np.float64(51.35), np.float64(51.4), np.float64(51.45), np.float64(51.5), np.float64(51.55), np.float64(51.6), np.float64(51.65), np.float64(51.7), np.float64(51.75), np.float64(51.8), np.float64(52.0), np.float64(52.1), np.float64(52.15), np.float64(52.2), np.float64(52.3), np.float64(52.5), np.float64(52.55), np.float64(52.7), np.float64(52.85), np.float64(53.0), np.float64(53.1), np.float64(53.15), np.float64(53.3), np.float64(53.35), np.float64(53.4), np.float64(53.45), np.float64(53.5), np.float64(53.55), np.float64(53.6), np.float64(53.65), np.float64(53.7), np.float64(53.75), np.float64(53.8), np.float64(53.85), np.float64(53.9), np.float64(53.95), np.float64(54.0), np.float64(54.05), np.float64(54.1), np.float64(54.15), np.float64(54.2), np.float64(54.25), np.float64(54.3), np.float64(54.35), np.float64(54.4), np.float64(54.45), np.float64(54.5), np.float64(54.55), np.float64(54.6), np.float64(54.65), np.float64(54.7), np.float64(54.75), np.float64(54.8), np.float64(54.85), np.float64(54.9), np.float64(54.95), np.float64(55.0), np.float64(55.05), np.float64(55.1), np.float64(55.15), np.float64(55.2), np.float64(55.25), np.float64(55.3), np.float64(55.35), np.float64(55.4), np.float64(55.45), np.float64(55.5), np.float64(55.55), np.float64(55.6), np.float64(55.65), np.float64(55.7), np.float64(55.75), np.float64(55.8), np.float64(55.85), np.float64(55.9), np.float64(55.95), np.float64(56.0), np.float64(56.05), np.float64(56.1), np.float64(56.15), np.float64(56.2), np.float64(56.25), np.float64(56.3), np.float64(56.35), np.float64(56.4), np.float64(56.45), np.float64(56.5), np.float64(56.55), np.float64(56.6), np.float64(56.65), np.float64(56.7), np.float64(56.75), np.float64(56.8), np.float64(56.85), np.float64(56.9), np.float64(56.95), np.float64(57.15), np.float64(57.2), np.float64(57.45), np.float64(57.5), np.float64(57.55), np.float64(57.6), np.float64(57.65), np.float64(57.75), np.float64(57.8), np.float64(57.95), np.float64(58.0), np.float64(58.2), np.float64(58.25), np.float64(58.35), np.float64(58.4), np.float64(58.45), np.float64(58.5), np.float64(58.55), np.float64(58.6), np.float64(58.65), np.float64(58.7), np.float64(58.75), np.float64(58.85), np.float64(58.9), np.float64(58.95), np.float64(59.0), np.float64(59.05), np.float64(59.1), np.float64(59.15), np.float64(59.2), np.float64(59.25), np.float64(59.3), np.float64(59.4), np.float64(59.45), np.float64(59.5), np.float64(59.55), np.float64(59.6), np.float64(59.65), np.float64(59.7), np.float64(59.75), np.float64(59.8), np.float64(59.85), np.float64(59.9), np.float64(59.95), np.float64(60.0), np.float64(60.05), np.float64(60.1), np.float64(60.15), np.float64(60.2), np.float64(60.25), np.float64(60.3), np.float64(60.35), np.float64(60.4), np.float64(60.45), np.float64(60.5), np.float64(60.55), np.float64(60.6), np.float64(60.65), np.float64(60.7), np.float64(60.75), np.float64(60.8), np.float64(60.85), np.float64(60.9), np.float64(60.95), np.float64(61.0), np.float64(61.05), np.float64(61.1), np.float64(61.15), np.float64(61.2), np.float64(61.25), np.float64(61.3), np.float64(61.35), np.float64(61.4), np.float64(61.45), np.float64(61.5), np.float64(61.55), np.float64(61.6), np.float64(61.65), np.float64(61.75), np.float64(61.8), np.float64(61.9), np.float64(61.95), np.float64(62.05), np.float64(62.1), np.float64(62.15), np.float64(62.25), np.float64(62.3), np.float64(62.45), np.float64(62.5), np.float64(62.55), np.float64(62.65), np.float64(62.7), np.float64(62.8), np.float64(62.85), np.float64(63.05), np.float64(63.1), np.float64(63.15), np.float64(63.25), np.float64(63.3), np.float64(63.35), np.float64(63.4), np.float64(63.55), np.float64(63.6), np.float64(63.7), np.float64(63.75), np.float64(63.8), np.float64(63.85), np.float64(63.9), np.float64(63.95), np.float64(64.0), np.float64(64.05), np.float64(64.1), np.float64(64.15), np.float64(64.2), np.float64(64.25), np.float64(64.3), np.float64(64.35), np.float64(64.4), np.float64(64.45), np.float64(64.5), np.float64(64.55), np.float64(64.6), np.float64(64.65), np.float64(64.7), np.float64(64.75), np.float64(64.8), np.float64(64.85), np.float64(64.9), np.float64(64.95), np.float64(65.0), np.float64(65.05), np.float64(65.1), np.float64(65.15), np.float64(65.2), np.float64(65.25), np.float64(65.3), np.float64(65.35), np.float64(65.4), np.float64(65.45), np.float64(65.5), np.float64(65.55), np.float64(65.6), np.float64(65.65), np.float64(65.7), np.float64(65.75), np.float64(65.8), np.float64(65.85), np.float64(65.9), np.float64(66.0), np.float64(66.05), np.float64(66.1), np.float64(66.15), np.float64(66.2), np.float64(66.25), np.float64(66.3), np.float64(66.35), np.float64(66.4), np.float64(66.5), np.float64(66.6), np.float64(66.65), np.float64(66.7), np.float64(66.75), np.float64(66.8), np.float64(66.85), np.float64(66.9), np.float64(67.05), np.float64(67.2), np.float64(67.25), np.float64(67.4), np.float64(67.45), np.float64(67.5), np.float64(67.6), np.float64(67.65), np.float64(67.7), np.float64(67.75), np.float64(67.8), np.float64(67.85), np.float64(67.95), np.float64(68.05), np.float64(68.1), np.float64(68.15), np.float64(68.25), np.float64(68.3), np.float64(68.35), np.float64(68.4), np.float64(68.45), np.float64(68.5), np.float64(68.55), np.float64(68.6), np.float64(68.65), np.float64(68.7), np.float64(68.75), np.float64(68.8), np.float64(68.85), np.float64(68.9), np.float64(68.95), np.float64(69.0), np.float64(69.05), np.float64(69.1), np.float64(69.15), np.float64(69.2), np.float64(69.25), np.float64(69.3), np.float64(69.35), np.float64(69.4), np.float64(69.45), np.float64(69.5), np.float64(69.55), np.float64(69.6), np.float64(69.65), np.float64(69.7), np.float64(69.75), np.float64(69.8), np.float64(69.85), np.float64(69.9), np.float64(69.95), np.float64(70.0), np.float64(70.05), np.float64(70.1), np.float64(70.15), np.float64(70.2), np.float64(70.25), np.float64(70.3), np.float64(70.35), np.float64(70.4), np.float64(70.45), np.float64(70.5), np.float64(70.55), np.float64(70.6), np.float64(70.65), np.float64(70.7), np.float64(70.75), np.float64(70.8), np.float64(70.85), np.float64(70.9), np.float64(70.95), np.float64(71.0), np.float64(71.05), np.float64(71.1), np.float64(71.15), np.float64(71.25), np.float64(71.3), np.float64(71.35), np.float64(71.4), np.float64(71.45), np.float64(71.5), np.float64(71.55), np.float64(71.6), np.float64(71.65), np.float64(71.7), np.float64(71.75), np.float64(71.8), np.float64(71.85), np.float64(71.9), np.float64(71.95), np.float64(72.0), np.float64(72.1), np.float64(72.15), np.float64(72.2), np.float64(72.25), np.float64(72.35), np.float64(72.45), np.float64(72.6), np.float64(72.65), np.float64(72.75), np.float64(72.8), np.float64(72.85), np.float64(72.9), np.float64(72.95), np.float64(73.0), np.float64(73.05), np.float64(73.1), np.float64(73.15), np.float64(73.2), np.float64(73.25), np.float64(73.3), np.float64(73.35), np.float64(73.45), np.float64(73.5), np.float64(73.55), np.float64(73.6), np.float64(73.65), np.float64(73.7), np.float64(73.75), np.float64(73.8), np.float64(73.85), np.float64(73.9), np.float64(73.95), np.float64(74.0), np.float64(74.05), np.float64(74.1), np.float64(74.15), np.float64(74.2), np.float64(74.25), np.float64(74.3), np.float64(74.35), np.float64(74.4), np.float64(74.45), np.float64(74.5), np.float64(74.55), np.float64(74.6), np.float64(74.65), np.float64(74.7), np.float64(74.75), np.float64(74.8), np.float64(74.85), np.float64(74.9), np.float64(74.95), np.float64(75.0), np.float64(75.05), np.float64(75.1), np.float64(75.15), np.float64(75.2), np.float64(75.25), np.float64(75.3), np.float64(75.35), np.float64(75.4), np.float64(75.45), np.float64(75.5), np.float64(75.55), np.float64(75.6), np.float64(75.65), np.float64(75.7), np.float64(75.75), np.float64(75.8), np.float64(75.85), np.float64(75.9), np.float64(75.95), np.float64(76.0), np.float64(76.05), np.float64(76.1), np.float64(76.15), np.float64(76.2), np.float64(76.25), np.float64(76.3), np.float64(76.35), np.float64(76.4), np.float64(76.45), np.float64(76.5), np.float64(76.55), np.float64(76.6), np.float64(76.65), np.float64(76.75), np.float64(76.8), np.float64(76.85), np.float64(76.9), np.float64(76.95), np.float64(77.0), np.float64(77.15), np.float64(77.2), np.float64(77.3), np.float64(77.35), np.float64(77.4), np.float64(77.5), np.float64(77.55), np.float64(77.65), np.float64(77.75), np.float64(77.8), np.float64(77.85), np.float64(77.9), np.float64(77.95), np.float64(78.0), np.float64(78.05), np.float64(78.1), np.float64(78.15), np.float64(78.2), np.float64(78.25), np.float64(78.3), np.float64(78.35), np.float64(78.4), np.float64(78.45), np.float64(78.5), np.float64(78.55), np.float64(78.6), np.float64(78.65), np.float64(78.7), np.float64(78.75), np.float64(78.8), np.float64(78.85), np.float64(78.9), np.float64(78.95), np.float64(79.0), np.float64(79.05), np.float64(79.1), np.float64(79.15), np.float64(79.2), np.float64(79.25), np.float64(79.3), np.float64(79.35), np.float64(79.4), np.float64(79.45), np.float64(79.5), np.float64(79.55), np.float64(79.6), np.float64(79.65), np.float64(79.7), np.float64(79.75), np.float64(79.8), np.float64(79.85), np.float64(79.9), np.float64(79.95), np.float64(80.0), np.float64(80.05), np.float64(80.1), np.float64(80.15), np.float64(80.2), np.float64(80.25), np.float64(80.3), np.float64(80.35), np.float64(80.4), np.float64(80.45), np.float64(80.5), np.float64(80.55), np.float64(80.6), np.float64(80.65), np.float64(80.7), np.float64(80.75), np.float64(80.8), np.float64(80.85), np.float64(80.9), np.float64(80.95), np.float64(81.0), np.float64(81.05), np.float64(81.1), np.float64(81.15), np.float64(81.2), np.float64(81.25), np.float64(81.3), np.float64(81.35), np.float64(81.4), np.float64(81.45), np.float64(81.5), np.float64(81.55), np.float64(81.6), np.float64(81.65), np.float64(81.7), np.float64(81.75), np.float64(81.8), np.float64(81.85), np.float64(81.9), np.float64(81.95), np.float64(82.0), np.float64(82.05), np.float64(82.1), np.float64(82.15), np.float64(82.3), np.float64(82.35), np.float64(82.4), np.float64(82.45), np.float64(82.5), np.float64(82.55), np.float64(82.65), np.float64(82.7), np.float64(82.75), np.float64(82.85), np.float64(82.9), np.float64(82.95), np.float64(83.0), np.float64(83.05), np.float64(83.15), np.float64(83.2), np.float64(83.25), np.float64(83.3), np.float64(83.35), np.float64(83.4), np.float64(83.45), np.float64(83.5), np.float64(83.55), np.float64(83.6), np.float64(83.65), np.float64(83.7), np.float64(83.75), np.float64(83.8), np.float64(83.85), np.float64(83.9), np.float64(83.95), np.float64(84.0), np.float64(84.05), np.float64(84.1), np.float64(84.15), np.float64(84.2), np.float64(84.25), np.float64(84.3), np.float64(84.35), np.float64(84.4), np.float64(84.45), np.float64(84.5), np.float64(84.55), np.float64(84.6), np.float64(84.65), np.float64(84.7), np.float64(84.75), np.float64(84.8), np.float64(84.85), np.float64(84.9), np.float64(84.95), np.float64(85.0), np.float64(85.05), np.float64(85.1), np.float64(85.15), np.float64(85.2), np.float64(85.25), np.float64(85.3), np.float64(85.35), np.float64(85.4), np.float64(85.45), np.float64(85.5), np.float64(85.55), np.float64(85.6), np.float64(85.65), np.float64(85.7), np.float64(85.75), np.float64(85.8), np.float64(85.85), np.float64(85.9), np.float64(85.95), np.float64(86.0), np.float64(86.05), np.float64(86.1), np.float64(86.15), np.float64(86.2), np.float64(86.25), np.float64(86.3), np.float64(86.35), np.float64(86.4), np.float64(86.45), np.float64(86.5), np.float64(86.55), np.float64(86.6), np.float64(86.65), np.float64(86.7), np.float64(86.75), np.float64(86.8), np.float64(86.85), np.float64(86.9), np.float64(86.95), np.float64(87.0), np.float64(87.05), np.float64(87.1), np.float64(87.15), np.float64(87.2), np.float64(87.25), np.float64(87.3), np.float64(87.35), np.float64(87.4), np.float64(87.45), np.float64(87.55), np.float64(87.6), np.float64(87.65), np.float64(87.7), np.float64(87.75), np.float64(87.8), np.float64(87.9), np.float64(87.95), np.float64(88.0), np.float64(88.05), np.float64(88.1), np.float64(88.15), np.float64(88.2), np.float64(88.25), np.float64(88.3), np.float64(88.35), np.float64(88.4), np.float64(88.45), np.float64(88.5), np.float64(88.55), np.float64(88.6), np.float64(88.65), np.float64(88.7), np.float64(88.75), np.float64(88.8), np.float64(88.85), np.float64(88.9), np.float64(88.95), np.float64(89.0), np.float64(89.05), np.float64(89.1), np.float64(89.15), np.float64(89.2), np.float64(89.25), np.float64(89.3), np.float64(89.35), np.float64(89.4), np.float64(89.45), np.float64(89.5), np.float64(89.55), np.float64(89.6), np.float64(89.65), np.float64(89.7), np.float64(89.75), np.float64(89.8), np.float64(89.85), np.float64(89.9), np.float64(89.95), np.float64(90.0), np.float64(90.05), np.float64(90.1), np.float64(90.15), np.float64(90.2), np.float64(90.25), np.float64(90.3), np.float64(90.35), np.float64(90.4), np.float64(90.45), np.float64(90.5), np.float64(90.55), np.float64(90.6), np.float64(90.65), np.float64(90.7), np.float64(90.75), np.float64(90.8), np.float64(90.85), np.float64(90.9), np.float64(90.95), np.float64(91.0), np.float64(91.05), np.float64(91.1), np.float64(91.15), np.float64(91.2), np.float64(91.25), np.float64(91.3), np.float64(91.35), np.float64(91.4), np.float64(91.45), np.float64(91.5), np.float64(91.55), np.float64(91.6), np.float64(91.65), np.float64(91.7), np.float64(91.75), np.float64(91.8), np.float64(91.85), np.float64(91.95), np.float64(92.0), np.float64(92.05), np.float64(92.1), np.float64(92.15), np.float64(92.2), np.float64(92.3), np.float64(92.35), np.float64(92.4), np.float64(92.45), np.float64(92.5), np.float64(92.55), np.float64(92.6), np.float64(92.65), np.float64(92.7), np.float64(92.85), np.float64(92.9), np.float64(92.95), np.float64(93.0), np.float64(93.05), np.float64(93.15), np.float64(93.2), np.float64(93.25), np.float64(93.3), np.float64(93.35), np.float64(93.4), np.float64(93.45), np.float64(93.5), np.float64(93.55), np.float64(93.6), np.float64(93.65), np.float64(93.7), np.float64(93.75), np.float64(93.8), np.float64(93.85), np.float64(93.9), np.float64(93.95), np.float64(94.0), np.float64(94.05), np.float64(94.1), np.float64(94.15), np.float64(94.2), np.float64(94.25), np.float64(94.3), np.float64(94.35), np.float64(94.4), np.float64(94.45), np.float64(94.5), np.float64(94.55), np.float64(94.6), np.float64(94.65), np.float64(94.7), np.float64(94.75), np.float64(94.8), np.float64(94.85), np.float64(94.9), np.float64(94.95), np.float64(95.0), np.float64(95.05), np.float64(95.1), np.float64(95.15), np.float64(95.2), np.float64(95.25), np.float64(95.3), np.float64(95.35), np.float64(95.4), np.float64(95.45), np.float64(95.5), np.float64(95.55), np.float64(95.6), np.float64(95.65), np.float64(95.7), np.float64(95.75), np.float64(95.8), np.float64(95.85), np.float64(95.9), np.float64(95.95), np.float64(96.0), np.float64(96.05), np.float64(96.1), np.float64(96.15), np.float64(96.2), np.float64(96.25), np.float64(96.3), np.float64(96.35), np.float64(96.4), np.float64(96.5), np.float64(96.55), np.float64(96.6), np.float64(96.65), np.float64(96.7), np.float64(96.75), np.float64(96.8), np.float64(96.85), np.float64(96.9), np.float64(96.95), np.float64(97.0), np.float64(97.05), np.float64(97.1), np.float64(97.2), np.float64(97.25), np.float64(97.35), np.float64(97.45), np.float64(97.55), np.float64(97.65), np.float64(97.7), np.float64(97.75), np.float64(97.8), np.float64(97.85), np.float64(97.9), np.float64(97.95), np.float64(98.0), np.float64(98.05), np.float64(98.1), np.float64(98.15), np.float64(98.2), np.float64(98.25), np.float64(98.3), np.float64(98.35), np.float64(98.4), np.float64(98.45), np.float64(98.5), np.float64(98.55), np.float64(98.6), np.float64(98.65), np.float64(98.7), np.float64(98.75), np.float64(98.8), np.float64(98.85), np.float64(98.9), np.float64(99.0), np.float64(99.05), np.float64(99.1), np.float64(99.15), np.float64(99.2), np.float64(99.25), np.float64(99.3), np.float64(99.35), np.float64(99.4), np.float64(99.45), np.float64(99.5), np.float64(99.55), np.float64(99.6), np.float64(99.65), np.float64(99.7), np.float64(99.75), np.float64(99.8), np.float64(99.85), np.float64(99.9), np.float64(99.95), np.float64(100.0), np.float64(100.05), np.float64(100.1), np.float64(100.15), np.float64(100.2), np.float64(100.25), np.float64(100.3), np.float64(100.35), np.float64(100.4), np.float64(100.45), np.float64(100.5), np.float64(100.55), np.float64(100.6), np.float64(100.65), np.float64(100.7), np.float64(100.75), np.float64(100.8), np.float64(100.85), np.float64(100.9), np.float64(100.95), np.float64(101.0), np.float64(101.05), np.float64(101.1), np.float64(101.15), np.float64(101.25), np.float64(101.3), np.float64(101.35), np.float64(101.4), np.float64(101.45), np.float64(101.5), np.float64(101.55), np.float64(101.6), np.float64(101.7), np.float64(101.75), np.float64(101.8), np.float64(101.85), np.float64(101.9), np.float64(101.95), np.float64(102.0), np.float64(102.05), np.float64(102.1), np.float64(102.15), np.float64(102.25), np.float64(102.35), np.float64(102.4), np.float64(102.45), np.float64(102.5), np.float64(102.55), np.float64(102.6), np.float64(102.65), np.float64(102.7), np.float64(102.8), np.float64(102.85), np.float64(102.9), np.float64(102.95), np.float64(103.0), np.float64(103.05), np.float64(103.1), np.float64(103.15), np.float64(103.2), np.float64(103.25), np.float64(103.3), np.float64(103.35), np.float64(103.4), np.float64(103.45), np.float64(103.5), np.float64(103.6), np.float64(103.65), np.float64(103.7), np.float64(103.75), np.float64(103.8), np.float64(103.85), np.float64(103.9), np.float64(103.95), np.float64(104.0), np.float64(104.05), np.float64(104.1), np.float64(104.15), np.float64(104.2), np.float64(104.25), np.float64(104.3), np.float64(104.35), np.float64(104.4), np.float64(104.45), np.float64(104.5), np.float64(104.55), np.float64(104.6), np.float64(104.65), np.float64(104.7), np.float64(104.75), np.float64(104.8), np.float64(104.85), np.float64(104.9), np.float64(104.95), np.float64(105.0), np.float64(105.05), np.float64(105.1), np.float64(105.15), np.float64(105.2), np.float64(105.25), np.float64(105.3), np.float64(105.35), np.float64(105.4), np.float64(105.45), np.float64(105.5), np.float64(105.55), np.float64(105.6), np.float64(105.65), np.float64(105.7), np.float64(105.75), np.float64(105.8), np.float64(105.85), np.float64(105.9), np.float64(105.95), np.float64(106.0), np.float64(106.05), np.float64(106.1), np.float64(106.15), np.float64(106.2), np.float64(106.25), np.float64(106.3), np.float64(106.35), np.float64(106.4), np.float64(106.45), np.float64(106.5), np.float64(106.55), np.float64(106.6), np.float64(106.65), np.float64(106.7), np.float64(106.75), np.float64(106.8), np.float64(106.85), np.float64(106.9), np.float64(106.95), np.float64(107.0), np.float64(107.05), np.float64(107.15), np.float64(107.2), np.float64(107.25), np.float64(107.35), np.float64(107.4), np.float64(107.45), np.float64(107.5), np.float64(107.55), np.float64(107.6), np.float64(107.65), np.float64(107.7), np.float64(107.75), np.float64(107.9), np.float64(107.95), np.float64(108.0), np.float64(108.05), np.float64(108.1), np.float64(108.15), np.float64(108.2), np.float64(108.25), np.float64(108.3), np.float64(108.35), np.float64(108.4), np.float64(108.45), np.float64(108.5), np.float64(108.55), np.float64(108.6), np.float64(108.65), np.float64(108.75), np.float64(108.8), np.float64(108.85), np.float64(108.9), np.float64(108.95), np.float64(109.0), np.float64(109.05), np.float64(109.1), np.float64(109.15), np.float64(109.2), np.float64(109.25), np.float64(109.3), np.float64(109.4), np.float64(109.45), np.float64(109.5), np.float64(109.55), np.float64(109.6), np.float64(109.65), np.float64(109.7), np.float64(109.75), np.float64(109.8), np.float64(109.85), np.float64(109.9), np.float64(109.95), np.float64(110.0), np.float64(110.05), np.float64(110.1), np.float64(110.15), np.float64(110.2), np.float64(110.25), np.float64(110.3), np.float64(110.35), np.float64(110.45), np.float64(110.5), np.float64(110.55), np.float64(110.6), np.float64(110.65), np.float64(110.7), np.float64(110.75), np.float64(110.8), np.float64(110.85), np.float64(110.9), np.float64(111.05), np.float64(111.1), np.float64(111.15), np.float64(111.2), np.float64(111.25), np.float64(111.3), np.float64(111.35), np.float64(111.4), np.float64(111.45), np.float64(111.5), np.float64(111.55), np.float64(111.6), np.float64(111.65), np.float64(111.75), np.float64(111.8), np.float64(111.9), np.float64(111.95), np.float64(112.1), np.float64(112.2), np.float64(112.25), np.float64(112.35), np.float64(112.4), np.float64(112.55), np.float64(112.6), np.float64(112.75), np.float64(112.9), np.float64(112.95), np.float64(113.0), np.float64(113.05), np.float64(113.1), np.float64(113.15), np.float64(113.2), np.float64(113.25), np.float64(113.3), np.float64(113.35), np.float64(113.4), np.float64(113.45), np.float64(113.6), np.float64(113.65), np.float64(113.75), np.float64(113.8), np.float64(113.95), np.float64(114.0), np.float64(114.05), np.float64(114.1), np.float64(114.2), np.float64(114.3), np.float64(114.35), np.float64(114.45), np.float64(114.5), np.float64(114.55), np.float64(114.6), np.float64(114.65), np.float64(114.7), np.float64(114.75), np.float64(114.85), np.float64(114.9), np.float64(114.95), np.float64(115.0), np.float64(115.05), np.float64(115.1), np.float64(115.15), np.float64(115.25), np.float64(115.5), np.float64(115.55), np.float64(115.6), np.float64(115.65), np.float64(115.75), np.float64(115.8), np.float64(115.85), np.float64(116.0), np.float64(116.05), np.float64(116.1), np.float64(116.15), np.float64(116.2), np.float64(116.25), np.float64(116.3), np.float64(116.4), np.float64(116.45), np.float64(116.5), np.float64(116.55), np.float64(116.6), np.float64(116.75), np.float64(116.8), np.float64(116.85), np.float64(116.95), np.float64(117.15), np.float64(117.2), np.float64(117.35), np.float64(117.45), np.float64(117.5), np.float64(117.6), np.float64(117.8), np.float64(118.2), np.float64(118.35), np.float64(118.6), np.float64(118.65), np.float64(118.75)]\n",
      "InternetService: ['DSL', 'Fiber optic', 'No']\n",
      "SeniorCitizen: [np.int64(0), np.int64(1)]\n",
      "Partner: ['No', 'Yes']\n",
      "Dependents: ['No', 'Yes']\n",
      "OnlineSecurity: ['No', 'No internet service', 'Yes']\n",
      "OnlineBackup: ['No', 'No internet service', 'Yes']\n",
      "DeviceProtection: ['No', 'No internet service', 'Yes']\n",
      "TechSupport: ['No', 'No internet service', 'Yes']\n",
      "PaymentMethod: ['Bank transfer (automatic)', 'Credit card (automatic)', 'Electronic check', 'Mailed check']\n",
      "Total: [' ', '100.2', '100.25', '100.35', '100.4', '100.8', '100.9', '1001.2', '1001.5', '1003.05', '1004.35', '1004.5', '1004.75', '1005.7', '1006.9', '1007.8', '1007.9', '1008.55', '1008.7', '1009.25', '101.1', '101.45', '101.65', '101.9', '1010', '1011.05', '1011.5', '1011.8', '1012.4', '1013.05', '1013.2', '1013.35', '1013.6', '1014.25', '1016.7', '1017.35', '102.45', '102.5', '102.75', '1020.2', '1020.75', '1021.55', '1021.75', '1021.8', '1022.5', '1022.6', '1022.95', '1023.75', '1023.85', '1023.9', '1023.95', '1024', '1024.65', '1024.7', '1025.05', '1025.15', '1025.95', '1026.35', '1027.25', '1028.75', '1028.9', '1029.35', '1029.75', '1029.8', '103.7', '1031.1', '1031.4', '1031.7', '1032', '1032.05', '1033', '1033.9', '1033.95', '1035.5', '1035.7', '1036', '1036.75', '1037.75', '1039.45', '104.2', '104.3', '1041.8', '1042.65', '1043.3', '1043.35', '1043.4', '1043.8', '1045.25', '1046.1', '1046.2', '1046.5', '1047.7', '1048.45', '1048.85', '1049.05', '1049.6', '105.5', '105.6', '1050.5', '1051.05', '1051.9', '1052.35', '1052.4', '1054.6', '1054.75', '1054.8', '1055.9', '1056.95', '1057', '1057.55', '1057.85', '1058.1', '1058.25', '1058.6', '1059.55', '106.2', '106.55', '106.8', '106.85', '106.9', '1060.2', '1060.6', '1061.6', '1062.1', '1064.65', '1064.95', '1066.15', '1066.9', '1067.05', '1067.15', '1067.65', '1068.15', '1068.85', '107.05', '107.1', '107.25', '107.6', '1070.15', '1070.25', '1070.5', '1070.7', '1071.4', '1071.6', '1072', '1072.6', '1073.3', '1074.3', '1074.65', '1077.05', '1077.5', '1077.95', '1078.75', '1078.9', '1079.05', '1079.45', '1079.65', '108.05', '108.15', '108.65', '108.7', '108.95', '1080.55', '1081.25', '1081.45', '1082.75', '1082.8', '1083', '1083.7', '1086.75', '1087.25', '1087.45', '1087.7', '1088.25', '109.2', '109.25', '109.3', '109.5', '109.6', '109.8', '1090.1', '1090.6', '1090.65', '1092.35', '1093', '1093.1', '1093.2', '1093.4', '1094.35', '1094.5', '1095.3', '1095.65', '1096.25', '1096.6', '1096.65', '1097.15', '1098.85', '1099.6', '110.05', '110.15', '1101.85', '1102.4', '1103.25', '1105.4', '1107.2', '1107.25', '1108', '1108.2', '1108.6', '1108.8', '111.05', '111.4', '111.65', '1110.05', '1110.35', '1110.5', '1111.2', '1111.65', '1111.85', '1112.3', '1113.95', '1114.55', '1114.85', '1115.15', '1115.2', '1115.6', '1117.55', '1118.8', '1119.35', '1119.9', '112.3', '112.75', '1120.3', '1120.95', '1121.05', '1122.4', '1123.15', '1123.65', '1124.2', '1125.2', '1125.6', '1126.35', '1126.75', '1127.2', '1127.35', '1128.1', '1129.1', '1129.35', '1129.75', '113.1', '113.35', '113.5', '113.55', '113.85', '113.95', '1130', '1130.85', '1131.2', '1131.3', '1131.5', '1132.35', '1132.75', '1133.65', '1133.7', '1133.9', '1134.25', '1135.7', '1137.05', '1138.8', '1139.2', '114.1', '114.15', '114.7', '1140.05', '1143.8', '1144.5', '1144.6', '1145.35', '1145.7', '1146.05', '1146.65', '1147', '1147.45', '1147.85', '1148.1', '1149.65', '115.1', '115.95', '1151.05', '1151.55', '1152.7', '1152.8', '1153.25', '1155.6', '1156.1', '1156.35', '1156.55', '1157.05', '1158.85', '116.6', '116.65', '116.85', '116.95', '1160.45', '1160.75', '1161.75', '1162.85', '1164.05', '1164.3', '1165.55', '1165.6', '1165.9', '1166.7', '1167.6', '1167.8', '1169.35', '117.05', '117.8', '117.95', '1170.5', '1170.55', '1171.3', '1171.5', '1172.95', '1173.35', '1173.55', '1174.35', '1174.8', '1175.6', '1175.85', '1177.05', '1177.95', '1178.25', '1178.4', '1178.75', '118.25', '118.3', '118.4', '118.5', '1180.95', '1181.75', '1182.55', '1183.05', '1183.2', '1183.8', '1184', '1185', '1185.95', '1187.05', '1188.2', '1188.25', '1189.4', '1189.9', '119.3', '119.5', '119.75', '1190.5', '1191.2', '1191.4', '1192.3', '1192.7', '1193.05', '1193.55', '1194.3', '1195.25', '1195.75', '1195.95', '1198.05', '1198.8', '1199.4', '120.25', '1200.15', '1201.15', '1201.65', '1203.9', '1203.95', '1205.05', '1205.5', '1206.05', '1207', '1208.15', '1208.35', '1208.6', '1209.25', '121.25', '1210.3', '1210.4', '1211.65', '1212.1', '1212.25', '1212.85', '1214.05', '1215.1', '1215.45', '1215.6', '1215.65', '1215.8', '1216.35', '1216.6', '1217.25', '1218.25', '1218.45', '1218.55', '1218.65', '1219.85', '122', '122.7', '122.9', '1221.55', '1221.65', '1222.05', '1222.25', '1222.65', '1222.8', '1224.05', '1225.65', '1226.45', '1228.65', '1229.1', '123.05', '123.65', '123.8', '1230.25', '1230.9', '1231.85', '1232.9', '1233.15', '1233.25', '1233.4', '1233.65', '1234.6', '1234.8', '1235.55', '1236.15', '1237.3', '1237.65', '1237.85', '1238.45', '1238.65', '124.4', '124.45', '1240.15', '1240.25', '1240.8', '1242.2', '1242.25', '1242.45', '1244.5', '1244.8', '1245.05', '1245.6', '1246.4', '1247.75', '1248.9', '1249.25', '125', '125.5', '125.95', '1250.1', '1250.85', '1252', '1252.85', '1253.15', '1253.5', '1253.65', '1253.8', '1253.9', '1254.7', '1255.1', '1258.15', '1258.3', '1258.35', '1258.6', '1259', '1259.35', '126.05', '1260.7', '1261', '1261.35', '1261.45', '1261.7', '1263.05', '1263.85', '1263.9', '1264.2', '1265.65', '1266.1', '1266.35', '1266.4', '1267', '1267.05', '1267.2', '1267.95', '1268.85', '1269.1', '1269.55', '1269.6', '127.1', '1270.2', '1270.25', '1270.55', '1271.8', '1272.05', '1273.3', '1274.05', '1274.45', '1275.6', '1275.65', '1275.7', '1275.85', '1277.5', '1277.75', '1278.8', '1279', '128.6', '1281', '1281.25', '1282.85', '1284.2', '1285.05', '1285.8', '1286', '1286.05', '1287.85', '1288', '1288.3', '1288.75', '129.15', '129.2', '129.55', '129.6', '1290', '1291.3', '1291.35', '1292.2', '1292.6', '1292.65', '1293.8', '1294.6', '1295.4', '1296.15', '1296.8', '1297.35', '1297.8', '1298.7', '1299.1', '1299.8', '130.1', '130.15', '130.25', '130.5', '130.55', '130.75', '1301', '1301.1', '1301.7', '1301.9', '1302.65', '1303.25', '1303.5', '1304.8', '1304.85', '1305.95', '1306.3', '1307.8', '1308.1', '1308.4', '1309', '1309.15', '131.05', '131.65', '1311.3', '1311.6', '1311.75', '1312.15', '1312.45', '1313.25', '1313.55', '1315', '1315.35', '1316.9', '1317.95', '1319.85', '1319.95', '132.2', '132.25', '132.4', '1321.3', '1322.55', '1322.85', '1323.7', '1325.85', '1326.25', '1326.35', '1327.15', '1327.4', '1327.85', '1328.15', '1328.35', '1329.15', '1329.2', '1331.05', '1332.4', '1334', '1334.45', '1334.5', '1335.2', '1336.1', '1336.15', '1336.35', '1336.65', '1336.8', '1336.9', '1337.45', '1337.5', '1338.15', '1339.8', '134.05', '134.35', '134.5', '134.6', '134.7', '134.75', '1340.1', '1341.5', '1342.15', '1343.4', '1344.5', '1345.55', '1345.65', '1345.75', '1345.85', '1346.2', '1346.3', '1346.9', '1347.15', '1348.5', '1348.9', '1348.95', '135', '135.2', '135.75', '1350.15', '1354.4', '1355.1', '1355.45', '1356.3', '1356.7', '1357.1', '1358.6', '1358.85', '1359', '1359.45', '1359.5', '1359.7', '136.05', '136.75', '1360.25', '1362.85', '1363.25', '1363.45', '1364.3', '1364.75', '1367.75', '1369.8', '137.1', '137.25', '137.6', '137.85', '137.95', '1370.35', '1372.45', '1372.9', '1373', '1373.05', '1374.2', '1374.35', '1374.9', '1375.15', '1375.4', '1375.6', '1376.5', '1377.7', '1378.25', '1378.45', '1378.75', '1379.6', '1379.8', '138.85', '1380.1', '1380.4', '1381.2', '1381.8', '1382.9', '1383.6', '1384.75', '1385.85', '1386.8', '1386.9', '1387', '1387.35', '1387.45', '1388', '1388.45', '1388.75', '1389.2', '1389.35', '1389.6', '1389.85', '139.05', '139.25', '139.35', '139.4', '139.75', '1390.6', '1390.85', '1391.15', '1391.65', '1392.25', '1393.6', '1394.55', '1395.05', '1396', '1396.25', '1396.9', '1397.3', '1397.65', '1398.25', '1398.6', '1399.35', '140.1', '140.4', '140.7', '140.95', '1400.3', '1400.55', '1400.85', '1401.15', '1401.4', '1402.25', '1403.1', '1404.65', '1405.3', '1406', '1406.65', '1406.9', '141.1', '141.45', '141.5', '141.6', '141.65', '141.7', '1410.25', '1411.2', '1411.35', '1411.65', '1411.9', '1412.4', '1412.65', '1413', '1414.2', '1414.45', '1414.65', '1414.8', '1415', '1415.55', '1415.85', '1416.2', '1416.5', '1416.75', '1417.9', '1419.4', '142.35', '1421.75', '1421.9', '1422.05', '1422.1', '1422.65', '1423.05', '1423.15', '1423.35', '1423.65', '1423.85', '1424.2', '1424.4', '1424.5', '1424.6', '1424.9', '1424.95', '1425.45', '1426.4', '1426.45', '1426.75', '1427.55', '1429.65', '143.35', '143.65', '143.9', '1430.05', '1430.25', '1430.95', '1431.65', '1432.55', '1433.8', '1434.1', '1434.6', '1436.95', '1438.05', '1439.35', '144', '144.15', '144.35', '144.55', '144.8', '144.95', '1440.75', '1441.1', '1441.65', '1441.8', '1441.95', '1442', '1442.2', '1442.6', '1442.65', '1443.65', '1444.05', '1444.65', '1445.2', '1445.3', '1445.95', '1446.8', '1447.9', '1448.6', '1448.8', '145', '145.15', '145.4', '1451.1', '1451.6', '1451.9', '1453.1', '1454.15', '1454.25', '1457.25', '1458.1', '1459.35', '146.05', '146.3', '146.4', '146.6', '146.65', '146.9', '1460.65', '1460.85', '1461.15', '1461.45', '1462.05', '1462.6', '1463.45', '1463.5', '1463.7', '1465.75', '1466.1', '1468.75', '1468.9', '147.15', '147.5', '147.55', '147.75', '147.8', '1470.05', '1470.95', '1471.75', '1474.35', '1474.75', '1474.9', '1476.25', '1477.65', '1478.85', '148.05', '1482.3', '1483.25', '1489.3', '149.05', '149.55', '1490.4', '1490.95', '1492.1', '1493.1', '1493.2', '1493.55', '1493.75', '1494.5', '1495.1', '1496.45', '1496.9', '1497.05', '1497.9', '1498.2', '1498.35', '1498.55', '1498.65', '1498.85', '150', '150.35', '150.6', '150.75', '150.85', '1500.25', '1500.5', '1500.95', '1501.75', '1502.25', '1502.65', '1504.05', '1505.05', '1505.15', '1505.35', '1505.45', '1505.85', '1505.9', '1506.4', '1507', '1509.8', '1509.9', '151.3', '151.65', '151.75', '151.8', '1510.3', '1510.5', '1511.2', '1513.6', '1514.85', '1515.1', '1516.6', '1517.5', '1519', '152.3', '152.45', '152.6', '152.7', '152.95', '1520.1', '1520.9', '1521.2', '1522.65', '1522.7', '1523.4', '1524.85', '1525.35', '1527.35', '1527.5', '1529.2', '1529.45', '1529.65', '153.05', '153.3', '153.8', '153.95', '1530.6', '1531.4', '1532.45', '1533.8', '1534.05', '1534.75', '1536.75', '1537.85', '1537.9', '1538.6', '1539.45', '1539.75', '1539.8', '154.3', '154.55', '154.65', '154.8', '154.85', '1540.05', '1540.2', '1540.35', '1544.05', '1545.4', '1546.3', '1547.35', '1548.65', '1549.75', '155.35', '155.65', '155.8', '155.9', '1551.6', '1553.2', '1553.9', '1553.95', '1554', '1554.9', '1555.65', '1556.85', '1558.65', '1558.7', '1559.15', '1559.25', '1559.3', '1559.45', '156.1', '156.25', '156.35', '156.4', '156.85', '1561.5', '1563.9', '1563.95', '1564.05', '1564.4', '1565.7', '1566.75', '1566.9', '1567', '1567.55', '157.55', '157.65', '157.75', '1570.7', '1573.05', '1573.7', '1573.95', '1574.45', '1574.5', '1579.7', '158.35', '158.4', '158.95', '1580.1', '1581.2', '1581.95', '1582.75', '1583.5', '1584.8', '1587.55', '1588.25', '1588.7', '1588.75', '159.15', '159.2', '159.35', '159.4', '159.45', '1592.35', '1593.1', '1594.75', '1595.5', '1596.6', '1597.05', '1597.25', '1597.4', '160.05', '160.75', '160.8', '160.85', '1600.25', '1600.95', '1601.2', '1601.5', '1604.5', '1607.2', '1608.15', '161.15', '161.45', '161.5', '161.65', '161.95', '1611', '1611.15', '1611.65', '1612.2', '1612.75', '1614.05', '1614.2', '1614.7', '1614.9', '1615.1', '1616.15', '1617.5', '1618.2', '162.15', '162.3', '162.45', '162.55', '1620.2', '1620.25', '1620.45', '1620.8', '1621.35', '1622.45', '1623.15', '1623.4', '1625', '1625.65', '1626.05', '1626.4', '1629.2', '163.2', '163.55', '163.6', '163.7', '1630.4', '1633', '1636.95', '1637.3', '1637.4', '1638.7', '1639.3', '164.3', '164.5', '164.6', '164.85', '1640', '1641.3', '1641.8', '1642.75', '1643.25', '1643.55', '1646.45', '1647', '1648.45', '165', '165.2', '165.35', '165.4', '165.45', '165.5', '1651.95', '1652.1', '1652.4', '1652.95', '1653.45', '1653.85', '1654.45', '1654.6', '1654.7', '1654.75', '1654.85', '1655.35', '1657.4', '166.3', '1660', '1662.05', '1663.5', '1663.75', '1664.3', '1665.2', '1667.25', '1669.4', '167.2', '167.3', '167.5', '1671.6', '1672.1', '1672.15', '1672.35', '1673.4', '1673.8', '1676.95', '1677.85', '1678.05', '1679.25', '1679.4', '1679.65', '168.15', '168.2', '168.5', '168.6', '168.65', '168.9', '1680.25', '1681.6', '1682.05', '1682.4', '1683.6', '1683.7', '1685.9', '1686.15', '1686.85', '1687.95', '1688.9', '1689.45', '169.05', '169.45', '169.65', '169.75', '169.8', '1691.9', '1692.6', '1696.2', '1697.7', '1698.55', '1699.15', '170.5', '170.85', '170.9', '1700.9', '1701.65', '1702.9', '1704.95', '1706.45', '1709.1', '1709.15', '171', '171.15', '171.45', '1710.15', '1710.45', '1710.9', '1712.7', '1712.9', '1713.1', '1714.55', '1714.95', '1715.1', '1715.15', '1715.65', '1716.45', '1718.2', '1718.35', '1718.95', '1719.15', '172.35', '172.85', '1723.95', '1724.15', '1725', '1725.4', '1725.95', '1727.5', '1728.2', '1729.35', '173', '173.15', '1730.35', '1730.65', '1732.6', '1732.95', '1733.15', '1734.2', '1734.5', '1734.65', '1737.45', '1738.9', '1739.6', '174.2', '174.3', '174.45', '174.65', '174.7', '174.75', '174.8', '1740.7', '1740.8', '1742.45', '1742.5', '1742.75', '1742.95', '1743.05', '1743.5', '1743.9', '1745.2', '1745.5', '1747.2', '1747.85', '1748.55', '1748.9', '1750.7', '1750.85', '1752.45', '1752.55', '1752.65', '1753', '1755.35', '1756.2', '1756.6', '1758.6', '1758.9', '1759.4', '1759.55', '176.2', '176.3', '1760.25', '1761.05', '1761.45', '1763.55', '1764.75', '1765.95', '1766.75', '1767.35', '1769.6', '177.4', '1772.25', '1775.8', '1776', '1776.45', '1776.55', '1776.95', '1777.6', '1777.9', '1778.5', '1778.7', '1779.95', '178.1', '178.5', '178.7', '178.8', '178.85', '1781.35', '1782', '1782.05', '1782.4', '1783.6', '1783.75', '1784.5', '1784.9', '1785.65', '1787.35', '1789.25', '1789.65', '1789.9', '179.25', '179.35', '179.85', '1790.15', '1790.35', '1790.6', '1790.65', '1790.8', '1793.25', '1794.65', '1794.8', '1796.55', '1797.1', '1797.75', '1798.65', '1798.9', '1799.3', '18.8', '18.85', '18.9', '180.25', '180.3', '180.7', '1800.05', '1801.1', '1801.9', '1802.15', '1802.55', '1803.7', '1806.35', '1808.7', '1809.35', '181.1', '181.5', '181.6', '181.65', '181.7', '181.8', '1810.55', '1810.85', '1813.1', '1813.35', '1815', '1815.3', '1815.65', '1816.2', '1816.75', '1818.3', '1818.9', '1820.45', '1820.9', '1821.2', '1821.8', '1821.95', '1825.5', '1826.7', '183.15', '183.75', '1830.05', '1830.1', '1832.4', '1834.15', '1834.95', '1835.3', '1836.25', '1836.9', '1837.7', '1837.9', '1838.15', '184.05', '184.1', '184.15', '184.4', '184.65', '184.95', '1840.75', '1841.2', '1841.9', '1842.7', '1842.8', '1843.05', '1845.9', '1846.65', '1847.55', '1848.8', '1849.2', '1849.95', '185.2', '185.4', '185.55', '185.6', '1850.65', '1851.45', '1852.85', '1855.65', '1856.4', '1857.25', '1857.3', '1857.75', '1857.85', '1859.1', '1859.2', '1859.5', '186.05', '186.15', '186.3', '1861.1', '1861.5', '1862.9', '1863.8', '1864.2', '1864.65', '1866.45', '1867.6', '1867.7', '1868.4', '187.35', '187.45', '187.75', '1871.15', '1871.85', '1872.2', '1873.7', '1874.3', '1874.45', '1875.25', '1875.55', '1879.25', '188.1', '188.7', '1880.85', '1882.55', '1882.8', '1884.65', '1885.15', '1886.25', '1886.4', '1887', '1888.25', '1888.45', '1888.65', '1889.5', '189.1', '189.2', '189.45', '189.95', '1893.5', '1893.95', '1898.1', '1899.65', '19', '19.05', '19.1', '19.15', '19.2', '19.25', '19.3', '19.4', '19.45', '19.5', '19.55', '19.6', '19.65', '19.7', '19.75', '19.8', '19.85', '19.9', '19.95', '190.05', '190.1', '190.25', '190.5', '1900.25', '1901', '1901.05', '1901.25', '1901.65', '1902', '1905.4', '1905.7', '1907.85', '1908.35', '191.05', '191.1', '191.35', '1910.6', '1910.75', '1911.5', '1912.15', '1912.85', '1914.5', '1914.9', '1916', '1916.2', '1917.1', '1923.5', '1923.85', '1924.1', '1927.3', '1928.7', '1929', '1929.35', '1929.95', '193.05', '193.6', '193.8', '1930.9', '1931.3', '1931.75', '1932.75', '1934.45', '1936.85', '1937.4', '1938.05', '1938.9', '1939.35', '194.2', '194.55', '1940.8', '1940.85', '1941.5', '1943.2', '1943.9', '1948.35', '1949.4', '195.05', '195.3', '195.65', '1951', '1952.25', '1952.8', '1955.4', '1956.4', '1957.1', '1958.45', '1958.95', '1959.5', '196.15', '196.35', '196.4', '196.75', '196.9', '196.95', '1961.6', '1964.6', '1968.1', '197.4', '197.7', '1970.5', '1971.15', '1971.5', '1972.35', '1973.75', '1974.8', '1975.85', '1978.65', '198', '198.1', '198.25', '198.5', '198.6', '198.7', '1980.3', '1982.1', '1982.6', '1983.15', '1985.15', '1988.05', '199.45', '199.75', '199.85', '1990.5', '1992.2', '1992.55', '1992.85', '1992.95', '1993.2', '1993.25', '1993.8', '1994.3', '20', '20.05', '20.1', '20.15', '20.2', '20.25', '20.3', '20.35', '20.4', '20.45', '20.5', '20.55', '20.6', '20.65', '20.7', '20.75', '20.8', '20.85', '20.9', '20.95', '200.2', '2000.2', '2001', '2001.5', '2003.6', '2006.1', '2006.95', '2007.25', '2007.85', '201', '201.1', '201.7', '201.95', '2010.55', '2010.95', '2011.4', '2012.7', '2015.35', '2015.8', '2016.3', '2016.45', '2018.1', '2018.4', '2019.8', '202.15', '202.25', '202.3', '202.9', '2020.9', '2021.2', '2021.35', '2023.55', '2024.1', '2025.1', '2028.8', '2029.05', '203.95', '2030.3', '2030.75', '2031.95', '2032.3', '2033.05', '2033.85', '2034.25', '2036.55', '2038.7', '204.55', '204.7', '2042.05', '2043.45', '2044.75', '2044.95', '2045.55', '2048.8', '2049.05', '205.05', '2053.05', '2054.4', '2058.5', '206.15', '206.6', '2062.15', '2065.15', '2065.4', '2066', '2067', '2068.55', '207.35', '207.4', '2070.05', '2070.6', '2070.75', '2072.75', '2075.1', '2076.05', '2076.2', '2077.95', '2078.55', '2078.95', '208', '208.25', '208.45', '208.7', '208.85', '2080.1', '2082.95', '2083.1', '2085.45', '2088.05', '2088.45', '2088.75', '2088.8', '209.1', '209.9', '2090.25', '2092.9', '2093.4', '2093.9', '2094.65', '2094.9', '2095', '2096.1', '21', '21.05', '21.1', '210.3', '210.65', '210.75', '2104.55', '2106.05', '2106.3', '2107.15', '2108.35', '2109.35', '211.95', '2110.15', '2111.3', '2111.45', '2117.2', '2117.25', '2119.5', '212.3', '212.4', '2122.05', '2122.45', '213.35', '2130.45', '2130.55', '2134.3', '2135.5', '2136.9', '2139.1', '2139.2', '214.4', '214.55', '214.75', '2142.8', '2145', '2146.5', '2149.05', '215.2', '215.25', '215.8', '2151.6', '2156.25', '2157.3', '2157.5', '2157.95', '216.2', '216.45', '216.75', '216.9', '2162.6', '2165.05', '2168.15', '2168.9', '2169.4', '2169.75', '2169.8', '217.1', '217.45', '217.5', '217.55', '2171.15', '2172.05', '2177.45', '2178.6', '218.5', '218.55', '2180.55', '2181.55', '2181.75', '2184.35', '2184.6', '2184.85', '2186.4', '2187.15', '2187.55', '2188.45', '2188.5', '219', '219.35', '219.5', '219.65', '2191.15', '2191.7', '2192.9', '2193', '2193.2', '2193.65', '2196.15', '2196.3', '2196.45', '2198.3', '2198.9', '2199.05', '220.1', '220.35', '220.4', '220.45', '220.6', '220.65', '220.75', '220.8', '220.95', '2200.25', '2200.7', '2201.75', '2203.1', '2203.65', '2203.7', '2204.35', '2208.05', '2208.75', '2209.15', '2209.75', '221.1', '221.35', '221.7', '221.9', '2210.2', '2211.8', '2212.55', '2215', '2215.25', '2215.4', '2215.45', '2217.15', '222.3', '222.65', '2220.1', '2221.55', '2224.5', '2227.1', '2227.8', '223.15', '223.45', '223.6', '223.75', '223.9', '2230.85', '2231.05', '2234.55', '2234.95', '2236.2', '2237.55', '2238.5', '2239.4', '2239.65', '224.05', '224.5', '224.85', '2243.9', '2244.95', '2245.4', '2248.05', '2249.1', '2249.95', '225.55', '225.6', '225.65', '225.75', '225.85', '2250.65', '2254.2', '2257.75', '2258.25', '2259.35', '226.2', '226.45', '226.55', '226.8', '226.95', '2263.4', '2263.45', '2264.05', '2264.5', '2265', '2265.25', '227.35', '227.45', '2271.85', '2272.8', '2274.1', '2274.35', '2274.9', '2275.1', '2276.1', '2276.95', '2277.65', '2278.75', '228', '228.4', '228.65', '228.75', '2281.6', '2282.55', '2282.95', '2283.15', '2283.3', '2287.25', '2288.7', '2289.9', '229.4', '229.5', '229.55', '229.6', '229.7', '2291.2', '2292.75', '2293.6', '2296.25', '2298.55', '2298.9', '23.45', '2301.15', '2302.35', '2303.35', '2308.6', '2309.55', '231.45', '231.8', '2310.2', '2312.55', '2313.8', '2316.85', '2317.1', '2319.8', '232.1', '232.35', '232.4', '232.5', '232.55', '2320.8', '2322.85', '2324.7', '2326.05', '233.55', '233.65', '233.7', '233.9', '2331.3', '2333.05', '2333.85', '2335.3', '2337.45', '2338.35', '2339.3', '234.85', '2341.5', '2341.55', '2342.2', '2343.85', '2344.5', '2345.2', '2345.55', '2347.85', '2347.9', '2348.45', '2349.8', '235', '235.05', '235.1', '235.2', '235.5', '235.65', '235.8', '2351.45', '2351.8', '2354.8', '2356.75', '2357.75', '2361.8', '2362.1', '2364', '2365.15', '2368.4', '2369.05', '2369.3', '2369.7', '237.2', '237.25', '237.3', '237.65', '237.7', '237.75', '237.95', '2375.2', '2375.4', '2379.1', '238.1', '238.15', '238.5', '2381.55', '2383.6', '2384.15', '2386.85', '2387.75', '239', '239.05', '239.45', '239.55', '239.75', '2390.45', '2391.15', '2391.8', '2395.05', '2395.7', '2398.4', '24', '24.05', '24.2', '24.25', '24.4', '24.45', '24.6', '24.7', '24.75', '24.8', '24.9', '240.45', '2401.05', '2404.1', '2404.15', '2404.85', '2405.05', '2406.1', '2407.3', '2409.9', '241.3', '2413.05', '2414.55', '2415.95', '2416.1', '2416.55', '2419', '2419.55', '242', '242.05', '242.4', '242.8', '242.95', '2421.6', '2421.75', '2423.4', '2424.05', '2424.45', '2424.5', '2425.4', '2427.1', '2427.35', '2429.1', '243.65', '2431.35', '2431.95', '2433.5', '2433.9', '2434.45', '2435.15', '2438.6', '244.1', '244.45', '244.65', '244.75', '244.8', '244.85', '2440.15', '2440.25', '2441.7', '2443.3', '2444.25', '2447.45', '2447.95', '2448.5', '2448.75', '245.15', '245.2', '2452.7', '2453.3', '2455.05', '2459.8', '246.25', '246.3', '246.5', '246.6', '246.7', '2460.15', '2460.35', '2460.55', '2462.55', '2462.6', '2467.1', '2467.75', '247', '247.25', '2470.1', '2471.25', '2471.6', '2473.95', '2475.35', '2479.05', '2479.25', '248.4', '248.95', '2483.05', '2483.5', '2483.65', '2484', '249.4', '249.55', '249.95', '2490.15', '2492.25', '2494.65', '2495.15', '2495.2', '2496.7', '2497.2', '2497.35', '2498.4', '2499.3', '25', '25.05', '25.1', '25.15', '25.2', '25.25', '25.3', '25.35', '25.4', '25.7', '25.75', '25.8', '25.85', '250.05', '250.1', '250.8', '2509.25', '2509.95', '251.25', '251.6', '251.65', '251.75', '2510.2', '2510.7', '2511.3', '2511.55', '2511.95', '2513.5', '2514.5', '2515.3', '2516.2', '252', '252.75', '2522.4', '2524.45', '253', '253.8', '253.9', '2530.4', '2531.4', '2531.8', '2535.55', '2536.55', '2537', '2538.05', '2538.2', '254.5', '2540.1', '2541.25', '2542.45', '2545.7', '2545.75', '2546.85', '2548.55', '2548.65', '2549.1', '255.25', '255.35', '255.5', '255.55', '255.6', '2550.9', '2552.9', '2553.35', '2553.7', '2554', '2555.05', '2555.9', '256.25', '256.6', '256.75', '2560.1', '2564.3', '2564.95', '2566.3', '2566.5', '2568.15', '2568.55', '257', '257.05', '257.6', '2570', '2570.2', '2572.95', '2575.45', '2576.2', '2576.8', '258.35', '2583.75', '2585.95', '2586', '2587.7', '2588.95', '259.4', '259.65', '259.8', '2595.25', '2595.85', '2596.15', '2597.6', '2598.95', '2599.95', '260.7', '260.8', '260.9', '2602.9', '2603.1', '2603.3', '2603.95', '2606.35', '2607.6', '261.25', '261.3', '261.65', '2610.65', '2613.4', '2614.1', '2618.3', '2619.15', '2619.25', '262.05', '262.3', '2621.75', '2623.65', '2624.25', '2625.25', '2625.55', '2626.15', '2627.2', '2627.35', '2628.6', '263.05', '263.65', '2633.3', '2633.4', '2633.95', '2635', '2636.05', '2638.1', '264.55', '264.8', '264.85', '2640.55', '2642.05', '2647.1', '2647.2', '2649.15', '265.3', '265.35', '265.45', '265.75', '265.8', '2651.1', '2651.2', '2653.65', '2654.05', '2655.25', '2656.3', '2656.5', '2656.7', '2657.55', '2658.4', '2658.8', '2659.4', '2659.45', '266.6', '266.8', '266.9', '266.95', '2660.2', '2661.1', '2664.3', '2665', '2666.75', '2669.45', '267', '267.35', '267.4', '267.6', '2673.45', '2674.15', '2679.7', '268.35', '268.4', '268.45', '2680.15', '2681.15', '2683.2', '2684.35', '2684.85', '2686.05', '2688.45', '2688.85', '2689.35', '269.65', '2692.75', '2696.55', '2697.4', '2698.35', '27.55', '270.15', '270.2', '270.6', '270.7', '270.8', '270.95', '2708.2', '2710.25', '2715.3', '2716.3', '2718.3', '2719.2', '272', '272.15', '272.2', '272.35', '272.95', '2722.2', '2723.15', '2723.4', '2723.75', '2724.25', '2724.6', '2727.3', '2727.8', '2728.6', '273', '273.2', '273.25', '273.4', '273.75', '2730.85', '2731', '2737.05', '274.35', '274.7', '2743.45', '2745.2', '2745.7', '2747.2', '2748.7', '275.4', '275.7', '275.9', '2751', '2753.8', '2754', '2754.45', '2755.35', '2757.85', '2758.15', '276.5', '2762.75', '2763', '2763.35', '2766.4', '2768.35', '2768.65', '2773.9', '2774.55', '2779.5', '278.4', '278.85', '2780.6', '2781.85', '2782.4', '2789.7', '279.2', '279.25', '279.3', '279.5', '279.55', '2790.65', '2791.5', '2793.55', '2796.35', '2796.45', '2799', '2799.75', '28.3', '280', '280.35', '280.4', '280.85', '2802.3', '2804.45', '2806.9', '2807.1', '2807.65', '2809.05', '281', '2812.2', '2813.05', '2815.25', '2816.65', '2820.65', '2823', '283.75', '283.95', '2830.45', '2832.75', '2835.5', '2835.9', '2838.55', '2838.7', '2839.45', '2839.65', '2839.95', '284.3', '284.35', '284.9', '2841.55', '2845.15', '2847.2', '2847.4', '2848.45', '285.2', '2852.4', '2854.55', '2854.95', '2857.6', '286.8', '2861.45', '2862.55', '2862.75', '2866.45', '2867.75', '2868.05', '2868.15', '2869.85', '287.4', '287.85', '2871.5', '2874.15', '2874.45', '2877.05', '2877.95', '2878.55', '2878.75', '2879.2', '2879.9', '288.05', '288.35', '2882.25', '2884.9', '2888.7', '289.1', '289.3', '2890.65', '2893.4', '2894.55', '2896.4', '2896.55', '2896.6', '2897.95', '2898.95', '29.15', '29.7', '29.85', '29.9', '29.95', '290.55', '2901.8', '2907.35', '2907.55', '2908.2', '2909.95', '291.4', '291.45', '291.9', '2911.3', '2911.5', '2911.8', '2917.5', '2917.65', '2919.85', '292.4', '292.8', '292.85', '2921.75', '2924.05', '2928.5', '2929.75', '293.15', '293.3', '293.65', '293.85', '2931', '2933.2', '2933.95', '2934.3', '2936.25', '2937.65', '2939.8', '294.2', '294.45', '294.5', '294.9', '294.95', '2948.6', '295.55', '295.65', '295.95', '2952.85', '2954.5', '2958.95', '2959.8', '296.1', '296.15', '2960.1', '2961.4', '2962', '2964', '2964.05', '2964.8', '2965.75', '2966.95', '2967.35', '297.3', '297.35', '2970.3', '2970.8', '2971.7', '2974.5', '2976.95', '2978.3', '2979.2', '2979.3', '2979.5', '298.35', '298.45', '298.7', '2983.65', '2983.8', '2985.25', '2989.6', '299.05', '299.2', '299.3', '299.4', '299.7', '299.75', '2995.45', '2997.45', '2998', '30.2', '30.5', '30.55', '300.4', '300.7', '300.8', '3000.25', '3001.2', '3003.55', '3004.15', '3005.8', '3007.25', '3008.15', '3008.55', '3009.5', '301.4', '301.55', '301.9', '3011.65', '3013.05', '3014.65', '3015.75', '3017.65', '3019.1', '3019.25', '3019.5', '3019.7', '302.35', '302.45', '302.6', '302.75', '3021.3', '3021.45', '3021.6', '3023.55', '3023.65', '3023.85', '3024.15', '3027.25', '3027.4', '3027.65', '3029.1', '303.15', '303.7', '3030.6', '3035.35', '3035.8', '3036.75', '3038.55', '304.6', '3042.25', '3043.6', '3043.7', '3045.75', '3046.05', '3046.15', '3046.4', '3047.15', '305.1', '305.55', '305.95', '3050.15', '3053', '3055.5', '3058.15', '3058.3', '3058.65', '306.05', '306.6', '3062.45', '3066.45', '3067.2', '3068.6', '3069.45', '307', '307.4', '307.6', '3077', '3078.1', '308.05', '308.1', '308.25', '308.7', '3082.1', '3084.9', '3085.35', '3088.25', '3088.75', '3089.1', '3089.6', '309.1', '309.25', '309.35', '309.4', '3090.05', '3090.65', '3091.75', '3092', '3092.65', '3094.05', '3094.65', '3096.9', '3097', '3097.2', '31.2', '31.35', '31.55', '31.9', '310.6', '3103.25', '3105.55', '3107.3', '3109.9', '311.6', '3110.1', '3112.05', '3116.15', '3119.9', '312.7', '3121.1', '3121.4', '3121.45', '3122.4', '3124.5', '3126.45', '3126.85', '3128.8', '313', '313.4', '313.45', '313.6', '3131.55', '3131.8', '3132.75', '3134.7', '3139.8', '314.45', '314.55', '314.6', '314.95', '3141.7', '3143.65', '3145.15', '3145.9', '3147.15', '3147.5', '315.3', '3152.5', '3157', '316.2', '316.9', '3160.55', '3161.2', '3161.4', '3161.6', '3162.65', '3165.6', '3166.9', '3168', '3168.75', '3169.55', '317.25', '317.75', '3171.15', '3171.6', '3173.35', '3175.85', '3177.25', '318.1', '318.5', '318.6', '318.9', '3180.5', '3181.8', '3182.95', '3183.4', '3184.25', '3186.65', '3186.7', '3187.65', '319.15', '319.6', '319.85', '3190.25', '3190.65', '3196', '3198.6', '3199', '32.7', '320.4', '320.45', '3201.55', '3204.4', '3204.65', '3205.6', '3207.55', '3208.65', '321.05', '321.4', '321.65', '321.7', '321.75', '321.9', '3210.35', '3211.2', '3211.9', '3213.75', '3217.55', '3217.65', '3219.75', '322.5', '322.9', '3221.25', '3229.4', '3229.65', '323.15', '323.25', '323.45', '3231.05', '3233.6', '3233.85', '3236.35', '3237.05', '3238.4', '324.15', '324.2', '324.25', '324.3', '324.6', '324.8', '3242.5', '3243.45', '3244.4', '3246.45', '3247.55', '3249.4', '325.45', '3250.45', '3251.3', '3251.85', '3252', '3254.35', '3255.35', '326.65', '326.8', '3260.1', '3263.6', '3263.9', '3264.45', '3264.5', '3265.95', '3266', '3268.05', '327.45', '3270.25', '3273.55', '3273.8', '3273.95', '3274.35', '3275.15', '328.95', '3281.65', '3282.75', '3283.05', '329.75', '329.8', '329.95', '3292.3', '3297', '33.2', '33.6', '33.7', '330.05', '330.15', '330.25', '330.6', '330.8', '3301.05', '3303.05', '3306.85', '3309.25', '331.3', '331.35', '331.6', '331.85', '331.9', '3313.4', '3314.15', '3316.1', '332.45', '332.5', '332.65', '3320.6', '3320.75', '3321.35', '3326.2', '3327.05', '333.55', '333.6', '333.65', '3330.1', '3334.9', '3334.95', '3339.05', '334.65', '334.8', '3340.55', '3342', '3342.45', '3343.15', '3344.1', '3346.8', '3348.1', '3349.1', '335.4', '335.65', '335.75', '335.95', '3351.55', '3353.4', '3355.65', '3357.9', '3358.65', '336.15', '336.7', '3361.05', '3363.8', '3364.55', '3365.4', '3365.85', '3366.05', '3369.05', '3369.25', '337.9', '3370.2', '3371', '3371.75', '3373.4', '3375.9', '3377.8', '3379.25', '338.1', '338.9', '3382.3', '3384', '3389.25', '339.9', '3395.8', '3398.9', '3399.85', '34.7', '34.75', '34.8', '340.25', '340.35', '340.4', '340.85', '3403.4', '3409.1', '3409.6', '341.35', '341.45', '341.6', '3410', '3410.6', '3413.25', '3414.65', '3415.25', '3416.85', '3418.2', '3419.3', '3419.5', '342.3', '342.4', '3420.5', '3423.5', '3425.35', '343.45', '343.6', '343.95', '3431.75', '3432.9', '3435.6', '3436.1', '3437.45', '3437.5', '3439', '344.2', '344.5', '3440.25', '3442.15', '3442.8', '3444.85', '345.5', '345.9', '3450.15', '3452.55', '3454.6', '3457.45', '3457.9', '346.2', '346.4', '346.45', '3460.3', '3460.95', '3462.1', '3465.05', '3465.7', '3467', '347.25', '347.4', '347.65', '3470.8', '3471.1', '3472.05', '3473.4', '3474.05', '3474.2', '3474.45', '3475.55', '3478.15', '3478.75', '3479.05', '348.15', '348.8', '3480', '3480.35', '3482.85', '3483.45', '3486.65', '3487.95', '3488.15', '349.65', '349.8', '3491.55', '3496.3', '35', '35.05', '35.1', '35.25', '35.45', '35.55', '35.75', '35.85', '35.9', '350.1', '350.3', '350.35', '3503.5', '3505.1', '3509.4', '351.5', '351.55', '3510.3', '3512.15', '3512.5', '3512.9', '3515.25', '3517.9', '352.65', '3520.75', '3521.7', '3522.65', '3527', '3527.3', '3527.6', '3529.95', '353.65', '3532', '3532.25', '3532.85', '3533.6', '3539.25', '354.05', '3540.65', '3541.1', '3541.35', '3541.4', '3545.05', '3545.1', '3545.35', '3548.3', '3549.25', '355.1', '355.2', '355.9', '3551.65', '3554.6', '3557.7', '356.1', '356.15', '356.65', '3561.15', '3562.5', '3563.8', '3565.65', '3566.6', '3566.7', '357', '357.15', '357.6', '357.7', '357.75', '3571.6', '3574.5', '3579.15', '358.05', '358.15', '358.5', '3580.3', '3580.95', '3581.4', '3581.6', '3582.4', '3587.25', '3588.4', '359.4', '3590.2', '3591.25', '3593.8', '3597.5', '36.45', '36.55', '36.8', '360.1', '360.35', '360.55', '3600.65', '3603.45', '3605.2', '3605.6', '3608', '3615.6', '3616.25', '3617.1', '3618.7', '362.2', '362.6', '3623.95', '3624.3', '3624.35', '3625.2', '3626.1', '3626.35', '3627.3', '3629.2', '363.15', '3632', '3634.8', '3635.15', '3638.25', '364.55', '3640.45', '3641.5', '3645.05', '3645.5', '3645.6', '3645.75', '3646.8', '3649.6', '365.35', '365.4', '365.55', '365.65', '365.8', '3650.35', '3653', '3653.35', '3655.45', '3656.25', '3662.25', '3665.55', '367.55', '367.95', '3670.5', '3673.15', '3673.6', '3674.95', '3678.3', '368.1', '368.85', '3682.45', '3684.95', '3686.05', '3687.75', '3687.85', '3688.6', '369.05', '369.1', '369.15', '369.25', '369.3', '369.6', '3691.2', '3692.85', '3694.45', '3694.7', '37.2', '370.25', '370.4', '370.5', '370.65', '3704.15', '3706.95', '3707.6', '3708.4', '371.4', '371.6', '371.65', '371.9', '3713.95', '3715.65', '372.45', '3720.35', '3721.9', '3723.65', '3725.5', '3726.15', '3729.6', '3729.75', '373', '373.5', '3734.25', '3735.45', '3739.8', '374', '374.5', '374.8', '3741.85', '3744.05', '375.25', '3751.15', '3753.2', '3754.6', '3756.4', '3756.45', '3759.05', '3762', '3765.05', '3766.2', '3767.4', '3769.7', '377.55', '377.85', '3770', '3771.5', '3772.5', '3772.65', '3775.85', '3777.15', '3778', '3778.1', '3778.2', '3778.85', '378.4', '378.6', '3782.4', '3784', '3789.2', '3791.6', '3794.5', '3795.45', '38', '38.15', '38.25', '38.45', '38.7', '38.8', '3801.3', '3801.7', '3804.4', '3807.35', '3808', '3808.2', '381.2', '381.3', '3810.55', '3810.8', '3815.4', '382.2', '382.8', '3822.45', '3824.2', '3825.85', '3827.9', '3829.75', '383.55', '383.65', '3833.95', '3834.4', '3835.55', '3836.3', '3838.2', '3838.75', '384.25', '384.5', '3842.6', '3845.45', '3846.35', '3846.75', '3847.6', '3848', '3848.8', '385', '385.55', '385.9', '3851.45', '3856.75', '3857.1', '3858.05', '386.5', '3861.45', '3862.55', '3865.45', '3865.6', '387.2', '387.4', '387.7', '387.9', '3870', '3870.3', '3871.85', '3874.1', '3875.4', '3876.2', '3877.65', '3877.95', '388.6', '3880.05', '3882.3', '3883.3', '3886.05', '3886.45', '3886.85', '3887.25', '3887.85', '3888.65', '389.1', '389.25', '389.6', '389.8', '389.95', '3893.6', '3894.4', '3895.35', '3899.05', '39.25', '39.3', '39.65', '39.8', '39.85', '390.4', '390.85', '3901.25', '3902.45', '3902.6', '3906.7', '391.7', '3912.9', '3913.3', '3914.05', '3915.4', '3919.15', '392.5', '392.65', '3921.1', '3921.3', '3923.8', '3928.3', '393.15', '393.45', '3930.55', '3930.6', '3937.45', '394.1', '394.85', '3941.7', '3942.45', '3944.5', '3946.9', '3948.45', '3949.15', '395.6', '3950.85', '3952.45', '3952.65', '3953.15', '3953.7', '3954.1', '3956.7', '3958.2', '3958.25', '3958.85', '3959.15', '3959.35', '396.1', '396.3', '3965.05', '3966.3', '3969.35', '3969.4', '397', '3970.4', '3972.25', '3973.2', '3974.15', '3974.7', '3975.7', '3975.9', '398.55', '3983.6', '3985.35', '3988.5', '399.25', '399.45', '399.6', '3990.6', '3990.75', '3994.05', '3994.45', '3996.8', '40.1', '40.2', '40.25', '40.9', '400', '400.3', '4003', '4003.85', '4009.2', '401.1', '401.3', '401.5', '401.85', '401.95', '4013.8', '4014', '4014.2', '4014.6', '4016.2', '4016.3', '4016.75', '4016.85', '4017.45', '4018.05', '4018.35', '4018.55', '402.5', '402.6', '402.85', '4024.2', '4025.5', '4025.6', '4026.4', '4029.95', '403.15', '403.35', '4036', '4036.85', '4039', '4039.3', '4039.5', '404.2', '404.35', '4040.2', '4040.65', '4042.2', '4042.3', '4045.65', '4048.95', '405.6', '405.7', '4052.4', '4054.2', '4055.5', '4056.75', '4059.35', '4059.85', '406.05', '406.95', '4060.55', '4060.9', '4062.2', '4063', '4065', '4068', '4069.9', '407.05', '4070.95', '4079.55', '408.25', '408.5', '4084.35', '4085.75', '4086.3', '4089.45', '409.9', '4092.85', '4096.9', '4097.05', '41.2', '41.85', '4103.9', '4107.25', '4107.3', '4108.15', '4109', '411.15', '411.25', '411.45', '411.6', '411.75', '4111.35', '4113.1', '4113.15', '4113.7', '4116.15', '4116.8', '4116.9', '4119.4', '412.1', '412.5', '412.55', '412.6', '4122.65', '4122.9', '4124.65', '4126.2', '4126.35', '413', '413.25', '413.65', '4131.2', '4131.95', '4133.95', '4134.7', '4134.85', '4135', '4136.4', '4137.2', '4138.05', '4138.7', '4138.9', '414.1', '414.95', '4140.1', '4144.8', '4144.9', '4145.25', '4145.9', '4146.05', '4149.45', '415.05', '415.1', '415.4', '415.55', '415.9', '415.95', '4154.55', '4154.8', '4155.95', '4156.8', '4158.25', '4159.45', '416.3', '416.4', '416.45', '4162.05', '4164.4', '4166.35', '417', '417.5', '417.65', '417.7', '417.75', '4174.35', '4176.7', '4178.65', '4179.1', '4179.2', '418.25', '418.3', '418.4', '418.8', '4186.3', '4187.75', '4188.4', '4189.7', '419.35', '419.4', '419.7', '419.9', '4191.45', '4192.15', '4193.4', '4194.85', '42.45', '42.7', '42.9', '420.2', '420.45', '4200.25', '4209.95', '4211.55', '4213.35', '4213.9', '4214.25', '4217.8', '422.3', '422.4', '422.5', '422.6', '422.7', '4220.35', '4222.95', '4224.7', '4226.7', '4228.55', '4230.25', '4233.95', '4234.15', '4236.6', '4237.5', '4238.45', '424.15', '424.45', '424.5', '424.75', '4242.35', '4245.55', '425.1', '425.9', '4250.1', '4254.1', '4254.85', '4259.3', '426.35', '426.65', '4261.2', '4263.4', '4263.45', '4264', '4264.25', '4264.6', '4265', '4266.4', '4267.15', '4273.45', '4275.75', '428.45', '428.7', '4282.4', '4284.2', '4284.65', '4284.8', '4285.8', '4287.2', '429.55', '4295.35', '4297.6', '4297.95', '4298.45', '4299.2', '4299.75', '4299.95', '43.15', '43.3', '43.8', '43.85', '43.95', '4300.45', '4300.8', '4303.65', '4304', '4304.5', '4307.1', '4308.25', '4309.55', '431', '4310.35', '4312.5', '4317.35', '4318.35', '432.25', '432.5', '4322.85', '4323.35', '4323.45', '4326.25', '4326.8', '4327.5', '433.5', '433.75', '433.95', '4331.4', '4335.2', '4338.6', '434.1', '434.5', '434.8', '4345', '4346.4', '4348.1', '4348.65', '435', '435.25', '435.4', '435.45', '4350.1', '4354.45', '436.2', '436.6', '436.9', '4361.55', '4362.05', '4364.1', '4367.35', '4368.85', '4368.95', '4370.25', '4370.75', '4374.55', '4375.8', '4378.35', '4378.8', '4378.9', '438', '438.05', '438.25', '438.4', '438.9', '4385.05', '4386.2', '4388.4', '439.2', '439.75', '4390.25', '4391.25', '4391.45', '4392.5', '4398.15', '4399.5', '44', '44.05', '44.1', '44.15', '44.2', '44.3', '44.35', '44.4', '44.45', '44.55', '44.6', '44.65', '44.7', '44.75', '44.8', '44.9', '44.95', '440.2', '4400.75', '4408.45', '4414.3', '4415.75', '442.2', '442.45', '442.6', '442.85', '4421.95', '4422.95', '4424.2', '4428.45', '4428.6', '443.9', '4433.3', '4438.2', '444.75', '4442.75', '4443.45', '4445.3', '4447.55', '4447.75', '4448.8', '4449.75', '445.3', '445.85', '445.95', '4451.85', '4453.3', '4454.25', '4456.35', '4456.65', '4458.15', '4459.15', '4459.8', '446.05', '446.1', '446.8', '4461.85', '4464.8', '4469.1', '447.75', '447.9', '4473', '4473.45', '4475.9', '4478.85', '4479.2', '4480.7', '4481', '4483.95', '4484.05', '4487.3', '449.3', '449.75', '4492.9', '4494.65', '4495.65', '45', '45.05', '45.1', '45.15', '45.2', '45.25', '45.3', '45.35', '45.4', '45.55', '45.6', '45.65', '45.7', '45.75', '45.8', '45.85', '45.95', '450.4', '450.65', '450.8', '450.9', '4504.55', '4504.9', '4507.15', '4508.65', '4509.5', '451.1', '451.55', '4510.8', '4512.7', '4513.65', '4515.85', '4517.25', '4519.5', '452.2', '452.35', '452.55', '452.7', '452.8', '4520.15', '4523.25', '4524.05', '4525.8', '4526.85', '4527.45', '4528', '453.4', '453.75', '4532.3', '4533.7', '4533.9', '4534.45', '4534.9', '4535.85', '4539.35', '4539.6', '454', '454.05', '454.15', '454.65', '4541.2', '4541.9', '4542.35', '4543.15', '4543.95', '4546', '4547.25', '4549.05', '4549.45', '455.3', '455.5', '4551.5', '4554.85', '4555.2', '4557.5', '456.85', '4563', '4564.9', '4566.5', '457.1', '457.3', '4575.35', '4576.3', '4577.75', '4577.9', '458.1', '4586.15', '4589.85', '459.6', '459.95', '4590.35', '4594.65', '4594.95', '4599.15', '46', '46.2', '46.3', '46.35', '46.4', '460.2', '460.25', '4600.7', '4600.95', '461.3', '461.7', '4613.95', '4614.55', '4615.25', '4615.9', '4616.05', '4616.1', '4619.55', '462.8', '4620.4', '4627.65', '4627.8', '4627.85', '463.05', '463.6', '4630.2', '4631.7', '4634.35', '4639.45', '4641.1', '465.05', '465.45', '465.7', '465.85', '4652.4', '4653.25', '4653.85', '4657.95', '466.6', '4663.4', '4664.15', '4664.2', '4664.5', '4667', '4669.2', '467.15', '467.5', '467.55', '467.7', '467.85', '4671.65', '4671.7', '4674.4', '4674.55', '4676.7', '4677.1', '468.35', '4680.05', '4681.75', '4684.3', '4685.55', '4687.9', '4688.65', '4689.15', '4689.5', '469.25', '469.65', '469.8', '469.85', '4690.65', '4692.55', '4692.95', '4693.2', '4698.05', '47.5', '47.7', '47.95', '470', '470.2', '470.6', '470.95', '4707.1', '4707.85', '471.35', '471.55', '471.7', '471.85', '4713.4', '4718.25', '4719.75', '472.25', '472.65', '4720', '4729.3', '4729.75', '473.9', '4730.6', '4730.9', '4732.35', '4733.1', '4735.2', '4735.35', '4738.3', '4738.85', '474.8', '474.9', '4740', '4741.45', '4744.35', '4746.05', '4747.2', '4747.5', '4747.65', '4747.85', '4748.7', '4749.15', '475', '475.1', '475.2', '475.25', '475.7', '4750.95', '4753.85', '4754.3', '4758.8', '4759.55', '4759.75', '4759.85', '476.8', '4760.3', '4764', '4765', '477.05', '477.55', '477.6', '477.7', '4779.45', '478.1', '478.75', '4783.5', '4784.45', '4786.1', '4786.15', '4793.8', '4798.4', '48.35', '48.45', '48.55', '48.6', '48.75', '48.95', '480.6', '480.75', '4801.1', '4804.65', '4804.75', '4805.3', '4805.65', '4807.35', '4807.45', '4808.7', '481.1', '4811.6', '4812.75', '4816.7', '4818.8', '4819.75', '482.25', '482.8', '4820.15', '4820.55', '4822.85', '4824.45', '4828.05', '483.15', '483.3', '483.7', '4830.25', '4834', '4837.6', '4839.15', '484.05', '4845.4', '4847.05', '4847.35', '4849.1', '485.2', '485.25', '485.9', '4853.75', '4854.3', '4855.35', '4858.7', '4859.1', '4859.25', '4859.95', '486.05', '486.2', '486.85', '4860.35', '4860.85', '4861.45', '4862.5', '4863.85', '4867.95', '4868.4', '4869.35', '4869.5', '487.05', '487.75', '487.95', '4871.05', '4871.45', '4872.2', '4872.35', '4872.45', '4874.7', '4874.8', '488.25', '488.65', '4882.8', '4884.85', '4885.85', '4888.2', '4888.7', '4889.2', '4889.3', '489.45', '4890.5', '4891.5', '4895.1', '4896.35', '49', '49.05', '49.25', '49.3', '49.5', '49.55', '49.65', '49.7', '49.75', '49.8', '49.85', '49.9', '49.95', '490.55', '490.65', '4900.65', '4902.8', '4903.15', '4903.2', '4904.2', '4904.25', '4904.85', '4905.75', '4908.25', '4911.05', '4911.35', '4913.3', '4914.8', '4914.9', '4915.15', '4916.4', '4916.95', '4917.75', '4917.9', '4919.7', '492', '492.1', '492.55', '4920.55', '4920.8', '4921.2', '4922.4', '4925.35', '4929.55', '493.4', '493.65', '493.95', '4931.8', '4932.5', '4939.25', '494.05', '494.9', '494.95', '4941.8', '4946.05', '4946.7', '4947.55', '4949.1', '495.15', '4952.95', '4953.25', '4959.15', '4959.6', '496.9', '4964.7', '4965', '4965.1', '4968', '497.3', '497.55', '497.6', '4972.1', '4973.4', '4976.15', '4977.2', '498.1', '498.25', '4981.15', '4982.5', '4983.05', '4984.85', '4985.9', '499.4', '4990.25', '4991.5', '4993.4', '4995.35', '4997.5', '50.05', '50.1', '50.15', '50.35', '50.45', '50.5', '50.55', '50.6', '50.65', '50.7', '50.75', '50.8', '50.9', '500.1', '5000.05', '5000.2', '501', '501.2', '501.35', '5011.15', '5012.1', '5012.35', '5013', '5016.25', '5016.65', '5017.7', '5017.9', '502.6', '502.85', '5023', '5025', '5025.8', '5025.85', '5029.05', '5029.2', '503.25', '503.6', '5031', '5031.85', '5032.25', '5034.05', '5036.3', '5036.9', '5037.55', '5038.15', '5038.45', '504.05', '504.2', '5040.2', '5042.75', '5043.2', '5044.8', '505.45', '505.9', '505.95', '5059.75', '506.9', '5060.85', '5060.9', '5064.45', '5064.85', '5067.45', '5068.05', '5069.65', '507.4', '507.9', '5070.4', '5071.05', '5071.9', '5073.1', '5082.8', '5083.55', '5084.65', '5088.4', '509.3', '5099.15', '51.15', '51.2', '51.25', '51.6', '510.8', '5102.35', '511.25', '5116.6', '5118.95', '512.25', '512.45', '5121.3', '5121.75', '5124.55', '5124.6', '5125.5', '5125.75', '5127.95', '5129.3', '5129.45', '5135.15', '5135.35', '5138.1', '5139.65', '514', '514.6', '514.75', '5149.5', '515.45', '515.75', '5150.55', '5153.5', '5154.5', '5154.6', '516.15', '516.3', '5163', '5163.3', '5165.7', '5166.2', '5168.1', '5174.35', '5175.3', '518.3', '518.75', '518.9', '5186', '5189.75', '519.15', '5193.2', '5194.05', '5196.1', '5199.8', '52', '52.05', '52.2', '520', '520.1', '520.55', '520.95', '5200.8', '5206.55', '521', '521.1', '521.3', '521.35', '521.8', '521.9', '5212.65', '5215.1', '5215.25', '5219.65', '522.35', '522.95', '5222.3', '5222.35', '5224.35', '5224.5', '5224.95', '5229.45', '5229.8', '523.1', '523.15', '523.5', '5231.2', '5231.3', '5232.9', '5233.25', '5234.95', '5236.4', '5237.4', '5238.9', '524.35', '524.5', '5243.05', '5244.45', '525', '525.55', '5251.75', '5253.95', '526.7', '526.95', '5264.25', '5264.3', '5264.5', '5265.1', '5265.2', '5265.5', '5265.55', '527.35', '527.5', '527.9', '5270.6', '5275.8', '5276.1', '5278.15', '528.35', '528.45', '5283.95', '5289.05', '5289.8', '529.5', '529.8', '5290.45', '5293.2', '5293.4', '5293.95', '5294.6', '5295.7', '5299.65', '53.05', '53.15', '53.5', '53.55', '53.95', '530.05', '5301.1', '5305.05', '5308.7', '5309.5', '531', '531.15', '531.55', '531.6', '5311.85', '5315.1', '5315.8', '5317.8', '532.1', '5321.25', '5324.5', '5327.25', '5329', '5329.55', '533.05', '533.5', '533.6', '533.9', '5330.2', '5333.35', '5336.35', '534.7', '5341.8', '5347.95', '5348.65', '535.05', '535.35', '535.55', '5356.45', '5357.75', '536.35', '536.4', '5360.75', '5364.8', '537.35', '5373.1', '5375.15', '5376.4', '5377.8', '538.2', '538.5', '5386.5', '5388.15', '539.85', '5396.25', '5398.6', '54.3', '54.35', '54.5', '54.65', '54.7', '54.75', '54.9', '540.05', '540.95', '5401.9', '5405.8', '5409.75', '541.15', '541.5', '541.9', '5411.4', '5411.65', '542.4', '5420.65', '5424.25', '5426.85', '5427.05', '543', '543.8', '5430.35', '5430.65', '5431.4', '5431.9', '5432.2', '5435', '5435.6', '5436.45', '5437.1', '5437.75', '5438.9', '5438.95', '544.55', '5440.9', '5442.05', '5443.65', '5445.95', '5448.6', '545.15', '545.2', '5450.7', '5453.4', '5458.8', '5459.2', '546.45', '546.85', '546.95', '5460.2', '5461.45', '5464.65', '5468.45', '5468.95', '547.65', '547.8', '5471.75', '5475.9', '548.8', '548.9', '5480.25', '5481.25', '5483.9', '5484.4', '5485.5', '5487', '5496.9', '5497.05', '5498.2', '5498.8', '55', '55.05', '55.2', '55.25', '55.3', '55.4', '55.45', '55.55', '55.7', '55.8', '550.1', '550.35', '550.6', '5500.6', '5502.55', '5508.35', '5509.3', '551.3', '551.35', '551.95', '5510.65', '5511.65', '5514.95', '5515.45', '5515.8', '552.1', '552.65', '552.7', '552.9', '552.95', '5522.7', '5526.75', '5528.9', '553', '553.4', '5535.8', '5536.5', '5538.35', '5538.8', '554.05', '554.25', '554.45', '5542.55', '5549.4', '555.4', '5550.1', '5551.15', '5552.05', '5552.5', '5553.25', '5555.3', '556.35', '5560', '5563.65', '5564.85', '5566.4', '5567.45', '5567.55', '5568.35', '5574.35', '5574.75', '5576.3', '558.8', '5580.8', '5581.05', '5585.4', '5586.45', '5588.8', '5589.3', '5589.45', '559.2', '5594', '5595.3', '5597.65', '5598', '5598.3', '56', '56.25', '56.35', '560.6', '560.85', '5600.15', '5601.4', '5602.25', '5607.75', '5608.4', '561.15', '5610.15', '5610.25', '5610.7', '5611.7', '5611.75', '5614.45', '5617.75', '5617.95', '5618.3', '562.6', '562.7', '5621.85', '5623.7', '5624.85', '5625.55', '5629.15', '5629.55', '563.05', '563.5', '563.65', '5632.55', '5637.85', '5638.3', '5639.05', '564.35', '564.4', '564.65', '5643.4', '5645.8', '5646.6', '5647.95', '565.35', '565.75', '5655.45', '5656.75', '566.1', '566.5', '5661.7', '5662.25', '5669.5', '567.45', '567.8', '5673.7', '5676', '5676.65', '568.2', '568.85', '5680.9', '5681.1', '5682.25', '5683.6', '5685.8', '5686.4', '5688.05', '5688.45', '5692.65', '5696.6', '57.2', '57.4', '57.5', '5703', '5703.25', '5705.05', '5706.2', '5706.3', '5708.2', '571.05', '571.15', '571.45', '571.75', '5711.05', '5714.2', '5714.25', '5717.85', '5718.2', '572.2', '572.45', '572.85', '5720.35', '5720.95', '5727.15', '5727.45', '5728.55', '573.05', '573.15', '573.3', '573.75', '5730.15', '5730.7', '5731.4', '5731.45', '5731.85', '5733.4', '5737.6', '574.35', '574.5', '5742.9', '5743.05', '5743.3', '5744.35', '5746.15', '5746.75', '5749.8', '575.45', '5750', '5753.25', '5755.8', '5757.2', '576.65', '576.7', '576.95', '5760.65', '5762.95', '5763.15', '5763.3', '5764.7', '5769.6', '5769.75', '577.15', '577.6', '5774.55', '5776.45', '5779.6', '578.5', '5780.7', '5784.3', '5785.5', '5785.65', '579', '579.4', '5791.1', '5791.85', '5794.45', '5794.65', '5798.3', '58', '58.15', '58.3', '58.85', '58.9', '580.1', '580.8', '5809.75', '581.7', '581.85', '5810.9', '5811.8', '5812', '5812.6', '5815.15', '5817', '5817.45', '5817.7', '582.5', '5822.3', '5824.75', '5825.5', '5826.65', '583', '583.3', '583.45', '5831.2', '5832', '5832.65', '5835.5', '5839.3', '5841.35', '5844.65', '5846.65', '5848.6', '585.95', '586.05', '5860.7', '5861.75', '5867', '5869.4', '587.1', '587.4', '587.45', '587.7', '5873.75', '5878.9', '5882.75', '5883.85', '5885.4', '5886.85', '589.25', '5890', '5893.15', '5893.9', '5893.95', '5894.5', '5895.45', '5897.4', '5898.6', '5899.85', '59.05', '59.2', '59.25', '59.55', '59.75', '59.85', '590.35', '5903.15', '5913.95', '5914.4', '5916.45', '5916.95', '5917.55', '5918.8', '5919.35', '592.65', '592.75', '5921.35', '5924.4', '5925.75', '593.05', '593.2', '593.3', '593.45', '593.75', '593.85', '5930.05', '5931', '5931.75', '5935.1', '5936.55', '5940.85', '5941.05', '5943.65', '5948.7', '595.05', '595.5', '5950.2', '5953', '5956.85', '5957.9', '5958.85', '5959.3', '5960.5', '5961.1', '5963.95', '5965.95', '5968.4', '5969.3', '5969.85', '5969.95', '597', '597.9', '5971.25', '5974.3', '5976.9', '5979.7', '5980.55', '5980.75', '5981.65', '5985', '5985.75', '5986.45', '5986.55', '599.25', '599.3', '5991.05', '5997.1', '5999.85', '60', '60.1', '60.15', '60.65', '600', '600.15', '600.25', '6000.1', '6001.45', '6004.85', '601.25', '601.55', '601.6', '6010.05', '6014.85', '6017.65', '6017.9', '6018.65', '6019.35', '602.55', '602.9', '6028.95', '6029', '6029.9', '603', '6033.1', '6033.3', '6034.85', '6038.55', '6039.9', '604.7', '6042.7', '6045.9', '6046.1', '6049.5', '605.25', '605.45', '605.75', '605.9', '6052.25', '6055.55', '6056.15', '6056.9', '6058.95', '606.25', '606.55', '6065.3', '6066.55', '6067.4', '6068.65', '6069.25', '607.3', '607.7', '6075.9', '6077.75', '6078.75', '6079', '608', '608.15', '608.5', '608.8', '6081.4', '6083.1', '609.05', '609.1', '609.65', '609.9', '6093.3', '6094.25', '6096.45', '6096.9', '61.05', '61.15', '61.35', '61.45', '61.7', '610.2', '610.75', '6109.65', '6109.75', '611.45', '611.65', '6110.2', '6110.75', '6118.95', '612.1', '612.95', '6125.4', '6126.1', '6126.15', '6127.6', '6129.2', '6129.65', '613.4', '613.95', '6130.85', '6130.95', '6132.7', '6137', '6139.5', '614.45', '6140.85', '6141.65', '6143.15', '6144.55', '6145.2', '6145.85', '6148.45', '615.35', '6151.9', '6152.3', '6152.4', '6153.85', '6155.4', '6157.6', '616.9', '6161.9', '6164.7', '617.15', '617.35', '617.65', '617.85', '6171.2', '6172', '6176.6', '6179.35', '6185.15', '6185.8', '6194.1', '62', '62.05', '62.25', '62.8', '62.9', '620.35', '620.55', '620.75', '6201.95', '6205.5', '6215.35', '6218.45', '6219.6', '622.9', '6223.3', '6223.8', '6224.8', '6225.4', '6227.5', '6230.1', '6236.75', '6237.05', '6239.05', '624.15', '624.6', '6241.35', '625.05', '625.65', '6252.7', '6252.9', '6253', '6254.2', '6254.45', '6256.2', '6263.8', '627.4', '6273.4', '628.65', '6281.45', '6283.3', '6287.25', '6287.3', '629.35', '629.55', '6292.7', '6293.2', '6293.45', '6293.75', '6296.75', '6297.65', '63', '63.15', '63.6', '63.75', '630.6', '6300.15', '6300.85', '6301.7', '6302.8', '6302.85', '6306.5', '6309.65', '631.4', '631.85', '6310.9', '6311.2', '6312.9', '6314.35', '6316.2', '632.2', '632.95', '6322.1', '6325.25', '6328.7', '633.3', '633.4', '633.45', '633.85', '6330.4', '6332.75', '6333.4', '6333.8', '6339.3', '6339.45', '6341.45', '6342.7', '6347.55', '635.6', '635.9', '6350.5', '6352.4', '6362.35', '6363.45', '6365.35', '6367.2', '6368.2', '6369.45', '637.4', '637.55', '6373.1', '6375.2', '6375.8', '6376.55', '638', '638.55', '638.95', '6382', '6382.55', '6383.35', '6383.9', '6385.95', '6388.65', '639.45', '639.65', '639.7', '6392.85', '6393.65', '6396.45', '6397.6', '6398.05', '64.55', '6401.25', '6404', '6405', '641.15', '641.25', '641.35', '6411.25', '6413.65', '6416.7', '6418.9', '6423', '6424.25', '6424.7', '6425.65', '6428.4', '6430.9', '6431.05', '6435.25', '644.35', '644.5', '6440.25', '6441.4', '6441.85', '6444.05', '6448.05', '6448.85', '6449.15', '645.8', '6457.15', '646.05', '646.85', '6460.55', '6463.15', '6465', '6468.6', '647.5', '6470.1', '6471.85', '6474.4', '6474.45', '6479.4', '648.65', '6480.9', '6487.2', '649.4', '649.65', '6496.15', '65.95', '6501.35', '6503.2', '6506.15', '651.4', '651.5', '651.55', '6510.45', '6511.25', '6511.8', '6518.35', '6519.75', '6520.8', '6521.9', '6526.65', '6529.25', '653.15', '653.25', '653.9', '653.95', '6536.5', '6538.45', '654.5', '654.55', '654.85', '6547.7', '6548.65', '6549.45', '655.3', '655.5', '655.85', '655.9', '6555.2', '6557.75', '6561.25', '6562.9', '6563.4', '6565.85', '6567.9', '657.5', '6572.85', '6578.55', '6579.05', '658.1', '658.95', '6581.9', '6585.2', '6585.35', '6586.85', '6588.95', '6589.6', '659.35', '659.45', '659.65', '6590.5', '6590.8', '6595', '6595.9', '6597.25', '66.95', '660.05', '660.9', '6602.9', '6603', '6603.8', '6605.55', '661.25', '661.55', '6613.65', '6614.9', '6615.15', '662.65', '662.95', '663.05', '663.55', '6631.85', '6632.75', '6637.9', '6638.35', '664.4', '6640.7', '6643.5', '665.45', '6652.45', '6654.1', '666', '666.75', '6668', '6668.05', '6668.35', '6669.05', '6669.45', '667.7', '6671.7', '6674.65', '668.4', '668.85', '6683.4', '6687.85', '6688.1', '6688.95', '6689', '669', '669.45', '669.85', '6690.75', '6692.65', '6697.2', '6697.35', '67.1', '67.55', '670.35', '670.65', '6700.05', '6703.5', '6705.7', '6707.15', '6710.5', '6713.2', '6716.45', '6717.9', '6719.9', '672.2', '672.55', '672.7', '6721.6', '6725.3', '6725.5', '673.1', '673.2', '673.25', '6733', '6733.15', '6735.05', '674.55', '6741.15', '6743.55', '6744.2', '6744.25', '6747.35', '675.6', '6751.35', '6754.35', '6758.45', '676.15', '676.35', '676.7', '6766.95', '6767.1', '677.05', '677.9', '6770.5', '6770.85', '6779.05', '678.2', '678.45', '678.75', '678.8', '6780.1', '6782.15', '6786.1', '6786.4', '679', '679.3', '679.55', '679.8', '679.85', '6792.45', '6794.75', '68.2', '68.35', '68.45', '68.5', '68.65', '68.75', '68.8', '68.95', '680.05', '681.4', '6812.95', '6816.95', '6819.45', '682.1', '682.15', '6822.15', '6823.4', '6825.65', '6827.5', '683.25', '683.75', '6838.6', '684.05', '684.4', '684.85', '6840.95', '6841.05', '6841.3', '6841.4', '6841.45', '6843.15', '6844.5', '6849.4', '6849.75', '685.55', '6851.65', '6856.45', '6856.95', '6858.9', '6859.05', '6859.5', '686.95', '6860.6', '6869.7', '6871.7', '6871.9', '6873.75', '6875.35', '6876.05', '688', '688.2', '688.5', '688.65', '6880.85', '6885.75', '6886.25', '6889.8', '689', '689.35', '689.75', '6890', '6891.4', '6891.45', '6895.5', '69.1', '69.15', '69.2', '69.25', '69.35', '69.4', '69.5', '69.55', '69.6', '69.65', '69.7', '69.75', '69.8', '69.85', '69.9', '69.95', '690.25', '690.5', '6903.1', '6910.3', '6912.7', '6914.95', '692.1', '692.35', '692.55', '6921.7', '6925.9', '6929.4', '693.3', '693.45', '6936.85', '6937.95', '6941.2', '6944.5', '695.05', '695.75', '695.85', '6951.15', '6953.4', '6954.15', '696.35', '696.8', '6962.85', '697.25', '697.65', '697.7', '6975.25', '6976.75', '6979.8', '6981.35', '6982.5', '6985.65', '6989.45', '6989.7', '6991.6', '6991.9', '6993.65', '6994.6', '6994.8', '6997.3', '6998.95', '70', '70.05', '70.1', '70.15', '70.2', '70.25', '70.3', '70.35', '70.4', '70.45', '70.5', '70.55', '70.6', '70.65', '70.7', '70.75', '70.8', '70.85', '70.9', '700.45', '700.85', '7002.95', '7007.6', '7008.15', '7009.5', '701.05', '701.3', '7015.9', '702', '702.05', '702.9', '7028.5', '703.55', '7030.65', '7031.3', '7031.45', '7035.6', '7039.05', '7039.45', '704.3', '7040.85', '7047.5', '7049.5', '7049.75', '705.45', '7051.95', '7053.35', '706.6', '706.85', '7061.65', '7069.25', '7069.3', '707.5', '7074.4', '7076.35', '708.2', '708.8', '7082.45', '7082.5', '7082.85', '7085.5', '709.5', '7099', '71', '71.1', '71.15', '71.2', '71.25', '71.35', '71.55', '71.65', '710.05', '7101.5', '7104.2', '7107', '7108.2', '711.15', '711.9', '711.95', '7110.75', '7111.3', '7112.15', '7113.75', '7114.25', '7118.9', '712.25', '712.75', '712.85', '7129.45', '713', '713.1', '713.6', '713.75', '7132.15', '7133.1', '7133.25', '7133.45', '7138.65', '714.15', '7142.5', '7149.35', '715', '7156.2', '7159.05', '7159.7', '716.1', '716.4', '7168.25', '717.3', '717.5', '717.95', '7171.7', '7173.15', '7176.55', '718.1', '718.55', '7181.25', '7181.95', '7188.5', '7195.35', '72', '72.1', '72.4', '720.05', '720.1', '720.45', '7209', '7210.85', '7213.75', '7220.35', '7222.75', '7227.45', '723.3', '723.35', '723.4', '7234.8', '7238.6', '724.65', '7240.65', '7244.7', '7245.9', '7246.15', '7250.15', '7251.7', '7251.9', '726.1', '7261.25', '7261.75', '7262', '7266.95', '727.8', '727.85', '7279.35', '7281.6', '7283.25', '7285.7', '7288.4', '729.95', '7291.75', '7297.75', '7299.65', '73', '73.05', '73.1', '73.45', '73.5', '73.55', '73.6', '73.65', '730.1', '730.4', '7303.05', '7308.95', '731.3', '7317.1', '7318.2', '732.5', '7320.9', '7321.05', '7322.5', '7323.15', '7325.1', '733.35', '733.55', '733.95', '7332.4', '7334.05', '7337.55', '734.35', '734.6', '7344.45', '7346.2', '7348.8', '7349.35', '735.5', '735.9', '736.8', '7362.9', '7365.3', '7365.7', '7372.65', '7379.8', '738.2', '7382.25', '7382.85', '7383.7', '7386.05', '7388.45', '739.35', '739.9', '7396.15', '7397', '74', '74.1', '74.2', '74.25', '74.3', '74.35', '74.4', '74.45', '74.5', '74.6', '74.7', '74.9', '74.95', '740', '740.3', '740.55', '740.8', '7405.5', '741', '741.4', '741.5', '741.7', '7412.25', '7413.55', '742.9', '742.95', '7422.1', '743.05', '743.3', '743.5', '743.75', '7430.75', '7432.05', '7446.9', '7447.7', '745.3', '7455.45', '7459', '7459.05', '746.05', '746.5', '746.75', '7467.5', '7467.55', '747.2', '7470.1', '7472.15', '7475.1', '7475.85', '7482.1', '749.25', '749.35', '7491.75', '7493.05', '75.05', '75.1', '75.3', '75.35', '75.45', '75.5', '75.55', '75.6', '75.7', '75.75', '75.8', '75.9', '750.1', '7508.55', '751.65', '7511.3', '7511.65', '7511.9', '7517.7', '7521.95', '7530.8', '7532.15', '7534.65', '7537.5', '754', '754.5', '754.65', '7542.25', '7544', '7544.3', '7548.1', '7548.6', '755.4', '755.5', '755.6', '7550.3', '7553.6', '7554.05', '7555', '7556.9', '7559.55', '756.4', '7565.35', '7567.2', '757.1', '757.95', '7576.7', '7578.05', '758.6', '7581.5', '7589.8', '759.35', '759.55', '76', '76.2', '76.35', '76.4', '76.45', '76.65', '76.95', '760.05', '7609.75', '761.85', '761.95', '7610.1', '7611.55', '7611.85', '7616', '762.1', '762.25', '762.45', '762.5', '7623.2', '7624.2', '7629.85', '763.1', '7634.25', '7634.8', '764.55', '764.95', '765.15', '765.45', '765.5', '7657.4', '7658.3', '7661.8', '7665.8', '767.55', '767.9', '7674.55', '7677.4', '7679.65', '768.05', '768.45', '7689.8', '7689.95', '769.1', '7690.9', '77.15', '77.5', '77.6', '77.75', '770.4', '770.5', '770.6', '7707.7', '771.95', '7711.25', '7711.45', '7713.55', '7714.65', '7719.5', '772.4', '772.85', '7723.7', '7723.9', '7726.35', '773.2', '773.65', '7732.65', '7737.55', '7746.7', '7748.75', '775.3', '775.6', '7751.7', '7752.05', '7752.3', '7758.9', '776.25', '7767.25', '777.3', '777.35', '7774.05', '778.1', '7782.85', '7789.6', '779.2', '779.25', '7795.95', '78.05', '78.25', '78.3', '78.45', '78.65', '78.8', '78.9', '78.95', '780.1', '780.15', '780.2', '780.25', '780.5', '780.85', '7804.15', '7806.5', '7806.6', '781.25', '781.4', '7839.85', '784.25', '784.45', '7840.6', '7842.3', '7843.55', '7845.8', '7848.5', '7849.85', '785.75', '7852.4', '7853.7', '7854.15', '7854.9', '7856', '786.3', '786.5', '7862.25', '7869.05', '7875', '7878.3', '788.05', '788.35', '788.55', '788.6', '788.8', '7880.25', '7881.2', '7882.25', '7882.5', '7887.25', '789.2', '789.55', '7895.15', '7898.45', '79.05', '79.1', '79.15', '79.2', '79.25', '79.35', '79.45', '79.5', '79.55', '79.6', '79.65', '79.7', '79.8', '79.9', '79.95', '790', '790.15', '790.7', '7904.25', '791.15', '791.7', '791.75', '7919.8', '792.15', '7920.7', '7922.75', '793.55', '7930.55', '7932.5', '7939.25', '794.25', '7942.15', '7943.45', '795.15', '795.65', '7953.25', '7962.2', '7965.95', '7966.9', '7968.85', '797.1', '797.25', '798.2', '7982.5', '7984.15', '7985.9', '7987.6', '799', '799.65', '7990.05', '7993.3', '7998.8', '80', '80.05', '80.15', '80.2', '80.25', '80.3', '80.35', '80.5', '80.55', '80.8', '80.85', '80.95', '800.3', '8003.8', '801.3', '8012.75', '8013.55', '8016.6', '802.35', '8022.85', '803.3', '8033.1', '8035.95', '804.25', '804.85', '8041.65', '8046.85', '805.1', '805.2', '8058.55', '8058.85', '806.95', '8061.5', '8065.65', '8071.05', '8075.35', '8078.1', '808.95', '8086.4', '809.25', '809.75', '8093.15', '81', '81.05', '81.1', '81.25', '81.7', '81.95', '810.2', '810.3', '810.45', '810.7', '810.85', '8100.25', '8100.55', '8109.8', '811.65', '811.8', '812.4', '812.5', '8124.2', '8126.65', '8127.6', '8129.3', '813.3', '813.45', '813.85', '814.75', '815.5', '815.55', '8152.3', '816.8', '8164.1', '8165.1', '8166.8', '817.95', '8175.9', '818.05', '818.45', '8182.75', '8182.85', '819.4', '819.55', '819.95', '8192.6', '8196.4', '82.15', '82.3', '82.7', '82.85', '82.9', '820.5', '821.6', '8220.4', '824.75', '824.85', '8240.85', '8244.3', '8248.5', '825.1', '825.4', '825.7', '8250', '826', '826.1', '827.05', '827.3', '827.45', '827.7', '8277.05', '828.05', '828.2', '828.85', '8289.2', '829.1', '829.3', '829.55', '8297.5', '83.3', '83.4', '83.75', '830.25', '830.7', '830.8', '830.85', '8306.05', '8308.9', '8309.55', '831.75', '8310.55', '8312.4', '8312.75', '8317.95', '832.05', '832.3', '832.35', '833.55', '8331.95', '8332.15', '8333.95', '8337.45', '834.1', '834.15', '834.2', '834.7', '8349.45', '8349.7', '835.15', '835.5', '836.35', '837.5', '837.95', '8375.05', '838.5', '838.7', '839.4', '839.65', '8399.15', '84.2', '84.3', '84.4', '84.5', '84.6', '84.65', '84.75', '84.8', '84.85', '840.1', '8404.9', '8405', '842.25', '842.9', '8424.9', '8425.15', '8425.3', '8436.25', '844.45', '8443.7', '845.25', '845.6', '8456.75', '846', '846.8', '8468.2', '847.25', '847.3', '847.8', '8476.5', '8477.6', '8477.7', '849.1', '849.9', '8496.7', '85', '85.05', '85.1', '85.15', '85.45', '85.5', '85.55', '85.7', '85.8', '851.2', '851.75', '851.8', '852.7', '8529.5', '853', '853.1', '854.45', '854.8', '854.9', '8543.25', '8547.15', '855.1', '855.3', '856.35', '856.5', '856.65', '8564.75', '857.2', '857.25', '857.75', '857.8', '858.6', '8594.4', '86', '86.05', '86.35', '86.6', '860.85', '861.85', '862.4', '863.1', '864.2', '864.55', '864.85', '865', '865.05', '865.1', '865.55', '865.75', '865.8', '865.85', '866.4', '866.45', '867.1', '867.3', '8670.1', '8672.45', '868.1', '868.5', '8684.8', '869.9', '87.3', '87.9', '870.25', '871.4', '872.65', '873.4', '874.2', '874.8', '875.35', '875.55', '876.15', '876.75', '877.35', '878.35', '879.8', '88.35', '88.8', '880.05', '880.2', '882.55', '883.35', '886.4', '886.7', '887.35', '888.65', '888.75', '889', '889.9', '89.05', '89.1', '89.15', '89.25', '89.3', '89.35', '89.5', '89.55', '89.75', '89.9', '890.35', '890.5', '890.6', '892.15', '892.65', '892.7', '893', '893.2', '893.55', '894.3', '896.75', '896.9', '897.75', '898.35', '899.45', '899.8', '90.05', '90.1', '90.35', '90.55', '90.6', '90.75', '90.85', '900.5', '900.9', '901.25', '902', '902.25', '903.6', '903.7', '903.8', '905.55', '906.85', '907.05', '908.15', '908.55', '908.75', '909.25', '91.1', '91.3', '91.4', '91.45', '91.7', '910.45', '911.6', '912', '913.3', '914', '914.3', '914.4', '914.6', '916', '916.15', '916.75', '916.9', '917.15', '917.45', '918.6', '918.7', '918.75', '919.4', '92.05', '92.25', '92.45', '92.5', '92.65', '92.75', '920.5', '921.3', '921.4', '921.55', '923.1', '923.5', '923.85', '926', '926.2', '926.25', '927.1', '927.15', '927.35', '927.65', '928.4', '929.2', '929.3', '929.45', '93.3', '93.4', '93.45', '93.55', '93.7', '93.85', '930.05', '930.4', '930.45', '930.9', '930.95', '931.55', '931.75', '931.9', '933.3', '934.1', '934.15', '934.8', '935.9', '936.7', '936.85', '937.1', '937.5', '937.6', '938.65', '938.95', '939.7', '939.8', '94', '94.15', '94.4', '94.45', '94.5', '94.55', '94.6', '940.35', '941', '942.95', '943', '943.1', '943.85', '944.65', '945.7', '946.95', '947.3', '947.4', '947.75', '948.9', '949.8', '949.85', '95', '95.05', '95.1', '95.45', '95.55', '95.6', '95.65', '95.85', '950.2', '950.75', '951.55', '952.3', '953.45', '953.65', '954.9', '955.15', '955.6', '955.75', '956.65', '957.1', '958.1', '958.15', '958.25', '958.45', '959.9', '96.05', '96.1', '96.45', '96.8', '96.85', '961.4', '962.25', '962.9', '963.95', '964.35', '964.9', '966.25', '966.55', '967.85', '967.9', '969.85', '97', '97.1', '97.5', '970.4', '970.45', '970.55', '970.85', '971.3', '973.1', '973.25', '973.35', '973.45', '973.55', '973.65', '973.95', '978', '978.6', '979.05', '979.5', '98.35', '98.5', '980.35', '981.45', '982.95', '985.05', '987.95', '989.05', '989.45', '99.45', '99.6', '99.75', '99.95', '990.3', '990.45', '990.85', '990.9', '992.7', '993.15', '994.55', '994.8', '995.35', '996.45', '996.85', '996.95', '997.65', '997.75', '998.1', '999.45', '999.8', '999.9']\n"
     ]
    }
   ],
   "source": [
    "#vemos los valores unicos para cada columna\n",
    "for col in dataframe.columns:\n",
    "    print(f\"{col}: {sorted(dataframe[col].unique())}\")"
   ]
  },
  {
   "cell_type": "markdown",
   "id": "b49e39cc",
   "metadata": {},
   "source": [
    "#### Transformacion"
   ]
  },
  {
   "cell_type": "code",
   "execution_count": 136,
   "id": "cf4df083",
   "metadata": {},
   "outputs": [
    {
     "data": {
      "application/vnd.microsoft.datawrangler.viewer.v0+json": {
       "columns": [
        {
         "name": "Churn",
         "rawType": "object",
         "type": "string"
        },
        {
         "name": "count",
         "rawType": "int64",
         "type": "integer"
        }
       ],
       "ref": "5ae77a84-92f6-4208-b35c-3263abcef879",
       "rows": [
        [
         "No",
         "5174"
        ],
        [
         "Yes",
         "1869"
        ],
        [
         "",
         "224"
        ]
       ],
       "shape": {
        "columns": 1,
        "rows": 3
       }
      },
      "text/plain": [
       "Churn\n",
       "No     5174\n",
       "Yes    1869\n",
       "        224\n",
       "Name: count, dtype: int64"
      ]
     },
     "execution_count": 136,
     "metadata": {},
     "output_type": "execute_result"
    }
   ],
   "source": [
    "dataframe['Churn'].value_counts()"
   ]
  },
  {
   "cell_type": "markdown",
   "id": "e4a5cc5c",
   "metadata": {},
   "source": [
    "En este caso de la columna Churn hay campos vacios"
   ]
  },
  {
   "cell_type": "code",
   "execution_count": 137,
   "id": "9e494630",
   "metadata": {},
   "outputs": [],
   "source": [
    "#eliminamos las filas que continen el espacio en blanco\n",
    "dataframe = dataframe[dataframe['Churn'] != '']\n"
   ]
  },
  {
   "cell_type": "code",
   "execution_count": 138,
   "id": "e07319e1",
   "metadata": {},
   "outputs": [
    {
     "data": {
      "application/vnd.microsoft.datawrangler.viewer.v0+json": {
       "columns": [
        {
         "name": "Churn",
         "rawType": "object",
         "type": "string"
        },
        {
         "name": "count",
         "rawType": "int64",
         "type": "integer"
        }
       ],
       "ref": "c9c2b275-448f-4edd-86fe-6c941ff2c7c5",
       "rows": [
        [
         "No",
         "5174"
        ],
        [
         "Yes",
         "1869"
        ]
       ],
       "shape": {
        "columns": 1,
        "rows": 2
       }
      },
      "text/plain": [
       "Churn\n",
       "No     5174\n",
       "Yes    1869\n",
       "Name: count, dtype: int64"
      ]
     },
     "execution_count": 138,
     "metadata": {},
     "output_type": "execute_result"
    }
   ],
   "source": [
    "#comprobamos que hemos borrado los valores vacios\n",
    "dataframe['Churn'].value_counts()"
   ]
  },
  {
   "cell_type": "code",
   "execution_count": 139,
   "id": "3e191558",
   "metadata": {},
   "outputs": [
    {
     "data": {
      "application/vnd.microsoft.datawrangler.viewer.v0+json": {
       "columns": [
        {
         "name": "Total",
         "rawType": "object",
         "type": "string"
        },
        {
         "name": "count",
         "rawType": "int64",
         "type": "integer"
        }
       ],
       "ref": "dba1c4bc-59a1-4922-bc2a-a05134c40131",
       "rows": [
        [
         "20.2",
         "11"
        ],
        [
         "19.75",
         "9"
        ],
        [
         "20.05",
         "8"
        ],
        [
         "19.9",
         "8"
        ],
        [
         "19.65",
         "8"
        ],
        [
         "45.3",
         "7"
        ],
        [
         "19.55",
         "7"
        ],
        [
         "20.15",
         "6"
        ],
        [
         "19.45",
         "6"
        ],
        [
         "20.25",
         "6"
        ],
        [
         "20.3",
         "5"
        ],
        [
         "20.45",
         "5"
        ],
        [
         "74.7",
         "4"
        ],
        [
         "19.2",
         "4"
        ],
        [
         "19.3",
         "4"
        ],
        [
         "69.6",
         "4"
        ],
        [
         "19.85",
         "4"
        ],
        [
         "20.35",
         "4"
        ],
        [
         "20.4",
         "4"
        ],
        [
         "69.65",
         "4"
        ],
        [
         "44",
         "4"
        ],
        [
         "19.5",
         "4"
        ],
        [
         "20.5",
         "4"
        ],
        [
         "75.3",
         "4"
        ],
        [
         "49.9",
         "4"
        ],
        [
         "69.95",
         "4"
        ],
        [
         "19.4",
         "4"
        ],
        [
         "19.95",
         "4"
        ],
        [
         "50.15",
         "4"
        ],
        [
         "44.4",
         "4"
        ],
        [
         "69.9",
         "4"
        ],
        [
         "70.6",
         "4"
        ],
        [
         "20.55",
         "3"
        ],
        [
         "75.35",
         "3"
        ],
        [
         "50.75",
         "3"
        ],
        [
         "44.75",
         "3"
        ],
        [
         "85.5",
         "3"
        ],
        [
         "19.25",
         "3"
        ],
        [
         "2317.1",
         "3"
        ],
        [
         "85",
         "3"
        ],
        [
         "45.7",
         "3"
        ],
        [
         "25.25",
         "3"
        ],
        [
         "74.9",
         "3"
        ],
        [
         "86.05",
         "3"
        ],
        [
         "20",
         "3"
        ],
        [
         "74.35",
         "3"
        ],
        [
         "69.55",
         "3"
        ],
        [
         "80.55",
         "3"
        ],
        [
         "45.85",
         "3"
        ],
        [
         "45.1",
         "3"
        ]
       ],
       "shape": {
        "columns": 1,
        "rows": 6530
       }
      },
      "text/plain": [
       "Total\n",
       "20.2       11\n",
       "19.75       9\n",
       "20.05       8\n",
       "19.9        8\n",
       "19.65       8\n",
       "           ..\n",
       "4018.05     1\n",
       "633.45      1\n",
       "742.9       1\n",
       "4627.65     1\n",
       "3707.6      1\n",
       "Name: count, Length: 6530, dtype: int64"
      ]
     },
     "execution_count": 139,
     "metadata": {},
     "output_type": "execute_result"
    }
   ],
   "source": [
    "dataframe= dataframe[dataframe['Total'] != ' ']\n",
    "dataframe['Total'].value_counts()"
   ]
  },
  {
   "cell_type": "markdown",
   "id": "7cf99d2e",
   "metadata": {},
   "source": [
    "Ahora ya no tenemos valores vacios que puedan inferir negativamente en nuestro analisis "
   ]
  },
  {
   "cell_type": "code",
   "execution_count": 140,
   "id": "91054a55",
   "metadata": {},
   "outputs": [
    {
     "data": {
      "application/vnd.microsoft.datawrangler.viewer.v0+json": {
       "columns": [
        {
         "name": "index",
         "rawType": "object",
         "type": "string"
        },
        {
         "name": "0",
         "rawType": "object",
         "type": "unknown"
        }
       ],
       "ref": "31e41831-135f-4d79-9e97-072478655037",
       "rows": [
        [
         "Churn",
         "object"
        ],
        [
         "tenure",
         "int64"
        ],
        [
         "Contract",
         "object"
        ],
        [
         "Monthly",
         "float64"
        ],
        [
         "InternetService",
         "object"
        ],
        [
         "SeniorCitizen",
         "int64"
        ],
        [
         "Partner",
         "object"
        ],
        [
         "Dependents",
         "object"
        ],
        [
         "OnlineSecurity",
         "object"
        ],
        [
         "OnlineBackup",
         "object"
        ],
        [
         "DeviceProtection",
         "object"
        ],
        [
         "TechSupport",
         "object"
        ],
        [
         "PaymentMethod",
         "object"
        ],
        [
         "Total",
         "object"
        ]
       ],
       "shape": {
        "columns": 1,
        "rows": 14
       }
      },
      "text/plain": [
       "Churn                object\n",
       "tenure                int64\n",
       "Contract             object\n",
       "Monthly             float64\n",
       "InternetService      object\n",
       "SeniorCitizen         int64\n",
       "Partner              object\n",
       "Dependents           object\n",
       "OnlineSecurity       object\n",
       "OnlineBackup         object\n",
       "DeviceProtection     object\n",
       "TechSupport          object\n",
       "PaymentMethod        object\n",
       "Total                object\n",
       "dtype: object"
      ]
     },
     "execution_count": 140,
     "metadata": {},
     "output_type": "execute_result"
    }
   ],
   "source": [
    "dataframe.dtypes"
   ]
  },
  {
   "cell_type": "code",
   "execution_count": 141,
   "id": "99ab322f",
   "metadata": {},
   "outputs": [],
   "source": [
    "for col in dataframe.select_dtypes(include='object').columns:\n",
    "    dataframe[col] = dataframe[col].astype('category')"
   ]
  },
  {
   "cell_type": "code",
   "execution_count": 142,
   "id": "42a41fae",
   "metadata": {},
   "outputs": [
    {
     "data": {
      "application/vnd.microsoft.datawrangler.viewer.v0+json": {
       "columns": [
        {
         "name": "index",
         "rawType": "object",
         "type": "string"
        },
        {
         "name": "0",
         "rawType": "object",
         "type": "unknown"
        }
       ],
       "ref": "0e7588b1-440b-4264-b544-57ce5360ebe5",
       "rows": [
        [
         "Churn",
         "category"
        ],
        [
         "tenure",
         "int64"
        ],
        [
         "Contract",
         "category"
        ],
        [
         "Monthly",
         "float64"
        ],
        [
         "InternetService",
         "category"
        ],
        [
         "SeniorCitizen",
         "int64"
        ],
        [
         "Partner",
         "category"
        ],
        [
         "Dependents",
         "category"
        ],
        [
         "OnlineSecurity",
         "category"
        ],
        [
         "OnlineBackup",
         "category"
        ],
        [
         "DeviceProtection",
         "category"
        ],
        [
         "TechSupport",
         "category"
        ],
        [
         "PaymentMethod",
         "category"
        ],
        [
         "Total",
         "category"
        ]
       ],
       "shape": {
        "columns": 1,
        "rows": 14
       }
      },
      "text/plain": [
       "Churn               category\n",
       "tenure                 int64\n",
       "Contract            category\n",
       "Monthly              float64\n",
       "InternetService     category\n",
       "SeniorCitizen          int64\n",
       "Partner             category\n",
       "Dependents          category\n",
       "OnlineSecurity      category\n",
       "OnlineBackup        category\n",
       "DeviceProtection    category\n",
       "TechSupport         category\n",
       "PaymentMethod       category\n",
       "Total               category\n",
       "dtype: object"
      ]
     },
     "execution_count": 142,
     "metadata": {},
     "output_type": "execute_result"
    }
   ],
   "source": [
    "dataframe.dtypes"
   ]
  },
  {
   "cell_type": "markdown",
   "id": "e50aba8c",
   "metadata": {},
   "source": [
    "observamos que total paso a category siendo que es un float, y que SeniorCitizen tambien es categorica donde 0 es No y 1 es Yes"
   ]
  },
  {
   "cell_type": "code",
   "execution_count": 143,
   "id": "cedca88a",
   "metadata": {},
   "outputs": [
    {
     "data": {
      "application/vnd.microsoft.datawrangler.viewer.v0+json": {
       "columns": [
        {
         "name": "Total",
         "rawType": "category",
         "type": "unknown"
        },
        {
         "name": "count",
         "rawType": "int64",
         "type": "integer"
        }
       ],
       "ref": "31cdeeab-695b-4d7f-8492-ace0ec702514",
       "rows": [
        [
         "20.2",
         "11"
        ],
        [
         "19.75",
         "9"
        ],
        [
         "19.9",
         "8"
        ],
        [
         "20.05",
         "8"
        ],
        [
         "19.65",
         "8"
        ],
        [
         "19.55",
         "7"
        ],
        [
         "45.3",
         "7"
        ],
        [
         "19.45",
         "6"
        ],
        [
         "20.25",
         "6"
        ],
        [
         "20.15",
         "6"
        ],
        [
         "20.3",
         "5"
        ],
        [
         "20.45",
         "5"
        ],
        [
         "20.4",
         "4"
        ],
        [
         "20.5",
         "4"
        ],
        [
         "19.85",
         "4"
        ],
        [
         "19.95",
         "4"
        ],
        [
         "75.3",
         "4"
        ],
        [
         "19.3",
         "4"
        ],
        [
         "44",
         "4"
        ],
        [
         "19.2",
         "4"
        ],
        [
         "44.4",
         "4"
        ],
        [
         "49.9",
         "4"
        ],
        [
         "50.15",
         "4"
        ],
        [
         "69.6",
         "4"
        ],
        [
         "69.65",
         "4"
        ],
        [
         "19.4",
         "4"
        ],
        [
         "69.9",
         "4"
        ],
        [
         "69.95",
         "4"
        ],
        [
         "70.6",
         "4"
        ],
        [
         "74.7",
         "4"
        ],
        [
         "19.5",
         "4"
        ],
        [
         "20.35",
         "4"
        ],
        [
         "220.45",
         "3"
        ],
        [
         "35.9",
         "3"
        ],
        [
         "20",
         "3"
        ],
        [
         "19.1",
         "3"
        ],
        [
         "19.25",
         "3"
        ],
        [
         "24.4",
         "3"
        ],
        [
         "20.55",
         "3"
        ],
        [
         "383.65",
         "3"
        ],
        [
         "20.1",
         "3"
        ],
        [
         "305.55",
         "3"
        ],
        [
         "1284.2",
         "3"
        ],
        [
         "20.9",
         "3"
        ],
        [
         "25.25",
         "3"
        ],
        [
         "24.8",
         "3"
        ],
        [
         "50.6",
         "3"
        ],
        [
         "50.75",
         "3"
        ],
        [
         "55.7",
         "3"
        ],
        [
         "69.1",
         "3"
        ]
       ],
       "shape": {
        "columns": 1,
        "rows": 6530
       }
      },
      "text/plain": [
       "Total\n",
       "20.2      11\n",
       "19.75      9\n",
       "19.9       8\n",
       "20.05      8\n",
       "19.65      8\n",
       "          ..\n",
       "997.75     1\n",
       "998.1      1\n",
       "999.45     1\n",
       "999.8      1\n",
       "999.9      1\n",
       "Name: count, Length: 6530, dtype: int64"
      ]
     },
     "execution_count": 143,
     "metadata": {},
     "output_type": "execute_result"
    }
   ],
   "source": [
    "dataframe['Total'].value_counts()"
   ]
  },
  {
   "cell_type": "code",
   "execution_count": 144,
   "id": "6563c2df",
   "metadata": {},
   "outputs": [],
   "source": [
    "dataframe['Total']= dataframe['Total'].astype('float64')  # Convertir 'Total' a float64\n",
    "dataframe['SeniorCitizen'] = dataframe['SeniorCitizen'].astype('category') "
   ]
  },
  {
   "cell_type": "code",
   "execution_count": 145,
   "id": "f6f204a1",
   "metadata": {},
   "outputs": [
    {
     "data": {
      "application/vnd.microsoft.datawrangler.viewer.v0+json": {
       "columns": [
        {
         "name": "index",
         "rawType": "object",
         "type": "string"
        },
        {
         "name": "0",
         "rawType": "object",
         "type": "unknown"
        }
       ],
       "ref": "f6ad300a-f327-4e45-adf5-d945477fc42d",
       "rows": [
        [
         "Churn",
         "category"
        ],
        [
         "tenure",
         "int64"
        ],
        [
         "Contract",
         "category"
        ],
        [
         "Monthly",
         "float64"
        ],
        [
         "InternetService",
         "category"
        ],
        [
         "SeniorCitizen",
         "category"
        ],
        [
         "Partner",
         "category"
        ],
        [
         "Dependents",
         "category"
        ],
        [
         "OnlineSecurity",
         "category"
        ],
        [
         "OnlineBackup",
         "category"
        ],
        [
         "DeviceProtection",
         "category"
        ],
        [
         "TechSupport",
         "category"
        ],
        [
         "PaymentMethod",
         "category"
        ],
        [
         "Total",
         "float64"
        ]
       ],
       "shape": {
        "columns": 1,
        "rows": 14
       }
      },
      "text/plain": [
       "Churn               category\n",
       "tenure                 int64\n",
       "Contract            category\n",
       "Monthly              float64\n",
       "InternetService     category\n",
       "SeniorCitizen       category\n",
       "Partner             category\n",
       "Dependents          category\n",
       "OnlineSecurity      category\n",
       "OnlineBackup        category\n",
       "DeviceProtection    category\n",
       "TechSupport         category\n",
       "PaymentMethod       category\n",
       "Total                float64\n",
       "dtype: object"
      ]
     },
     "execution_count": 145,
     "metadata": {},
     "output_type": "execute_result"
    }
   ],
   "source": [
    "dataframe.dtypes"
   ]
  },
  {
   "cell_type": "markdown",
   "id": "c654ec8c",
   "metadata": {},
   "source": [
    "##### Agregamos la columna cuentas diarias \n"
   ]
  },
  {
   "cell_type": "code",
   "execution_count": 146,
   "id": "203221ff",
   "metadata": {},
   "outputs": [],
   "source": [
    "dataframe['Cuentas_Diarias'] = (dataframe['Monthly'] / 30).round(2)  # Agregar columna de cuentas diarias"
   ]
  },
  {
   "cell_type": "code",
   "execution_count": 147,
   "id": "369b9806",
   "metadata": {},
   "outputs": [
    {
     "data": {
      "application/vnd.microsoft.datawrangler.viewer.v0+json": {
       "columns": [
        {
         "name": "index",
         "rawType": "int64",
         "type": "integer"
        },
        {
         "name": "Churn",
         "rawType": "category",
         "type": "unknown"
        },
        {
         "name": "tenure",
         "rawType": "int64",
         "type": "integer"
        },
        {
         "name": "Contract",
         "rawType": "category",
         "type": "unknown"
        },
        {
         "name": "Monthly",
         "rawType": "float64",
         "type": "float"
        },
        {
         "name": "InternetService",
         "rawType": "category",
         "type": "unknown"
        },
        {
         "name": "SeniorCitizen",
         "rawType": "category",
         "type": "unknown"
        },
        {
         "name": "Partner",
         "rawType": "category",
         "type": "unknown"
        },
        {
         "name": "Dependents",
         "rawType": "category",
         "type": "unknown"
        },
        {
         "name": "OnlineSecurity",
         "rawType": "category",
         "type": "unknown"
        },
        {
         "name": "OnlineBackup",
         "rawType": "category",
         "type": "unknown"
        },
        {
         "name": "DeviceProtection",
         "rawType": "category",
         "type": "unknown"
        },
        {
         "name": "TechSupport",
         "rawType": "category",
         "type": "unknown"
        },
        {
         "name": "PaymentMethod",
         "rawType": "category",
         "type": "unknown"
        },
        {
         "name": "Total",
         "rawType": "float64",
         "type": "float"
        },
        {
         "name": "Cuentas_Diarias",
         "rawType": "float64",
         "type": "float"
        }
       ],
       "ref": "ef51ff1e-5625-4456-8be6-ff504d8cfc40",
       "rows": [
        [
         "0",
         "No",
         "9",
         "One year",
         "65.6",
         "DSL",
         "0",
         "Yes",
         "Yes",
         "No",
         "Yes",
         "No",
         "Yes",
         "Mailed check",
         "593.3",
         "2.19"
        ],
        [
         "1",
         "No",
         "9",
         "Month-to-month",
         "59.9",
         "DSL",
         "0",
         "No",
         "No",
         "No",
         "No",
         "No",
         "No",
         "Mailed check",
         "542.4",
         "2.0"
        ],
        [
         "2",
         "Yes",
         "4",
         "Month-to-month",
         "73.9",
         "Fiber optic",
         "0",
         "No",
         "No",
         "No",
         "No",
         "Yes",
         "No",
         "Electronic check",
         "280.85",
         "2.46"
        ],
        [
         "3",
         "Yes",
         "13",
         "Month-to-month",
         "98.0",
         "Fiber optic",
         "1",
         "Yes",
         "No",
         "No",
         "Yes",
         "Yes",
         "No",
         "Electronic check",
         "1237.85",
         "3.27"
        ],
        [
         "4",
         "Yes",
         "3",
         "Month-to-month",
         "83.9",
         "Fiber optic",
         "1",
         "Yes",
         "No",
         "No",
         "No",
         "No",
         "Yes",
         "Mailed check",
         "267.4",
         "2.8"
        ]
       ],
       "shape": {
        "columns": 15,
        "rows": 5
       }
      },
      "text/html": [
       "<div>\n",
       "<style scoped>\n",
       "    .dataframe tbody tr th:only-of-type {\n",
       "        vertical-align: middle;\n",
       "    }\n",
       "\n",
       "    .dataframe tbody tr th {\n",
       "        vertical-align: top;\n",
       "    }\n",
       "\n",
       "    .dataframe thead th {\n",
       "        text-align: right;\n",
       "    }\n",
       "</style>\n",
       "<table border=\"1\" class=\"dataframe\">\n",
       "  <thead>\n",
       "    <tr style=\"text-align: right;\">\n",
       "      <th></th>\n",
       "      <th>Churn</th>\n",
       "      <th>tenure</th>\n",
       "      <th>Contract</th>\n",
       "      <th>Monthly</th>\n",
       "      <th>InternetService</th>\n",
       "      <th>SeniorCitizen</th>\n",
       "      <th>Partner</th>\n",
       "      <th>Dependents</th>\n",
       "      <th>OnlineSecurity</th>\n",
       "      <th>OnlineBackup</th>\n",
       "      <th>DeviceProtection</th>\n",
       "      <th>TechSupport</th>\n",
       "      <th>PaymentMethod</th>\n",
       "      <th>Total</th>\n",
       "      <th>Cuentas_Diarias</th>\n",
       "    </tr>\n",
       "  </thead>\n",
       "  <tbody>\n",
       "    <tr>\n",
       "      <th>0</th>\n",
       "      <td>No</td>\n",
       "      <td>9</td>\n",
       "      <td>One year</td>\n",
       "      <td>65.6</td>\n",
       "      <td>DSL</td>\n",
       "      <td>0</td>\n",
       "      <td>Yes</td>\n",
       "      <td>Yes</td>\n",
       "      <td>No</td>\n",
       "      <td>Yes</td>\n",
       "      <td>No</td>\n",
       "      <td>Yes</td>\n",
       "      <td>Mailed check</td>\n",
       "      <td>593.30</td>\n",
       "      <td>2.19</td>\n",
       "    </tr>\n",
       "    <tr>\n",
       "      <th>1</th>\n",
       "      <td>No</td>\n",
       "      <td>9</td>\n",
       "      <td>Month-to-month</td>\n",
       "      <td>59.9</td>\n",
       "      <td>DSL</td>\n",
       "      <td>0</td>\n",
       "      <td>No</td>\n",
       "      <td>No</td>\n",
       "      <td>No</td>\n",
       "      <td>No</td>\n",
       "      <td>No</td>\n",
       "      <td>No</td>\n",
       "      <td>Mailed check</td>\n",
       "      <td>542.40</td>\n",
       "      <td>2.00</td>\n",
       "    </tr>\n",
       "    <tr>\n",
       "      <th>2</th>\n",
       "      <td>Yes</td>\n",
       "      <td>4</td>\n",
       "      <td>Month-to-month</td>\n",
       "      <td>73.9</td>\n",
       "      <td>Fiber optic</td>\n",
       "      <td>0</td>\n",
       "      <td>No</td>\n",
       "      <td>No</td>\n",
       "      <td>No</td>\n",
       "      <td>No</td>\n",
       "      <td>Yes</td>\n",
       "      <td>No</td>\n",
       "      <td>Electronic check</td>\n",
       "      <td>280.85</td>\n",
       "      <td>2.46</td>\n",
       "    </tr>\n",
       "    <tr>\n",
       "      <th>3</th>\n",
       "      <td>Yes</td>\n",
       "      <td>13</td>\n",
       "      <td>Month-to-month</td>\n",
       "      <td>98.0</td>\n",
       "      <td>Fiber optic</td>\n",
       "      <td>1</td>\n",
       "      <td>Yes</td>\n",
       "      <td>No</td>\n",
       "      <td>No</td>\n",
       "      <td>Yes</td>\n",
       "      <td>Yes</td>\n",
       "      <td>No</td>\n",
       "      <td>Electronic check</td>\n",
       "      <td>1237.85</td>\n",
       "      <td>3.27</td>\n",
       "    </tr>\n",
       "    <tr>\n",
       "      <th>4</th>\n",
       "      <td>Yes</td>\n",
       "      <td>3</td>\n",
       "      <td>Month-to-month</td>\n",
       "      <td>83.9</td>\n",
       "      <td>Fiber optic</td>\n",
       "      <td>1</td>\n",
       "      <td>Yes</td>\n",
       "      <td>No</td>\n",
       "      <td>No</td>\n",
       "      <td>No</td>\n",
       "      <td>No</td>\n",
       "      <td>Yes</td>\n",
       "      <td>Mailed check</td>\n",
       "      <td>267.40</td>\n",
       "      <td>2.80</td>\n",
       "    </tr>\n",
       "  </tbody>\n",
       "</table>\n",
       "</div>"
      ],
      "text/plain": [
       "  Churn  tenure        Contract  Monthly InternetService SeniorCitizen  \\\n",
       "0    No       9        One year     65.6             DSL             0   \n",
       "1    No       9  Month-to-month     59.9             DSL             0   \n",
       "2   Yes       4  Month-to-month     73.9     Fiber optic             0   \n",
       "3   Yes      13  Month-to-month     98.0     Fiber optic             1   \n",
       "4   Yes       3  Month-to-month     83.9     Fiber optic             1   \n",
       "\n",
       "  Partner Dependents OnlineSecurity OnlineBackup DeviceProtection TechSupport  \\\n",
       "0     Yes        Yes             No          Yes               No         Yes   \n",
       "1      No         No             No           No               No          No   \n",
       "2      No         No             No           No              Yes          No   \n",
       "3     Yes         No             No          Yes              Yes          No   \n",
       "4     Yes         No             No           No               No         Yes   \n",
       "\n",
       "      PaymentMethod    Total  Cuentas_Diarias  \n",
       "0      Mailed check   593.30             2.19  \n",
       "1      Mailed check   542.40             2.00  \n",
       "2  Electronic check   280.85             2.46  \n",
       "3  Electronic check  1237.85             3.27  \n",
       "4      Mailed check   267.40             2.80  "
      ]
     },
     "execution_count": 147,
     "metadata": {},
     "output_type": "execute_result"
    }
   ],
   "source": [
    "dataframe.head()"
   ]
  },
  {
   "cell_type": "code",
   "execution_count": 150,
   "id": "f3274b3f",
   "metadata": {},
   "outputs": [],
   "source": [
    "#dataframe['Churn'] = dataframe['Churn'].map({'Yes': 1, 'No': 0})  # Convertir 'Churn' a valores numéricos\n",
    "dataframe['Partner'] = dataframe['Partner'].map({'Yes': 1, 'No': 0})  # Convertir 'Partner' a valores numéricos\n",
    "dataframe['Dependents'] = dataframe['Dependents'].map({'Yes': 1, 'No': 0})  # Convertir 'Dependents' a valores numéricos"
   ]
  },
  {
   "cell_type": "code",
   "execution_count": 151,
   "id": "176cef0d",
   "metadata": {},
   "outputs": [
    {
     "data": {
      "application/vnd.microsoft.datawrangler.viewer.v0+json": {
       "columns": [
        {
         "name": "index",
         "rawType": "int64",
         "type": "integer"
        },
        {
         "name": "Churn",
         "rawType": "category",
         "type": "unknown"
        },
        {
         "name": "tenure",
         "rawType": "int64",
         "type": "integer"
        },
        {
         "name": "Contract",
         "rawType": "category",
         "type": "unknown"
        },
        {
         "name": "Monthly",
         "rawType": "float64",
         "type": "float"
        },
        {
         "name": "InternetService",
         "rawType": "category",
         "type": "unknown"
        },
        {
         "name": "SeniorCitizen",
         "rawType": "category",
         "type": "unknown"
        },
        {
         "name": "Partner",
         "rawType": "category",
         "type": "unknown"
        },
        {
         "name": "Dependents",
         "rawType": "category",
         "type": "unknown"
        },
        {
         "name": "OnlineSecurity",
         "rawType": "category",
         "type": "unknown"
        },
        {
         "name": "OnlineBackup",
         "rawType": "category",
         "type": "unknown"
        },
        {
         "name": "DeviceProtection",
         "rawType": "category",
         "type": "unknown"
        },
        {
         "name": "TechSupport",
         "rawType": "category",
         "type": "unknown"
        },
        {
         "name": "PaymentMethod",
         "rawType": "category",
         "type": "unknown"
        },
        {
         "name": "Total",
         "rawType": "float64",
         "type": "float"
        },
        {
         "name": "Cuentas_Diarias",
         "rawType": "float64",
         "type": "float"
        }
       ],
       "ref": "8ecb1d76-b8e6-4749-8043-9ea185d9bd34",
       "rows": [
        [
         "0",
         "No",
         "9",
         "One year",
         "65.6",
         "DSL",
         "0",
         "1",
         "1",
         "No",
         "Yes",
         "No",
         "Yes",
         "Mailed check",
         "593.3",
         "2.19"
        ],
        [
         "1",
         "No",
         "9",
         "Month-to-month",
         "59.9",
         "DSL",
         "0",
         "0",
         "0",
         "No",
         "No",
         "No",
         "No",
         "Mailed check",
         "542.4",
         "2.0"
        ],
        [
         "2",
         "Yes",
         "4",
         "Month-to-month",
         "73.9",
         "Fiber optic",
         "0",
         "0",
         "0",
         "No",
         "No",
         "Yes",
         "No",
         "Electronic check",
         "280.85",
         "2.46"
        ],
        [
         "3",
         "Yes",
         "13",
         "Month-to-month",
         "98.0",
         "Fiber optic",
         "1",
         "1",
         "0",
         "No",
         "Yes",
         "Yes",
         "No",
         "Electronic check",
         "1237.85",
         "3.27"
        ],
        [
         "4",
         "Yes",
         "3",
         "Month-to-month",
         "83.9",
         "Fiber optic",
         "1",
         "1",
         "0",
         "No",
         "No",
         "No",
         "Yes",
         "Mailed check",
         "267.4",
         "2.8"
        ]
       ],
       "shape": {
        "columns": 15,
        "rows": 5
       }
      },
      "text/html": [
       "<div>\n",
       "<style scoped>\n",
       "    .dataframe tbody tr th:only-of-type {\n",
       "        vertical-align: middle;\n",
       "    }\n",
       "\n",
       "    .dataframe tbody tr th {\n",
       "        vertical-align: top;\n",
       "    }\n",
       "\n",
       "    .dataframe thead th {\n",
       "        text-align: right;\n",
       "    }\n",
       "</style>\n",
       "<table border=\"1\" class=\"dataframe\">\n",
       "  <thead>\n",
       "    <tr style=\"text-align: right;\">\n",
       "      <th></th>\n",
       "      <th>Churn</th>\n",
       "      <th>tenure</th>\n",
       "      <th>Contract</th>\n",
       "      <th>Monthly</th>\n",
       "      <th>InternetService</th>\n",
       "      <th>SeniorCitizen</th>\n",
       "      <th>Partner</th>\n",
       "      <th>Dependents</th>\n",
       "      <th>OnlineSecurity</th>\n",
       "      <th>OnlineBackup</th>\n",
       "      <th>DeviceProtection</th>\n",
       "      <th>TechSupport</th>\n",
       "      <th>PaymentMethod</th>\n",
       "      <th>Total</th>\n",
       "      <th>Cuentas_Diarias</th>\n",
       "    </tr>\n",
       "  </thead>\n",
       "  <tbody>\n",
       "    <tr>\n",
       "      <th>0</th>\n",
       "      <td>No</td>\n",
       "      <td>9</td>\n",
       "      <td>One year</td>\n",
       "      <td>65.6</td>\n",
       "      <td>DSL</td>\n",
       "      <td>0</td>\n",
       "      <td>1</td>\n",
       "      <td>1</td>\n",
       "      <td>No</td>\n",
       "      <td>Yes</td>\n",
       "      <td>No</td>\n",
       "      <td>Yes</td>\n",
       "      <td>Mailed check</td>\n",
       "      <td>593.30</td>\n",
       "      <td>2.19</td>\n",
       "    </tr>\n",
       "    <tr>\n",
       "      <th>1</th>\n",
       "      <td>No</td>\n",
       "      <td>9</td>\n",
       "      <td>Month-to-month</td>\n",
       "      <td>59.9</td>\n",
       "      <td>DSL</td>\n",
       "      <td>0</td>\n",
       "      <td>0</td>\n",
       "      <td>0</td>\n",
       "      <td>No</td>\n",
       "      <td>No</td>\n",
       "      <td>No</td>\n",
       "      <td>No</td>\n",
       "      <td>Mailed check</td>\n",
       "      <td>542.40</td>\n",
       "      <td>2.00</td>\n",
       "    </tr>\n",
       "    <tr>\n",
       "      <th>2</th>\n",
       "      <td>Yes</td>\n",
       "      <td>4</td>\n",
       "      <td>Month-to-month</td>\n",
       "      <td>73.9</td>\n",
       "      <td>Fiber optic</td>\n",
       "      <td>0</td>\n",
       "      <td>0</td>\n",
       "      <td>0</td>\n",
       "      <td>No</td>\n",
       "      <td>No</td>\n",
       "      <td>Yes</td>\n",
       "      <td>No</td>\n",
       "      <td>Electronic check</td>\n",
       "      <td>280.85</td>\n",
       "      <td>2.46</td>\n",
       "    </tr>\n",
       "    <tr>\n",
       "      <th>3</th>\n",
       "      <td>Yes</td>\n",
       "      <td>13</td>\n",
       "      <td>Month-to-month</td>\n",
       "      <td>98.0</td>\n",
       "      <td>Fiber optic</td>\n",
       "      <td>1</td>\n",
       "      <td>1</td>\n",
       "      <td>0</td>\n",
       "      <td>No</td>\n",
       "      <td>Yes</td>\n",
       "      <td>Yes</td>\n",
       "      <td>No</td>\n",
       "      <td>Electronic check</td>\n",
       "      <td>1237.85</td>\n",
       "      <td>3.27</td>\n",
       "    </tr>\n",
       "    <tr>\n",
       "      <th>4</th>\n",
       "      <td>Yes</td>\n",
       "      <td>3</td>\n",
       "      <td>Month-to-month</td>\n",
       "      <td>83.9</td>\n",
       "      <td>Fiber optic</td>\n",
       "      <td>1</td>\n",
       "      <td>1</td>\n",
       "      <td>0</td>\n",
       "      <td>No</td>\n",
       "      <td>No</td>\n",
       "      <td>No</td>\n",
       "      <td>Yes</td>\n",
       "      <td>Mailed check</td>\n",
       "      <td>267.40</td>\n",
       "      <td>2.80</td>\n",
       "    </tr>\n",
       "  </tbody>\n",
       "</table>\n",
       "</div>"
      ],
      "text/plain": [
       "  Churn  tenure        Contract  Monthly InternetService SeniorCitizen  \\\n",
       "0    No       9        One year     65.6             DSL             0   \n",
       "1    No       9  Month-to-month     59.9             DSL             0   \n",
       "2   Yes       4  Month-to-month     73.9     Fiber optic             0   \n",
       "3   Yes      13  Month-to-month     98.0     Fiber optic             1   \n",
       "4   Yes       3  Month-to-month     83.9     Fiber optic             1   \n",
       "\n",
       "  Partner Dependents OnlineSecurity OnlineBackup DeviceProtection TechSupport  \\\n",
       "0       1          1             No          Yes               No         Yes   \n",
       "1       0          0             No           No               No          No   \n",
       "2       0          0             No           No              Yes          No   \n",
       "3       1          0             No          Yes              Yes          No   \n",
       "4       1          0             No           No               No         Yes   \n",
       "\n",
       "      PaymentMethod    Total  Cuentas_Diarias  \n",
       "0      Mailed check   593.30             2.19  \n",
       "1      Mailed check   542.40             2.00  \n",
       "2  Electronic check   280.85             2.46  \n",
       "3  Electronic check  1237.85             3.27  \n",
       "4      Mailed check   267.40             2.80  "
      ]
     },
     "execution_count": 151,
     "metadata": {},
     "output_type": "execute_result"
    }
   ],
   "source": [
    "dataframe.head()"
   ]
  },
  {
   "cell_type": "code",
   "execution_count": 152,
   "id": "45ab60da",
   "metadata": {},
   "outputs": [],
   "source": [
    "dataframe['Churn']= dataframe['Churn'].map({'Yes': 1, 'No': 0})  # Convertir 'Churn' a valores numéricos"
   ]
  },
  {
   "cell_type": "markdown",
   "id": "1ab752cf",
   "metadata": {},
   "source": [
    "#### Carga y Analisis"
   ]
  },
  {
   "cell_type": "markdown",
   "id": "909a8c6a",
   "metadata": {},
   "source": [
    "Para comenzar, realiza un análisis descriptivo de los datos, calculando métricas como media, mediana, desviación estándar y otras medidas que ayuden a comprender mejor la distribución y el comportamiento de los clientes."
   ]
  },
  {
   "cell_type": "code",
   "execution_count": 153,
   "id": "56d714c0",
   "metadata": {},
   "outputs": [
    {
     "data": {
      "application/vnd.microsoft.datawrangler.viewer.v0+json": {
       "columns": [
        {
         "name": "index",
         "rawType": "object",
         "type": "string"
        },
        {
         "name": "tenure",
         "rawType": "float64",
         "type": "float"
        },
        {
         "name": "Monthly",
         "rawType": "float64",
         "type": "float"
        },
        {
         "name": "Total",
         "rawType": "float64",
         "type": "float"
        },
        {
         "name": "Cuentas_Diarias",
         "rawType": "float64",
         "type": "float"
        }
       ],
       "ref": "d65fe3b5-bc46-4a66-a7ae-e4d052362327",
       "rows": [
        [
         "count",
         "7032.0",
         "7032.0",
         "7032.0",
         "7032.0"
        ],
        [
         "mean",
         "32.421786120591584",
         "64.79820819112628",
         "2283.3004408418656",
         "2.1598905005688285"
        ],
        [
         "std",
         "24.545259709263256",
         "30.085973884049842",
         "2266.771361883145",
         "1.0029552418409886"
        ],
        [
         "min",
         "1.0",
         "18.25",
         "18.8",
         "0.61"
        ],
        [
         "25%",
         "9.0",
         "35.5875",
         "401.45",
         "1.1875"
        ],
        [
         "50%",
         "29.0",
         "70.35",
         "1397.475",
         "2.34"
        ],
        [
         "75%",
         "55.0",
         "89.8625",
         "3794.7375",
         "2.9925"
        ],
        [
         "max",
         "72.0",
         "118.75",
         "8684.8",
         "3.96"
        ]
       ],
       "shape": {
        "columns": 4,
        "rows": 8
       }
      },
      "text/html": [
       "<div>\n",
       "<style scoped>\n",
       "    .dataframe tbody tr th:only-of-type {\n",
       "        vertical-align: middle;\n",
       "    }\n",
       "\n",
       "    .dataframe tbody tr th {\n",
       "        vertical-align: top;\n",
       "    }\n",
       "\n",
       "    .dataframe thead th {\n",
       "        text-align: right;\n",
       "    }\n",
       "</style>\n",
       "<table border=\"1\" class=\"dataframe\">\n",
       "  <thead>\n",
       "    <tr style=\"text-align: right;\">\n",
       "      <th></th>\n",
       "      <th>tenure</th>\n",
       "      <th>Monthly</th>\n",
       "      <th>Total</th>\n",
       "      <th>Cuentas_Diarias</th>\n",
       "    </tr>\n",
       "  </thead>\n",
       "  <tbody>\n",
       "    <tr>\n",
       "      <th>count</th>\n",
       "      <td>7032.000000</td>\n",
       "      <td>7032.000000</td>\n",
       "      <td>7032.000000</td>\n",
       "      <td>7032.000000</td>\n",
       "    </tr>\n",
       "    <tr>\n",
       "      <th>mean</th>\n",
       "      <td>32.421786</td>\n",
       "      <td>64.798208</td>\n",
       "      <td>2283.300441</td>\n",
       "      <td>2.159891</td>\n",
       "    </tr>\n",
       "    <tr>\n",
       "      <th>std</th>\n",
       "      <td>24.545260</td>\n",
       "      <td>30.085974</td>\n",
       "      <td>2266.771362</td>\n",
       "      <td>1.002955</td>\n",
       "    </tr>\n",
       "    <tr>\n",
       "      <th>min</th>\n",
       "      <td>1.000000</td>\n",
       "      <td>18.250000</td>\n",
       "      <td>18.800000</td>\n",
       "      <td>0.610000</td>\n",
       "    </tr>\n",
       "    <tr>\n",
       "      <th>25%</th>\n",
       "      <td>9.000000</td>\n",
       "      <td>35.587500</td>\n",
       "      <td>401.450000</td>\n",
       "      <td>1.187500</td>\n",
       "    </tr>\n",
       "    <tr>\n",
       "      <th>50%</th>\n",
       "      <td>29.000000</td>\n",
       "      <td>70.350000</td>\n",
       "      <td>1397.475000</td>\n",
       "      <td>2.340000</td>\n",
       "    </tr>\n",
       "    <tr>\n",
       "      <th>75%</th>\n",
       "      <td>55.000000</td>\n",
       "      <td>89.862500</td>\n",
       "      <td>3794.737500</td>\n",
       "      <td>2.992500</td>\n",
       "    </tr>\n",
       "    <tr>\n",
       "      <th>max</th>\n",
       "      <td>72.000000</td>\n",
       "      <td>118.750000</td>\n",
       "      <td>8684.800000</td>\n",
       "      <td>3.960000</td>\n",
       "    </tr>\n",
       "  </tbody>\n",
       "</table>\n",
       "</div>"
      ],
      "text/plain": [
       "            tenure      Monthly        Total  Cuentas_Diarias\n",
       "count  7032.000000  7032.000000  7032.000000      7032.000000\n",
       "mean     32.421786    64.798208  2283.300441         2.159891\n",
       "std      24.545260    30.085974  2266.771362         1.002955\n",
       "min       1.000000    18.250000    18.800000         0.610000\n",
       "25%       9.000000    35.587500   401.450000         1.187500\n",
       "50%      29.000000    70.350000  1397.475000         2.340000\n",
       "75%      55.000000    89.862500  3794.737500         2.992500\n",
       "max      72.000000   118.750000  8684.800000         3.960000"
      ]
     },
     "execution_count": 153,
     "metadata": {},
     "output_type": "execute_result"
    }
   ],
   "source": [
    "dataframe.describe()"
   ]
  },
  {
   "cell_type": "markdown",
   "id": "3d021d75",
   "metadata": {},
   "source": [
    "🔹 Análisis Exploratorio de Datos:"
   ]
  },
  {
   "cell_type": "markdown",
   "id": "f2a48011",
   "metadata": {},
   "source": [
    "Cómo está distribuida la variable \"churn\" (evasión) entre los clientes. Utiliza gráficos para visualizar la proporción de clientes que permanecieron y los que se dieron de baja."
   ]
  },
  {
   "cell_type": "code",
   "execution_count": 160,
   "id": "c9493b57",
   "metadata": {},
   "outputs": [
    {
     "data": {
      "image/png": "[encoded data removed]",
      "text/plain": [
       "<Figure size 640x480 with 1 Axes>"
      ]
     },
     "metadata": {},
     "output_type": "display_data"
    }
   ],
   "source": [
    "#Generamos un grafico de distrubucion de porcentajes de clientes que permanecieron y los que se dieron de baja\n",
    "import matplotlib.pyplot as plt\n",
    "\n",
    "labels = ['No se dieron de baja', 'Se dieron de baja']\n",
    "dataframe['Churn'].value_counts().sort_index().plot(kind='bar', color=['blue', 'orange'])\n",
    "plt.title('Distribucion de Clientes')\n",
    "plt.xlabel('Churn (0 = No, 1 = Sí)')\n",
    "plt.ylabel('Número de Clientes')\n",
    "plt.xticks([0, 1], labels, rotation=0)\n",
    "#ponemos el valor encima de cada barra\n",
    "for i, v in enumerate(dataframe['Churn'].value_counts().sort_index()):\n",
    "    plt.text(i, v + 50, str(v), ha='center', va='bottom', fontsize=10)\n",
    "plt.show()"
   ]
  },
  {
   "cell_type": "code",
   "execution_count": 183,
   "id": "6744fc8c",
   "metadata": {},
   "outputs": [
    {
     "data": {
      "image/png": "[encoded data removed]",
      "text/plain": [
       "<Figure size 700x400 with 1 Axes>"
      ]
     },
     "metadata": {},
     "output_type": "display_data"
    },
    {
     "data": {
      "image/png": "[encoded data removed]",
      "text/plain": [
       "<Figure size 700x400 with 1 Axes>"
      ]
     },
     "metadata": {},
     "output_type": "display_data"
    },
    {
     "data": {
      "image/png": "[encoded data removed]",
      "text/plain": [
       "<Figure size 700x400 with 1 Axes>"
      ]
     },
     "metadata": {},
     "output_type": "display_data"
    },
    {
     "data": {
      "image/png": "[encoded data removed]",
      "text/plain": [
       "<Figure size 700x400 with 1 Axes>"
      ]
     },
     "metadata": {},
     "output_type": "display_data"
    },
    {
     "data": {
      "image/png": "[encoded data removed]",
      "text/plain": [
       "<Figure size 700x400 with 1 Axes>"
      ]
     },
     "metadata": {},
     "output_type": "display_data"
    },
    {
     "data": {
      "image/png": "[encoded data removed]",
      "text/plain": [
       "<Figure size 700x400 with 1 Axes>"
      ]
     },
     "metadata": {},
     "output_type": "display_data"
    },
    {
     "data": {
      "image/png": "[encoded data removed]",
      "text/plain": [
       "<Figure size 700x400 with 1 Axes>"
      ]
     },
     "metadata": {},
     "output_type": "display_data"
    },
    {
     "data": {
      "image/png": "[encoded data removed]",
      "text/plain": [
       "<Figure size 700x400 with 1 Axes>"
      ]
     },
     "metadata": {},
     "output_type": "display_data"
    },
    {
     "data": {
      "image/png": "[encoded data removed]",
      "text/plain": [
       "<Figure size 700x400 with 1 Axes>"
      ]
     },
     "metadata": {},
     "output_type": "display_data"
    },
    {
     "data": {
      "image/png": "[encoded data removed]",
      "text/plain": [
       "<Figure size 700x400 with 1 Axes>"
      ]
     },
     "metadata": {},
     "output_type": "display_data"
    },
    {
     "data": {
      "image/png": "[encoded data removed]",
      "text/plain": [
       "<Figure size 700x400 with 1 Axes>"
      ]
     },
     "metadata": {},
     "output_type": "display_data"
    }
   ],
   "source": [
    "#Ahora vemos como se distribuye la variable evasion segun variables categoricas\n",
    "import seaborn as sns\n",
    "import matplotlib.pyplot as plt\n",
    "\n",
    "#categoricas = ['Contract', 'PaymentMethod', 'InternetService', 'Partner', 'Dependents','SeniorCitizen','']\n",
    "cat_cols = dataframe.select_dtypes(include='category').columns.tolist()\n",
    "\n",
    "for col in cat_cols:\n",
    "    plt.figure(figsize=(7,4))\n",
    "    sns.countplot(data=dataframe, x=col, hue='Churn', palette='Blues')\n",
    "    plt.title(f'Distribución de Churn según {col}')\n",
    "    plt.xlabel(col)\n",
    "    plt.ylabel('Número de Clientes')\n",
    "    plt.legend(title='Churn', labels=['No se dieron de baja', 'Se dieron de baja'])\n",
    "    plt.xticks(rotation=20)\n",
    "    plt.tight_layout()\n",
    "    plt.show()"
   ]
  },
  {
   "cell_type": "markdown",
   "id": "2d612bcb",
   "metadata": {},
   "source": [
    "aqui vemos que existe una cantidad casi igual de senior citizen que se de dan de baja con respecto a los que no se van para sacar un porcentaje numerico creamos un grafico que nos permita visualizar el porentaje"
   ]
  },
  {
   "cell_type": "code",
   "execution_count": 181,
   "id": "84891d8f",
   "metadata": {},
   "outputs": [
    {
     "data": {
      "image/png": "[encoded data removed]",
      "text/plain": [
       "<Figure size 1000x500 with 2 Axes>"
      ]
     },
     "metadata": {},
     "output_type": "display_data"
    }
   ],
   "source": [
    "import matplotlib.pyplot as plt\n",
    "\n",
    "fig, axes = plt.subplots(1, 2, figsize=(10, 5))\n",
    "\n",
    "for i, group in enumerate([0, 1]):\n",
    "    datos = dataframe[dataframe['SeniorCitizen'] == group]['Churn'].value_counts().sort_index()\n",
    "    labels = ['No se dieron de baja', 'Se dieron de baja']\n",
    "    colors = ['#6baed6', '#08306b']\n",
    "    axes[i].pie(datos, labels=labels, autopct='%1.1f%%', startangle=90, colors=colors)\n",
    "    if i == 0:\n",
    "        axes[i].set_title(f'Menor a 65 años (SeniorCitizen = {group})')\n",
    "    else:\n",
    "        axes[i].set_title(f'Mayor o igual a 65 años (SeniorCitizen = {group})')\n",
    "\n",
    "plt.suptitle('Distribución de evasion de clientes según franja de 65 años')\n",
    "plt.tight_layout()\n",
    "plt.show()"
   ]
  },
  {
   "cell_type": "code",
   "execution_count": 172,
   "id": "03dcf0c4",
   "metadata": {},
   "outputs": [
    {
     "name": "stderr",
     "output_type": "stream",
     "text": [
      "C:\\Users\\pgsan\\AppData\\Local\\Temp\\ipykernel_13432\\569582897.py:8: FutureWarning: \n",
      "\n",
      "Passing `palette` without assigning `hue` is deprecated and will be removed in v0.14.0. Assign the `x` variable to `hue` and set `legend=False` for the same effect.\n",
      "\n",
      "  sns.boxplot(data=dataframe, x='Churn', y=col, palette='Blues')\n"
     ]
    },
    {
     "data": {
      "image/png": "[encoded data removed]",
      "text/plain": [
       "<Figure size 700x400 with 1 Axes>"
      ]
     },
     "metadata": {},
     "output_type": "display_data"
    },
    {
     "name": "stderr",
     "output_type": "stream",
     "text": [
      "C:\\Users\\pgsan\\AppData\\Local\\Temp\\ipykernel_13432\\569582897.py:8: FutureWarning: \n",
      "\n",
      "Passing `palette` without assigning `hue` is deprecated and will be removed in v0.14.0. Assign the `x` variable to `hue` and set `legend=False` for the same effect.\n",
      "\n",
      "  sns.boxplot(data=dataframe, x='Churn', y=col, palette='Blues')\n"
     ]
    },
    {
     "data": {
      "image/png": "[encoded data removed]",
      "text/plain": [
       "<Figure size 700x400 with 1 Axes>"
      ]
     },
     "metadata": {},
     "output_type": "display_data"
    },
    {
     "name": "stderr",
     "output_type": "stream",
     "text": [
      "C:\\Users\\pgsan\\AppData\\Local\\Temp\\ipykernel_13432\\569582897.py:8: FutureWarning: \n",
      "\n",
      "Passing `palette` without assigning `hue` is deprecated and will be removed in v0.14.0. Assign the `x` variable to `hue` and set `legend=False` for the same effect.\n",
      "\n",
      "  sns.boxplot(data=dataframe, x='Churn', y=col, palette='Blues')\n"
     ]
    },
    {
     "data": {
      "image/png": "[encoded data removed]",
      "text/plain": [
       "<Figure size 700x400 with 1 Axes>"
      ]
     },
     "metadata": {},
     "output_type": "display_data"
    },
    {
     "name": "stderr",
     "output_type": "stream",
     "text": [
      "C:\\Users\\pgsan\\AppData\\Local\\Temp\\ipykernel_13432\\569582897.py:8: FutureWarning: \n",
      "\n",
      "Passing `palette` without assigning `hue` is deprecated and will be removed in v0.14.0. Assign the `x` variable to `hue` and set `legend=False` for the same effect.\n",
      "\n",
      "  sns.boxplot(data=dataframe, x='Churn', y=col, palette='Blues')\n"
     ]
    },
    {
     "data": {
      "image/png": "[encoded data removed]",
      "text/plain": [
       "<Figure size 700x400 with 1 Axes>"
      ]
     },
     "metadata": {},
     "output_type": "display_data"
    }
   ],
   "source": [
    "import seaborn as sns\n",
    "import matplotlib.pyplot as plt\n",
    "\n",
    "numericas = ['tenure', 'Monthly', 'Total', 'Cuentas_Diarias']\n",
    "\n",
    "for col in numericas:\n",
    "    plt.figure(figsize=(7,4))\n",
    "    sns.boxplot(data=dataframe, x='Churn', y=col, palette='Blues')\n",
    "    plt.title(f'Distribución de {col} según Churn')\n",
    "    plt.xlabel('Churn (0 = No, 1 = Sí)')\n",
    "    plt.ylabel(col)\n",
    "    plt.xticks([0, 1], ['No se dieron de baja', 'Se dieron de baja'])\n",
    "    plt.tight_layout()\n",
    "    plt.show()"
   ]
  },
  {
   "cell_type": "markdown",
   "id": "ede4cba3",
   "metadata": {},
   "source": [
    "#### Informe Final"
   ]
  },
  {
   "cell_type": "markdown",
   "id": "a9f5fd87",
   "metadata": {},
   "source": [
    "- Introducción: El objetivo de este analisis es determinar cuales serian los factores mas importantes por lo cual los clientes se dan de baja teniendo en cuenta variables categoricas y numericas relacionadas\n",
    "\n",
    "🔹 Limpieza y Tratamiento de Datos: Extraccion de los datos desde un json y su posterior normalizacion para convertirla a dataframe, exploracion del tipo de datos, se constato que existian valores vacios en la columna churn, la accion correctiva fue la eliminacion de dichas filas. Tambien entre los valores totales existian campos vacios al ser la proporcion muy pequeña estos se podian eliminar sin afectar el analisis.\n",
    "\n",
    "🔹 Análisis Exploratorio de Datos: Los analisis realizados son distribucion de evasion de clientes en proporcion mediante un grafico de barras, tambien como estan distrubuidos las variables categoricas segun la evasion mediante un grafico de barras para cada campo, \n",
    "\n",
    "🔹 Conclusiones e Insights:  \n",
    "- Evasion seria entre el 25% a 30% del total  \n",
    "- El riesgo de baja se concentra en clientes nuevos (tenure bajo), con contrato mensual, cargos mensuales altos, Internet por fibra, sin servicios adicionales (seguridad/backup/soporte) y que pagan con “electronic check”.  \n",
    "- Mayores de 65 muestran una tasa de churn sensiblemente más alta (~42%) que los menores (~24%)  \n",
    "\n",
    "Hallazgos clave:  \n",
    "\n",
    "- Contrato: Month-to-month es un motivo de evasion; 1 y 2 años retienen mucho mejor.\n",
    "\n",
    "- InternetService: En Fiber optic la evasion es sustancialmente mayor que en DSL y que en “No internet service”.\n",
    "\n",
    "- Servicios adicionales: Cuando el cliente sí tiene OnlineSecurity / OnlineBackup / DeviceProtection / TechSupport, la evasion disminuye de forma marcada.\n",
    "\n",
    "- PaymentMethod: Electronic check concentra mucha evasion; autopago con tarjeta o transferencia muestra abandono bajo.\n",
    "\n",
    "- SeniorCitizen: Mayor propensión a baja (ver tortas por franja).\n",
    "\n",
    "- Partner / Dependents: Tener pareja/dependientes se asocia con menor evasion.\n",
    "\n",
    "- Tenure: los que se dan de baja tienen antigüedad muy baja (mediana ~ pocos meses) vs ~3+ años en los que permanecen.\n",
    "\n",
    "- MonthlyCharges: los que se dan de baja tienden a pagar más por mes.\n",
    "\n",
    "- TotalCharges: es menor en quienes se dan de baja (efecto de menor tenure).\n",
    "\n",
    "- Cuentas_Diarias: ligera mayor mediana en churn; podría reflejar complejidad/roce de uso.\n",
    "\n",
    "🔹 Recomendaciones: Ofrece sugerencias estratégicas basadas en tu análisis."
   ]
  },
  {
   "cell_type": "markdown",
   "id": "c28c93aa",
   "metadata": {},
   "source": [
    "1. Migración de contrato: campaña para pasar month-to-month → 1 año, con descuento por 3–6 meses, bono por autopago y cancelación flexible (ventana de gracia).\n",
    "\n",
    "2. Empaquetar Internet + OnlineSecurity/Backup/Soporte con pequeño descuento con el objetivo de elevar adopción de add-ons en fibra.\n",
    "\n",
    "3. Incentivar autopago (tarjeta/transferencia) con beneficio mensual; desincentivar electronic check.\n",
    "\n",
    "4. Alertas de “bill shock” y revisión de plan para clientes con Monthly alto.\n",
    "\n",
    "5. Programa senior: canal de soporte dedicado, guía simplificada, y tech support gratuito 3 meses.\n",
    "\n",
    "6. Fibra en foco, posible servicio deficiente de fibra: revisar reclamos de fibra (instalación, estabilidad, precio); lanzar plan fidelidad fibra con upgrade temporal de velocidad.\n",
    "\n",
    "7. Lista semanal de alto gasto que amagan baja (outliers del “Total”): contacto proactivo y oferta personalizada."
   ]
  }
 ],
 "metadata": {
  "kernelspec": {
   "display_name": "Practica3",
   "language": "python",
   "name": "python3"
  },
  "language_info": {
   "codemirror_mode": {
    "name": "ipython",
    "version": 3
   },
   "file_extension": ".py",
   "mimetype": "text/x-python",
   "name": "python",
   "nbconvert_exporter": "python",
   "pygments_lexer": "ipython3",
   "version": "3.12.9"
  }
 },
 "nbformat": 4,
 "nbformat_minor": 5
}
